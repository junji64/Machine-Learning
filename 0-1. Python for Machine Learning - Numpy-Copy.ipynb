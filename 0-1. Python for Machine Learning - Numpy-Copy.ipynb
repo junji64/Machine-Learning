{
  "cells": [
    {
      "metadata": {},
      "cell_type": "markdown",
      "source": "# Python for Machine Learning - Numpy\n\nNumpy는 Python 과학분야 컴퓨팅을 위한 핵심 라이브러리입니다. 고성능 다차원 배열 객체와 이러한 배열 작업을 위한 도구를 제공합니다. "
    },
    {
      "metadata": {},
      "cell_type": "markdown",
      "source": "### Arrays\n\n* numpy 배열은 모두 같은 유형의 값들의 그리드이며, 음수가 아닌 정수의 튜플(tuple)에 의해 인덱싱됩니다.\n* 차원의 수는 배열의 순위입니다.\n* 배열의 모양은 각 차원을 따라 배열의 크기를 제공하는 정수의 튜플입니다.\n* 우리는 중첩된 파이썬 리스트로부터 numpy 배열을 초기화 할 수 있고, 대괄호를 사용하여 요소에 접근 할 수 있습니다."
    },
    {
      "metadata": {
        "trusted": false
      },
      "cell_type": "code",
      "source": "import numpy as np      # import numpy library\n\na = np.array([1, 2, 3]) # list를 array(배열)로 만드는 method\nprint(a, type(a))\nprint(a.shape)          # dimension을 보기(shape는 tuple형식의 문법으로 표현됨)\n\nprint(a[0], a[1], a[2]) # a의 0, 1, 2 번쨰 index에 위치한 요소를 접근 \na[0] = 5                # 특정 요소를 수정(a의 0번째 값을 5로 바꾸기)\nprint(a)                # 1이 5로 바뀜\n\nb = np.array([[1, 2, 3], [4, 5, 6]]) # 2차원 list를 2차원 array로 바꿈(2x3 배열)\nprint(b, b.shape)                    # (2,3) = 2 by 3 배열(tuple형식의 소괄호)\nprint(b[0,0], b[1,1], b[0,2])        # b의 (i,j) index에 위치한 요소를 접근",
      "execution_count": 21,
      "outputs": [
        {
          "name": "stdout",
          "output_type": "stream",
          "text": "[1 2 3] <class 'numpy.ndarray'>\n(3,)\n1 2 3\n[5 2 3]\n[[1 2 3]\n [4 5 6]] (2, 3)\n1 5 3\n"
        }
      ]
    },
    {
      "metadata": {},
      "cell_type": "markdown",
      "source": "Numpy는 또한 배열을 생성하는 많은 함수를 제공합니다 :"
    },
    {
      "metadata": {
        "trusted": false
      },
      "cell_type": "code",
      "source": "a = np.zeros((2, 2))       # 0으로 가득차 있는 (2 by 2) 배열 \nprint(a)\n\nb = np.ones((1, 2))        # 1로 가득차 있는 (1 by 2) 배열 \nprint(b)\n\nc = np.full((2, 2), 7)     # 7이라는 값으로 가득 채워진 (2 by 2) 배열 \nprint(c)\n\nd = np.eye(2)            # 단위행렬: 대각 요소만 1이고 나머지는 0 인 (2x2)행렬/배열\nprint(d)                 # 단위행렬은 항상 행과 열이 똑같다 (square matrix)\n\ne = np.random.random((2, 2)) # np에서 지원되는 random이라는 object안에서 random값을 생성하는 method\nprint(e)                    # 랜덤한 값(0~1 사이의 실수)으로 채워진 (2x2) 배열 ",
      "execution_count": 22,
      "outputs": [
        {
          "name": "stdout",
          "output_type": "stream",
          "text": "[[0. 0.]\n [0. 0.]]\n[[1. 1.]]\n[[7 7]\n [7 7]]\n[[1. 0.]\n [0. 1.]]\n[[0.11378306 0.03501953]\n [0.46167702 0.04892665]]\n"
        }
      ]
    },
    {
      "metadata": {
        "trusted": false
      },
      "cell_type": "code",
      "source": "a = np.arange(5)         # 0~4까지 숫자를 반환하는 method (python 에서는 .range())\nprint(a)\nb = np.arange(1, 3, 0.3) # 2~3사이를 0.3간격으로 샘플한 실수값을 반환 (3 보다는 작음) \nprint(b)\nc = np.linspace(1., 4., 5) # 1~4를 포함하는 5개의 등간격으로 샘플된 실수값을 반환\nprint(c)                   ",
      "execution_count": 24,
      "outputs": [
        {
          "name": "stdout",
          "output_type": "stream",
          "text": "[0 1 2 3 4]\n[1.  1.3 1.6 1.9 2.2 2.5 2.8]\n[1.   1.75 2.5  3.25 4.  ]\n"
        }
      ]
    },
    {
      "metadata": {},
      "cell_type": "markdown",
      "source": "[(링크) 다양한 배열 생성방법](https://docs.scipy.org/doc/numpy/user/basics.creation.html#arrays-creation)"
    },
    {
      "metadata": {},
      "cell_type": "markdown",
      "source": "### Array Indexing\n\nNumpy는 배열에 색인을 생성하는 몇 가지 방법을 제공합니다.\n\n**슬라이싱**: 파이썬 리스트와 마찬가지로, numpy 배열은 슬라이스 할 수 있습니다. 배열은 다차원 일 수 있으므로, 배열의 각 차원에 대해 슬라이스를 지정해야 합니다."
    },
    {
      "metadata": {
        "trusted": false
      },
      "cell_type": "code",
      "source": "a = np.array([[1, 2, 3, 4], [5, 6, 7, 8], [9, 10, 11, 12]]) # (3 by 4) 배열\nprint(a)\n\n# 조각난(sliced) 배열은 동일한 데이터에 대한 뷰이므로 수정하면 원래 배열이 수정됩니다.\n\nb = a[:2, 1:3]  # a의 첫번째부터 두번째 행까지, 두번째부터 세번째 열까지\nprint(b)\nprint(a[0,1])   # a의 첫번째 행, 두번째 열\nb[0,0] = 77     # slice 된 배열을 새로운 이름으로 해도 원래 배열을 그대로 가짐 (pointer 개념).\nprint(b)\nprint(a)",
      "execution_count": 25,
      "outputs": [
        {
          "name": "stdout",
          "output_type": "stream",
          "text": "[[ 1  2  3  4]\n [ 5  6  7  8]\n [ 9 10 11 12]]\n[[2 3]\n [6 7]]\n2\n[[77  3]\n [ 6  7]]\n[[ 1 77  3  4]\n [ 5  6  7  8]\n [ 9 10 11 12]]\n"
        }
      ]
    },
    {
      "metadata": {},
      "cell_type": "markdown",
      "source": "**정수 인덱싱**과 슬라이스 인덱싱을 혼용 할 수도 있습니다. 그러나 이렇게 하면 **원래 배열보다 낮은 차원의 배열**이 생성됩니다."
    },
    {
      "metadata": {
        "trusted": false
      },
      "cell_type": "code",
      "source": "a = np.array([[1, 2, 3, 4], [5, 6, 7, 8], [9, 10, 11, 12]])\nprint(a)\n\nrow_r1 = a[1, :]     # a의 두번째 행 (정수 인덱싱)\nrow_r2 = a[1:2, :]   # a의 두번째 행 (슬라이싱)\nprint(row_r1, row_r1.shape) # 정수 인덱싱을 하면 차원이 하나 줄어듬 (1차원 배열)\nprint(row_r2, row_r2.shape) # 행렬 형태 (2차원 행렬)\nprint(\"---*---\"*10)\ncol_r1 = a[:, 1]     # a의 두번째 열 (정수 인덱싱)\ncol_r2 = a[:, 1:2]   # a의 두번째 열 (슬라이싱)\nprint(col_r1, col_r1.shape)\nprint(col_r2, col_r2.shape)",
      "execution_count": 27,
      "outputs": [
        {
          "name": "stdout",
          "output_type": "stream",
          "text": "[[ 1  2  3  4]\n [ 5  6  7  8]\n [ 9 10 11 12]]\n[5 6 7 8] (4,)\n[[5 6 7 8]] (1, 4)\n---*------*------*------*------*------*------*------*------*------*---\n[ 2  6 10] (3,)\n[[ 2]\n [ 6]\n [10]] (3, 1)\n"
        }
      ]
    },
    {
      "metadata": {},
      "cell_type": "markdown",
      "source": "**정수 배열 인덱싱**: \n\n* 슬라이싱을 사용하여 numpy 배열로 인덱싱 할 때, 결과 배열은 항상 원래 배열의 차원을 유지하는 하위 배열이 됩니다. \n* 반대로 정수 배열 인덱싱을 사용하면, 다른 배열의 데이터를 사용하여 임의의 배열을 구성 할 수 있습니다. \n\n다음은 그 예입니다."
    },
    {
      "metadata": {
        "trusted": false
      },
      "cell_type": "code",
      "source": "a = np.array([[1, 2], [3, 4], [5, 6]])\nprint(a)\nprint(a[[0, 1 ,2], [0, 1, 0]])               # 특정한 element를 뽑기\nprint(np.array([a[0, 0], a[1, 1], a[2, 0]])) # 특정한 element를 뽑아서 배열로 만들어줌\nprint(a[[0,0], [1,1]])\nprint(np.array([a[0, 1], a[0, 1]]))",
      "execution_count": 28,
      "outputs": [
        {
          "name": "stdout",
          "output_type": "stream",
          "text": "[[1 2]\n [3 4]\n [5 6]]\n[1 4 5]\n[1 4 5]\n[2 2]\n[2 2]\n"
        }
      ]
    },
    {
      "metadata": {},
      "cell_type": "markdown",
      "source": "정수 배열 인덱싱을 사용하는 유용한 트릭은 행렬의 각 행에서 하나의 요소를 선택하거나 변경하는 것입니다."
    },
    {
      "metadata": {
        "trusted": false
      },
      "cell_type": "code",
      "source": "a = np.array([[1, 2, 3], [4, 5, 6], [7, 8, 9], [10, 11, 12]]) # (4x3) 배열\nprint(a)\nb = np.array([0, 2, 0, 1]) # a의 특정한 element 4개를 뽑아낼 때 사용할 index 번호\nprint(b)\nprint(a[np.arange(4), b]) # a[0,0], a[1,2], a[2,0], a[3,1]를 뽑아내기\na[np.arange(4), b] += 10  # a[0,0], a[1,2], a[2,0], a[3,1]에 10만큼 더함\nprint(a)",
      "execution_count": 29,
      "outputs": [
        {
          "name": "stdout",
          "output_type": "stream",
          "text": "[[ 1  2  3]\n [ 4  5  6]\n [ 7  8  9]\n [10 11 12]]\n[0 2 0 1]\n[ 1  6  7 11]\n[[11  2  3]\n [ 4  5 16]\n [17  8  9]\n [10 21 12]]\n"
        }
      ]
    },
    {
      "metadata": {},
      "cell_type": "markdown",
      "source": "**부울 배열 인덱싱** : 부울 배열 인덱싱을 사용하면 배열의 임의 요소를 선택할 수 있습니다. 이 유형의 인덱싱은 일부 조건을 충족하는 배열 요소를 선택하는 데 자주 사용됩니다. 다음은 그 예입니다."
    },
    {
      "metadata": {
        "trusted": false
      },
      "cell_type": "code",
      "source": "# 부울 배열 인덱싱: 배열 안에 부울 값만 넣고, 그 중에서 True 값만 뽑아내기\na = np.array([[1, 2], [3, 4], [5, 6]])\nprint(a)\n# 부울값으로 인덱스를 갖고 있는 배열\nbool_idx = (a > 2) # a라는 배열에 2보다 큰 값들을 찾아서, 그 값들의 부울 값 (True or False)\nprint(bool_idx)\nprint(a[bool_idx]) # True인 값을 가지는 인덱스 위치의 값을 뽑아냄\nprint(a[a>2])",
      "execution_count": 31,
      "outputs": [
        {
          "name": "stdout",
          "output_type": "stream",
          "text": "[[1 2]\n [3 4]\n [5 6]]\n[[False False]\n [ True  True]\n [ True  True]]\n[3 4 5 6]\n[3 4 5 6]\n"
        }
      ]
    },
    {
      "metadata": {},
      "cell_type": "markdown",
      "source": "간단히하기 위해 numpy 배열 인덱싱에 대한 많은 세부 사항을 생략했습니다.\n더 많은 것을 알고 싶다면 [문서 링크](https://docs.scipy.org/doc/numpy/reference/arrays.indexing.html)를 참고합니다."
    },
    {
      "metadata": {},
      "cell_type": "markdown",
      "source": "### Datatype\n\n각 numpy 배열은 동일한 유형의 요소 그리드입니다. \n\nNumpy는 배열을 생성하는 데 사용할 수 있는 많은 종류의 데이터 유형을 제공합니다.\n\nNumpy는 배열을 만들 때 데이터 유형을 추측하려 하지만, 배열을 생성하는 함수는 대게 데이터 유형을 명시적으로 지정하는 선택적 인수도 포함합니다. \n\n다음은 그 예입니다."
    },
    {
      "metadata": {},
      "cell_type": "markdown",
      "source": "import numpy as np\n\nx = np.array([1, 2])\nprint(x.dtype)         # x가 갖고 있는 값들의 datatype= 64bit 크기 정수\n\nx = np.array([1.0, 2.0])\nprint(x.dtype)         # x가 갖고 있는 값들의 datatype = 64bit자리 실수\n\nx = np.array([1, 2], dtype = np.float64) # 직접 datatype 주기: datatype를 np에서 제공되는 float64 type으로 만듦\nprint(x.dtype)\nprint(x)"
    },
    {
      "metadata": {},
      "cell_type": "markdown",
      "source": "### Array Math\n\n기본 수학 함수는 배열에서 요소 단위로 작동합니다."
    },
    {
      "metadata": {
        "trusted": false
      },
      "cell_type": "code",
      "source": "x = np.array([[1, 2], [3, 4]], dtype = np.float64)\ny = np.array([[5, 6], [7, 8]], dtype = np.float64)\n\nprint(x)\nprint(y)\n\nprint(x + y)             # 해당 요소들끼리의 덧셈\nprint(np.add(x, y))      # x와 y를 더해준 값\n\nprint(x - y)             # 해당 요소들끼리의 뺄셈\nprint(np.subtract(x, y)) # x와 y를 뺀 값",
      "execution_count": 36,
      "outputs": [
        {
          "name": "stdout",
          "output_type": "stream",
          "text": "[[1. 2.]\n [3. 4.]]\n[[5. 6.]\n [7. 8.]]\n[[ 6.  8.]\n [10. 12.]]\n[[ 6.  8.]\n [10. 12.]]\n[[-4. -4.]\n [-4. -4.]]\n[[-4. -4.]\n [-4. -4.]]\n"
        }
      ]
    },
    {
      "metadata": {
        "trusted": false
      },
      "cell_type": "code",
      "source": "print(x * y)             # 해당 요소들끼리의 곱셈\nprint(np.multiply(x, y)) # x와 y를 곱한 값\n\nprint(x / y)             # 해당 요소들끼리의 나눗셈\nprint(np.divide(x, y))   # x와 y를 나눈 값\n\nprint(x ** 3)            # 해당 요소들의 지수승\nprint(np.power(x,3))     # \n\nprint(np.sqrt(x))        # 해당 요소들의 제곱근",
      "execution_count": 41,
      "outputs": [
        {
          "name": "stdout",
          "output_type": "stream",
          "text": "[[ 5. 12.]\n [21. 32.]]\n[[ 5. 12.]\n [21. 32.]]\n[[0.2        0.33333333]\n [0.42857143 0.5       ]]\n[[0.2        0.33333333]\n [0.42857143 0.5       ]]\n[[ 1.  8.]\n [27. 64.]]\n[[ 1.  8.]\n [27. 64.]]\n[[1.         1.41421356]\n [1.73205081 2.        ]]\n"
        }
      ]
    },
    {
      "metadata": {},
      "cell_type": "markdown",
      "source": "numpy array들에 대한 * 는 행렬 곱셈이 아닌 요소별 곱셈입니다. 대신\n\n* 벡터의 inner product를 계산하고,\n* 벡터에 행렬을 곱하고,\n* 행렬과 행렬을 곱하기 위해\n\nnumpy.dot( ) 함수를 사용합니다. dot()는 numpy 모듈의 함수[ numpy.dot() ]와 배열 객체의 인스턴스 메서드로도 [ a_name.dot() ] 사용할 수 있습니다."
    },
    {
      "metadata": {
        "trusted": false
      },
      "cell_type": "code",
      "source": "x = np.array([[1, 2], [3, 4]])     # 2 by 2 행렬\ny = np.array([[5, 6], [7, 8]])     # 2 by 2 행렬\nprint(x)\nprint(y)\n\nv = np.array([9, 10])     # (2, )벡터 (1-dimensional array)\nw = np.array([11, 12])    # (2, )벡터 (1-dimensional array)\nprint(v, w)\n\n# 벡터와 벡터의 곱 \nprint(v.dot(w))          # v와 w의 dot product = (9 * 11 + 10 * 12)\nprint(np.dot(v, w))\n\n# 벡터와 행렬의 곱\nprint(x.dot(v))         # x와 v의 dot product = [(1*9 + 2*10),(3*9 + 4*10)]\nprint(np.dot(x, v))\n\n# 행렬 행렬의 곱\nprint(x.dot(y))         # x와 y의 dot product = [[(1*5 + 2*7),(1*6 + 2*8)], [(3 * 5 + 4 * 7), (3 * 6 + 4 * 8)]]\nprint(np.dot(x, y))",
      "execution_count": 42,
      "outputs": [
        {
          "name": "stdout",
          "output_type": "stream",
          "text": "[[1 2]\n [3 4]]\n[[5 6]\n [7 8]]\n[ 9 10] [11 12]\n219\n219\n[29 67]\n[29 67]\n[[19 22]\n [43 50]]\n[[19 22]\n [43 50]]\n"
        }
      ]
    },
    {
      "metadata": {},
      "cell_type": "markdown",
      "source": "Numpy는 배열에 대하여 계산을 수행하는 데 유용한 많은 함수을 제공합니다. 가장 유용한 것 중 하나가 sum입니다."
    },
    {
      "metadata": {
        "trusted": false
      },
      "cell_type": "code",
      "source": "x = np.array([[1, 2], [3, 4]])\nprint(np.sum(x)) # 모든 요소를 더한 값 (1 + 2 + 3 + 4)\nprint(np.sum(x, axis = 0)) # 행 (0번째) 방향으로 더하기\nprint(np.sum(x, axis = 1)) # 열 (1번째) 방향으로 더하기",
      "execution_count": 43,
      "outputs": [
        {
          "name": "stdout",
          "output_type": "stream",
          "text": "10\n[4 6]\n[3 7]\n"
        }
      ]
    },
    {
      "metadata": {},
      "cell_type": "markdown",
      "source": "numpy가 제공하는 수학 함수의 전체 목록은 [여기](https://docs.scipy.org/doc/numpy/reference/routines.math.html)에서 찾을 수 있습니다.\n\n배열을 사용하여 수학 함수를 계산하는 것 외에도 배열의 데이터를 변형하거나 조작해야하는 경우가 자주 있습니다.\n\n이 유형의 연산 중 가장 간단한 예제는 행렬을 전치(transpose) 하는 것입니다. 행렬을 transpose 하려면 단순히 배열 객체의 T 속성을 사용하십시오."
    },
    {
      "metadata": {
        "trusted": false
      },
      "cell_type": "code",
      "source": "x = np.array([[1, 1], [2, 2]])    # 행렬\nprint(x)\nprint(x.T)                        # 행과 열의 값이 뒤바뀜\n\nv = np.array([1, 2, 3])          # 1차원 벡터\nprint(v)\nprint(v.T)                       # 벡터는 transpose해도 똑같은 하나의 행으로 나타남",
      "execution_count": 45,
      "outputs": [
        {
          "name": "stdout",
          "output_type": "stream",
          "text": "[[1 1]\n [2 2]]\n[[1 2]\n [1 2]]\n[1 2 3]\n[1 2 3]\n"
        }
      ]
    },
    {
      "metadata": {},
      "cell_type": "markdown",
      "source": "Numpy는 배열 조작을 위한 많은 함수를 제공합니다. [여기](https://docs.scipy.org/doc/numpy/reference/routines.array-manipulation.html)에서 전체 목록을 볼 수 있습니다."
    },
    {
      "metadata": {
        "trusted": false
      },
      "cell_type": "code",
      "source": "",
      "execution_count": null,
      "outputs": []
    }
  ],
  "metadata": {
    "kernelspec": {
      "name": "python3",
      "display_name": "Python 3",
      "language": "python"
    },
    "language_info": {
      "mimetype": "text/x-python",
      "nbconvert_exporter": "python",
      "name": "python",
      "pygments_lexer": "ipython3",
      "version": "3.5.4",
      "file_extension": ".py",
      "codemirror_mode": {
        "version": 3,
        "name": "ipython"
      }
    }
  },
  "nbformat": 4,
  "nbformat_minor": 2
}