{
  "cells": [
    {
      "metadata": {
        "collapsed": true
      },
      "cell_type": "markdown",
      "source": "# Python for Machine Learning - Basic\n\n파이썬은 그 자체로 훌륭한 범용 프로그래밍 언어이면서, 몇 가지 인기있는 라이브러리 (numpy, matplotlib, scipy)의 도움을 받아 과학분야 컴퓨팅을 위한 강력한 환경을 제공합니다. 그 중에서 머신러닝에 꼭 필요한 기능들 만을 요약해서 설명합니다.\n\n0. Hello World!\n1. Data Types\n    * Numbers\n    * Booleans\n    * Strings\n2. Containers\n    * List\n    * Dictionary\n    * Tuple\n3. Function"
    },
    {
      "metadata": {
        "trusted": false
      },
      "cell_type": "code",
      "source": "# Hellow World! 출력 예제\nprint(\"Hello World!\")",
      "execution_count": 2,
      "outputs": [
        {
          "name": "stdout",
          "output_type": "stream",
          "text": "Hello World!\n"
        }
      ]
    },
    {
      "metadata": {},
      "cell_type": "markdown",
      "source": "## 1. Data Types\n### Numbers"
    },
    {
      "metadata": {
        "trusted": false
      },
      "cell_type": "code",
      "source": "x = 5             # 정수(integer)를 변수로 저장\nprint('x = ', x, type(x)) # 변수 값과 타입 출력\nprint('x + 1 = ', x + 1)      # 덧셈\nprint('x - 1 = ', x - 1)      # 뺄셈\nprint('x * 2 = ', x * 2)      # 곱셈\nprint('x ** 2 = ', x ** 2)     # 2의 제곱\nprint('x / 2 = ', x / 2)      # 나눗셈\nprint('x // 2 = ', x // 2)     # 몫 (quotient)\nprint('x % 2 = ', x % 2)      # 나머지 (remainder)\nx += 1; print('x += 1 => x = ', x) # 복합연산 (x = x + 1)\nx *= 2; print('x *= 2 => x = ', x) # 복합연산 (x = x * 2)\n#===========================\ny = 2.5 # 실수(float)를 변수로 저장\nprint('y = ', y, type(y))\nprint(y, y + 1, y - 1, y * 2, y ** 2)",
      "execution_count": 3,
      "outputs": [
        {
          "name": "stdout",
          "output_type": "stream",
          "text": "x =  5 <class 'int'>\nx + 1 =  6\nx - 1 =  4\nx * 2 =  10\nx ** 2 =  25\nx / 2 =  2.5\nx // 2 =  2\nx % 2 =  1\nx += 1 => x =  6\nx *= 2 => x =  12\ny =  2.5 <class 'float'>\n2.5 3.5 1.5 5.0 6.25\n"
        }
      ]
    },
    {
      "metadata": {},
      "cell_type": "markdown",
      "source": "**주의**: 많은 다른 프로그래밍 언어들과는 달리 파이썬에는 단항 증가(x++) 또는 단항 감소(x--) 연산자가 없습니다."
    },
    {
      "metadata": {},
      "cell_type": "markdown",
      "source": "### Booleans\n\n파이썬은 불리언 논리에 대한 모든 일반적인 연산자를 구현하지만 기호(&&, || 등) 보다는 영어 단어(and, or, not)를 사용합니다."
    },
    {
      "metadata": {
        "trusted": false
      },
      "cell_type": "code",
      "source": "t = True\nf = False\nprint(type(t)) # 논리값 타입\nprint('T and F =', t and f) # True and False\nprint('T or F =',  t or f)   # True or False\nprint('not T =',   not t)     # not True\nprint('T != F =',  t != f)   # True != (not equal) False",
      "execution_count": 4,
      "outputs": [
        {
          "name": "stdout",
          "output_type": "stream",
          "text": "<class 'bool'>\nT and F = False\nT or F = True\nnot T = False\nT != F = True\n"
        }
      ]
    },
    {
      "metadata": {},
      "cell_type": "markdown",
      "source": "### Strings\n\n파이썬은 문자열을 크게 지원합니다."
    },
    {
      "metadata": {
        "trusted": false
      },
      "cell_type": "code",
      "source": "h = \"hello\"   # 문자열을 변수로 저장\nw = 'world'\nprint(h)\nprint(len(h)) # 문자열의 길이\nhw = h + ' ' + w   # 문자열 연결 연산\nprint(hw)\ngreeting = '''\nHi!\n    Good morning...\n        nice to meet you\n'''\nprint(greeting)\nno = 2020\nhw12 = f'{h} {w} {no}'  # After v 3.6 \nprint(hw12)\nprint(f'Happy New {no}')",
      "execution_count": 5,
      "outputs": [
        {
          "name": "stdout",
          "output_type": "stream",
          "text": "hello\n5\nhello world\n\nHi!\n    Good morning...\n        nice to meet you\n\nhello world 2020\nHappy New 2020\n"
        }
      ]
    },
    {
      "metadata": {},
      "cell_type": "markdown",
      "source": "String 객체는 유용한 메소드를 많이 가지고 있다."
    },
    {
      "metadata": {
        "trusted": false
      },
      "cell_type": "code",
      "source": "s = \"hello\"\nprint(s.capitalize()) # 첫글자를 대문자로\nprint(s.upper())      # 대문자로\nprint(s.rjust(10))    # 오른쪽으로 정렬(왼쪽에 5개의 공백 (전체 너비 갯수 = 10))\nprint(s.center(11))    # 중앙정렬\nprint(s.replace('l', 'g')) # 'l'을 'g'로 대체 \nprint('   world'.strip()) # 공백 지우기",
      "execution_count": 6,
      "outputs": [
        {
          "name": "stdout",
          "output_type": "stream",
          "text": "Hello\nHELLO\n     hello\n   hello   \nheggo\nworld\n"
        }
      ]
    },
    {
      "metadata": {},
      "cell_type": "markdown",
      "source": "[(링크) 모든 문자열 메서드 목록](https://docs.python.org/3.5/library/stdtypes.html#string-methods)"
    },
    {
      "metadata": {},
      "cell_type": "markdown",
      "source": "## 5. Containers\n\n여러 데이타들을 묶어서 하나로 다루는데 유용한 파이썬의 기본 내장 컨테이너 유형에는 : list, dictionary, set, tuple 등이 있습니다.\n\n### 5.1 List\n\n리스트는 파이썬에서의 배열로써 크기를 변경할 수 있고(resizeable), 서로 다른 유형의 요소(숫자, 문자, 리스트, 등.)들을 포함할 수 있습니다."
    },
    {
      "metadata": {
        "trusted": false
      },
      "cell_type": "code",
      "source": "xs = [3, 1, 2]   # 리스트를 변수로 저장\nprint(xs, xs[2]) # 2번 인덱스(3-번째)에 있는 요소\nprint(xs[-1])    # 마지막 인덱스 (negative indices count from the end of the list)\nxs[2] = 'foo'    # 주어진 인덱스의 값을 변경\nprint(xs)\nxs.append('bar') # 마지막 값으로 추가\nprint(xs)\nx = xs.pop()     # 마지막 요소를 끄집어내기\nprint(x, xs) ",
      "execution_count": 7,
      "outputs": [
        {
          "name": "stdout",
          "output_type": "stream",
          "text": "[3, 1, 2] 2\n2\n[3, 1, 'foo']\n[3, 1, 'foo', 'bar']\nbar [3, 1, 'foo']\n"
        }
      ]
    },
    {
      "metadata": {
        "trusted": false
      },
      "cell_type": "code",
      "source": "list_1 = [1, 2, 3] # 변수명에 올 수 있는 기호: 문자, 숫자, 밑줄(_)\nprint(list_1)\nlist_1.append(4)\nprint(list_1)\nlist_1.append(\"a\")\nprint(list_1)     # List에 숫자, 문자를 함께 넣을 수 있다. \nprint(list_1[:2]) # 처음부터 2번 인덱스 전까지 (인덱스 0 에서 인덱스 1 까지)\ndel list_1[1]\nprint(list_1)\nlist_1.pop()\nprint(list_1)",
      "execution_count": 8,
      "outputs": [
        {
          "name": "stdout",
          "output_type": "stream",
          "text": "[1, 2, 3]\n[1, 2, 3, 4]\n[1, 2, 3, 4, 'a']\n[1, 2]\n[1, 3, 4, 'a']\n[1, 3, 4]\n"
        }
      ]
    },
    {
      "metadata": {},
      "cell_type": "markdown",
      "source": "**Slicing**: 목록 요소를 한 번에 하나씩 액세스하는 것 외에도 Python은 일부 목록에 액세스하기 위한 간결한 구문을 제공합니다. 이를 \"**Slicing**\" 이라 부릅니다"
    },
    {
      "metadata": {
        "trusted": false
      },
      "cell_type": "code",
      "source": "nums = list(range(5)) # 0부터 시작해서 5라는 숫자 앞까지 숫자로 리턴 \nprint(nums)\nprint(nums[2:4])      # 2부터 4번 인덱스 전까지\nprint(nums[2:])       # 2부터 마지막 인덱스 전까지\nprint(nums[:2])       # 0부터 2번 인덱스 전까지\nprint(nums[:])        # 0부터 마지막 인덱스 까지 \nprint(nums[:-1])      # 0부터 마지막 인덱스 전까지\nnums[2:4] = [8, 9]    # 2,3이 8,9로 바꿔치기됨\nprint(nums)",
      "execution_count": 9,
      "outputs": [
        {
          "name": "stdout",
          "output_type": "stream",
          "text": "[0, 1, 2, 3, 4]\n[2, 3]\n[2, 3, 4]\n[0, 1]\n[0, 1, 2, 3, 4]\n[0, 1, 2, 3]\n[0, 1, 8, 9, 4]\n"
        }
      ]
    },
    {
      "metadata": {},
      "cell_type": "markdown",
      "source": "**Loops**: 다음과 같이 리스트의 요소들에 대하여 반복 할 수 있습니다."
    },
    {
      "metadata": {
        "trusted": false
      },
      "cell_type": "code",
      "source": "animals = ['cat', 'dog', 'monkey'] # 루프에 사용할 변수명\nfor animal in animals:\n    print(animal) # indentation이 되어야 for의 영향권에 있음",
      "execution_count": 10,
      "outputs": [
        {
          "name": "stdout",
          "output_type": "stream",
          "text": "cat\ndog\nmonkey\n"
        }
      ]
    },
    {
      "metadata": {},
      "cell_type": "markdown",
      "source": "프로그래밍 할 때 종종 한 유형의 데이터를 다른 데이터로 변환할 경우가 있습니다. 간단한 예로, 제곱 값을 계산하는 다음 코드를 생각해 보십시오."
    },
    {
      "metadata": {
        "trusted": false
      },
      "cell_type": "code",
      "source": "nums = [0, 1, 2, 3, 4]\nsquares = []\nfor x in nums:\n    squares.append(x ** 2)  # 전달받은 값들의 제곱값\nprint(squares)",
      "execution_count": 11,
      "outputs": [
        {
          "name": "stdout",
          "output_type": "stream",
          "text": "[0, 1, 4, 9, 16]\n"
        }
      ]
    },
    {
      "metadata": {},
      "cell_type": "markdown",
      "source": "**List Comprehension** 을 사용하여, 이 코드를 더 간단하게 만들 수 있습니다."
    },
    {
      "metadata": {
        "trusted": false
      },
      "cell_type": "code",
      "source": "squares = [x ** 2 for x in nums]\nprint(squares)",
      "execution_count": 12,
      "outputs": [
        {
          "name": "stdout",
          "output_type": "stream",
          "text": "[0, 1, 4, 9, 16]\n"
        }
      ]
    },
    {
      "metadata": {},
      "cell_type": "markdown",
      "source": "**List Comprehension** 은 또한 조건을 포함 할 수도 있습니다."
    },
    {
      "metadata": {
        "trusted": false
      },
      "cell_type": "code",
      "source": "even_squares = [x ** 2 for x in nums if x % 2 == 0]\nprint(even_squares)",
      "execution_count": 13,
      "outputs": [
        {
          "name": "stdout",
          "output_type": "stream",
          "text": "[0, 4, 16]\n"
        }
      ]
    },
    {
      "metadata": {},
      "cell_type": "markdown",
      "source": "### 5.2 Dictionary\n\nDictionary는 Java의 Map 또는 Javascript의 오브젝트와 유사한 (키, 값) 쌍을 저장합니다. 다음과 같이 사용할 수 있습니다."
    },
    {
      "metadata": {
        "trusted": false
      },
      "cell_type": "code",
      "source": "d = {\n    'cat':'cute', \n    'dog':'furry'\n}\nprint(d['cat'])   # 'cat'이라는 key 값을 사용 \nprint('cat' in d) # d에 'cat'값이 있는지 확인\n\nd['fish'] = 'wet'    # (key,value) 요소 추가\nprint(d['fish'])\ndel d['fish']        # key값을 지우기\nprint(d)",
      "execution_count": 14,
      "outputs": [
        {
          "name": "stdout",
          "output_type": "stream",
          "text": "cute\nTrue\nwet\n{'cat': 'cute', 'dog': 'furry'}\n"
        }
      ]
    },
    {
      "metadata": {},
      "cell_type": "markdown",
      "source": "**Loops** : dictionary의 키를 반복하는 것은 쉽습니다."
    },
    {
      "metadata": {},
      "cell_type": "markdown",
      "source": "d = {'person':2, 'cat':4, 'spider':8}\nfor animal in d:\n    legs = d[animal]     # 하나의 특정한값을 접근하기 위해 [] 사용\n    print('A %s has %d legs' %(animal, legs))"
    },
    {
      "metadata": {},
      "cell_type": "markdown",
      "source": "키와 해당 값에 액세스하려면 items 메서드를 사용합니다."
    },
    {
      "metadata": {
        "trusted": false
      },
      "cell_type": "code",
      "source": "d = {'person':2, 'cat':4, 'spider':8}\nfor animal, legs in d.items():\n    print('A %s has %d legs' % (animal, legs)) # key, value값 모두 리턴",
      "execution_count": 15,
      "outputs": [
        {
          "name": "stdout",
          "output_type": "stream",
          "text": "A person has 2 legs\nA cat has 4 legs\nA spider has 8 legs\n"
        }
      ]
    },
    {
      "metadata": {},
      "cell_type": "markdown",
      "source": "Dictionary comprehension: 이것은 List Comprehension과 유사하지만, 쉽게 사전을 구성 할 수 있게 해줍니다. 예 :"
    },
    {
      "metadata": {
        "trusted": false
      },
      "cell_type": "code",
      "source": "nums = [0, 1, 2, 3, 4]\neven_num_to_square = {x: x**2 for x in nums if x % 2 ==0} # 2의 배수만 골라서 넣어주기\nprint(even_num_to_square)",
      "execution_count": 16,
      "outputs": [
        {
          "name": "stdout",
          "output_type": "stream",
          "text": "{0: 0, 2: 4, 4: 16}\n"
        }
      ]
    },
    {
      "metadata": {},
      "cell_type": "markdown",
      "source": "### 5.3 Tuples\n\n튜플은 (1), (3,2) 또는 (4,2,1) .. 과 같은 괄호 안의 쉼표로 구분된 숫자들로 구성되며, 값이 **불변(변경이 불가함)하는** 목록입니다. 튜플은 여러 면에서 리스트와 유사합니다. 가장 중요한 차이점 중 하나는 튜플을 **Dictionary**의 키로 사용할 수 있고, **List**의 요소로 사용할 수 있다는 것입니다. **numpy의 배열(array)**에서는 모양을 정의할 때 사용된다. 다음은 간단한 예입니다."
    },
    {
      "metadata": {
        "trusted": false
      },
      "cell_type": "code",
      "source": "d = {(x, x + 1): x for x in range(10)}\nprint(d)\nt = (5, 6)\nprint(type(t))\nprint(d[t])\nprint(d[(1, 2)])",
      "execution_count": 19,
      "outputs": [
        {
          "name": "stdout",
          "output_type": "stream",
          "text": "{(0, 1): 0, (1, 2): 1, (2, 3): 2, (3, 4): 3, (4, 5): 4, (5, 6): 5, (6, 7): 6, (7, 8): 7, (8, 9): 8, (9, 10): 9}\n<class 'tuple'>\n5\n1\n"
        }
      ]
    },
    {
      "metadata": {},
      "cell_type": "markdown",
      "source": "## 6. Functions \n\n파이썬 함수는 **def** 키워드를 사용하여 정의됩니다. \n예 :"
    },
    {
      "metadata": {
        "trusted": false
      },
      "cell_type": "code",
      "source": "def sign(x):\n    if x > 0:\n        return 'positive'\n    elif x < 0:\n        return 'negative'\n    else:\n        return 'zero'\n\nfor x in [-1, 0, 1]:\n    print(sign(x))",
      "execution_count": 17,
      "outputs": [
        {
          "name": "stdout",
          "output_type": "stream",
          "text": "negative\nzero\npositive\n"
        }
      ]
    },
    {
      "metadata": {},
      "cell_type": "markdown",
      "source": "다음과 같이 선택적 키워드 인수를 취하는 함수를 정의합니다."
    },
    {
      "metadata": {
        "trusted": false
      },
      "cell_type": "code",
      "source": "def hello(name, loud=False): # loud의 default값 = False\n    if loud:\n        print(f'HELLO, {name.upper()}!')   \n    else:\n        print(f'Hello, {name}!')\n\nhello('Bob')\nhello('Fred', loud=True)",
      "execution_count": 1,
      "outputs": [
        {
          "name": "stdout",
          "output_type": "stream",
          "text": "Hello, Bob!\nHELLO, FRED!\n"
        }
      ]
    }
  ],
  "metadata": {
    "kernelspec": {
      "name": "python3",
      "display_name": "Python 3",
      "language": "python"
    },
    "language_info": {
      "mimetype": "text/x-python",
      "nbconvert_exporter": "python",
      "name": "python",
      "file_extension": ".py",
      "version": "3.5.4",
      "pygments_lexer": "ipython3",
      "codemirror_mode": {
        "version": 3,
        "name": "ipython"
      }
    }
  },
  "nbformat": 4,
  "nbformat_minor": 2
}