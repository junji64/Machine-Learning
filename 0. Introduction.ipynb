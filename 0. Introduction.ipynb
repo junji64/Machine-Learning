{
  "cells": [
    {
      "metadata": {
        "collapsed": true
      },
      "cell_type": "markdown",
      "source": "# Introduction\n\n### 기계학습 (Machine Learning)\n* 인공지능의 한 분야로 발전\n* 컴퓨터의 새로운 능력\n  - (예) data mining : 웹 클릭자료, 의료기록, 생물학, 공학 등과 같은 자동으로 불어나는 큰 자료들\n  - (예) 직접적 프로그래밍이 불가능한 응용 : 자동 헬리콥터운행, 필기체 인식, NLP(Natural Language Processing), 컴퓨터 비젼 등\n  - (몌) 자가조절 프로그램: Amazon, Netflix 상품 추천\n  - (예) 인지학습의 이해 (뇌, 실제지능)\n  \n  \n### 기계학습이란?\n\n* Arthur Samuel (1959). 기계학습은 컴퓨터에게 명시적인 프로그램 없이 학습능력을 제공하는 것에\n대한 학문 분야이다.\n* Tom Mitchell (1998) 잘-구성된 학습 문제로서 \"성능(performance) P로 측정되는 임무(task) T에 대한 성능이 경험(experience) E에 따라 향상된다면, 컴퓨터 프로그램은 어떤 임무 T 와 성능 측정 값 P 에 대한 경험 E로부터 학습한다고 말한다.\"\n* (예) 당신의 이메일 프로그램이 당신이 어느 이메일을 스팸으로 또는 스팸이 아닌 것으로 표시하는 것을 관찰하고, 그것에 기초하여 스팸을 필터하는 더 나은 방법을 학습한다고 가정하자. 이러한 설정에서 임무 T 는 무엇인가? \n  - (T) 이메일을 스팸 또는 스팸아님 으로 분류\n  - (E) 당신이 이메일을 스팸 또는 스팸아님으로 라벨하는 것을 관찰.\n  - (P) 스팸/스펨아님으로 정확히 분류된 이메일의 수(또는 비율)\n  - 위의 어느 것도 아님 – 이것은 기계학습 문제가 아님.\n  \n### 기계학습 알고리즘들\n* 교사/감독 학습 (Supervised Learning)\n* 비교사/무감독 학습 (Unsupervised Learning)\n* 강화학습 (Reinforced Learning)"
    },
    {
      "metadata": {},
      "cell_type": "markdown",
      "source": "## 교사학습 (Supervised Learning)\n\n"
    },
    {
      "metadata": {},
      "cell_type": "markdown",
      "source": "$$z = \\sum_{i=0}^m w_i x_i = w_0 + w_1 x_1 + w_2 x_2 + \\cdots w_m x_m $$ \n\n$$ f(z) = { 1 \\over 1 + e^{-z}} $$\n\n$$ f(z) =\n  \\begin{cases}\n    0  & \\text{ if }\\quad 0 > z \\\\\n    1  & \\text{ if }\\quad z > 0\n  \\end{cases}\n$$"
    },
    {
      "metadata": {
        "trusted": true
      },
      "cell_type": "markdown",
      "source": "$$a_j^{(i)} : \\text{ activation at }(i)_{th} \\text{ layer & } j_{th} \\text{ node} $$\n"
    },
    {
      "metadata": {
        "trusted": true
      },
      "cell_type": "markdown",
      "source": "$$  V(D,G) = \\log D(x) +  \\log(1-D(G(z))) $$\n\n\n$$ \\min_G \\max_D \\{ V(D,G) = \\log D(x) +  \\log(1-D(G(z))) \\}$$\n\n\n$$\\max_D \\{V(D,G) = \\log D(x) +  \\log(1-D(G(z)))\\}$$\n\n\n$$ \\min_G\\{V(G) = \\log(1-D(G(z)))\\}$$\n\n\n$$ \\min_G \\{V(G) = -\\log D(G(z))\\}$$"
    },
    {
      "metadata": {
        "trusted": true
      },
      "cell_type": "code",
      "source": "",
      "execution_count": null,
      "outputs": []
    }
  ],
  "metadata": {
    "kernelspec": {
      "name": "python36",
      "display_name": "Python 3.6",
      "language": "python"
    },
    "language_info": {
      "mimetype": "text/x-python",
      "nbconvert_exporter": "python",
      "name": "python",
      "pygments_lexer": "ipython3",
      "version": "3.6.6",
      "file_extension": ".py",
      "codemirror_mode": {
        "version": 3,
        "name": "ipython"
      }
    }
  },
  "nbformat": 4,
  "nbformat_minor": 2
}