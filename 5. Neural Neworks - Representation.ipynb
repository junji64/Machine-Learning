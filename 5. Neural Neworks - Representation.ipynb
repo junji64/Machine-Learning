{
 "cells": [
  {
   "cell_type": "markdown",
   "metadata": {
    "collapsed": true,
    "slideshow": {
     "slide_type": "fragment"
    }
   },
   "source": [
    "# 신경망(Neural Networks) : Representation\n",
    "\n",
    "## Non-linear hypotheses"
   ]
  },
  {
   "cell_type": "markdown",
   "metadata": {},
   "source": [
    "#### Non-linear Classification \n",
    "선형회귀와 로지스틱 회귀 외에, **왜 또 다른 방법이 필요**한가?\n",
    "\n",
    "  .  |  .   .   .   .   .   .   .   .   .   .   .   .   .   .   .   .  .  .   .   .   .   .   .   .   .   .   .   .   .   .   .   .  | \n",
    "--|--|\n",
    "<img src=\"./images/nonlinear_data_2.png\" width=\"250\"> | 로지스틱 회귀의 경우 <br> <br> $g(\\theta_0 + \\theta_1 x_1 + \\theta_2 x_2 +\\theta_3 x_1 x_2 + \\theta_4 x_1^2 x_2 + \\theta_5 x_1^3 x_2 + \\theta_6 x_1 x_2^2 + \\cdots )$ |\n",
    "\n",
    "$x_1 =$ 크기 <br>\n",
    "$x_2 =$ # 침실 <br>\n",
    "$x_3 =$ # 층 <br>\n",
    "$x_4 =$ age <br>\n",
    "$\\cdots$ <br>\n",
    "$x_{100} =$\n",
    "\n",
    "==> 특징의 개수가 많아질 때, 고차 다항식 방법(High order polynomial)은 너무 많은 매개변수를 필요로 함 "
   ]
  },
  {
   "cell_type": "markdown",
   "metadata": {},
   "source": [
    "#### What is This?\n",
    "\n",
    "<img src=\"./images/car-what.png\">"
   ]
  },
  {
   "cell_type": "markdown",
   "metadata": {},
   "source": [
    "#### 컴퓨터 비젼 : 자동차 감지\n",
    "\n",
    "<img src=\"./images/cars.png\">\n",
    "<hr>"
   ]
  },
  {
   "cell_type": "markdown",
   "metadata": {},
   "source": [
    "<img src=\"./images/car-detect.png\" width=\"450\" align=\"left\">"
   ]
  },
  {
   "cell_type": "markdown",
   "metadata": {},
   "source": [
    "<img src=\"./images/car-detect_2.png\"  width=\"450\" align=\"left\">\n"
   ]
  },
  {
   "cell_type": "markdown",
   "metadata": {},
   "source": [
    "<img src=\"./images/car-recognition-3.PNG\"  width=\"550\">\n",
    "<br>\n",
    "<br>\n",
    "**따라서, 인식에 사용되는 특징들의 수가 크고, 결정 경계가 비선형이 되어야 하면, 고차항 다항식을 사용한 로지스틱 회귀 보다는 다른 방법(e.g. 인공신경망방법)이 바람직하다.**"
   ]
  },
  {
   "cell_type": "markdown",
   "metadata": {},
   "source": [
    "## Neurons and the brain\n",
    "\n",
    "#### Neural Networks\n",
    "\n",
    "* 기원 (1950년대 부터) : 뇌를 모방하려고 하는 알고리즘.\n",
    "* 80 년대와 90 년대 초에 매우 널리 사용되었습니다. \n",
    "* 90년대 후반에 인기가 떨어졌습니다.\n",
    "* 최근 2010년 이후 부활 : 딥러닝 알고리즘의 개발, GPU 활용한 빠른 계산 가능, 및 충분한 훈련자료의 확보가 가능해지면서, 많은 응용 분야에서 최첨단 기술로 활용 중.\n"
   ]
  },
  {
   "cell_type": "markdown",
   "metadata": {},
   "source": [
    "#### \"한가지 학습 알고리즘\" 가설\n",
    "청각 피질(auditory cortex)이 시각을 학습합니다.\n",
    "<img src=\"./images/auditory_cortex.png\" width=\"400\">\n"
   ]
  },
  {
   "cell_type": "markdown",
   "metadata": {},
   "source": [
    "#### \"한가지 학습 알고리즘\" 가설\n",
    "\n",
    "체성감각 피질(somatosensory cortex)이 시각을 학습합니다.\n",
    "<img src=\"./images/somatosensory_cortex.png\" width=\"400\">\n",
    "\n"
   ]
  },
  {
   "cell_type": "markdown",
   "metadata": {},
   "source": [
    "\n",
    "#### Sensor representations in the brain\n",
    "<img src=\"./images/sensor_in_the_brain.png\">\n"
   ]
  },
  {
   "cell_type": "markdown",
   "metadata": {},
   "source": [
    "## 모델 표현 I\n",
    "\n",
    "#### 뇌속의 신경세포\n",
    "\n",
    "<img src=\"./images/neuron_cell.png\" width=\"350\">"
   ]
  },
  {
   "cell_type": "markdown",
   "metadata": {},
   "source": [
    "<img src=\"./images/neuron_cells.png\" width=\"300\">"
   ]
  },
  {
   "cell_type": "markdown",
   "metadata": {},
   "source": [
    "#### 신경세포 모델 : 논리 유닛 (Logistic unit)\n",
    "\n",
    "<img src=\"./images/nn_one.png\" width=\"200\">\n",
    "\n",
    "$ x = \\begin{bmatrix}\n",
    "x_0 \\\\\n",
    "x_1 \\\\\n",
    "x_2 \\\\\n",
    "x_3\n",
    "\\end{bmatrix}\n",
    "$\n",
    "$ \\quad  \\theta = \\begin{bmatrix}\n",
    "\\theta_0 \\\\\n",
    "\\theta_1 \\\\\n",
    "\\theta_2 \\\\\n",
    "\\theta_3\n",
    "\\end{bmatrix}\n",
    "\\quad \\quad $\n",
    "Sigmoid (logistic) 활성함수\n",
    "\n",
    "<br>"
   ]
  },
  {
   "cell_type": "markdown",
   "metadata": {},
   "source": [
    "**Neural Network**\n",
    "\n",
    "\n",
    "<img src=\"./images/nn_two.png\" width=\"400\">\n",
    "\n",
    "<br>\n",
    "\n",
    "<br>"
   ]
  },
  {
   "cell_type": "markdown",
   "metadata": {},
   "source": [
    "**neural network**\n",
    "\n",
    "<img src=\"./images/nn_two.png\" width=\"200\" align=\"left\">\n",
    "\n",
    "<br>\n",
    "<br>\n",
    "$\\quad a_i^{(j)} = $ j-층의 i-유닛의 \"활성\"\n",
    "\n",
    "$\\quad \\Theta^{(j)} =$ j-층에서 j+1층으로의 함수 매핑을 제어하는 가중치 행렬\n",
    "\n",
    "<br>\n",
    "\n",
    "<br>\n",
    "\n",
    "$$ a_1^{(2)} = g( \\Theta_{10}^{(1)}x_0 + \\Theta_{11}^{(1)}x_1 + \\Theta_{12}^{(1)}x_2 + \\Theta_{13}^{(1)}x_3 )$$\n",
    "$$ a_2^{(2)} = g( \\Theta_{20}^{(1)}x_0 + \\Theta_{21}^{(1)}x_1 + \\Theta_{22}^{(1)}x_2 + \\Theta_{23}^{(1)}x_3 )$$\n",
    "$$ a_3^{(2)} = g( \\Theta_{30}^{(1)}x_0 + \\Theta_{31}^{(1)}x_1 + \\Theta_{32}^{(1)}x_2 + \\Theta_{33}^{(1)}x_3 )$$\n",
    "\n",
    "$$ h_\\Theta (x) =  a_1^{(3)} = g( \\Theta_{10}^{(2)}a_0^{(2)} + \\Theta_{11}^{(2)}a_1^{(2)} + \\Theta_{12}^{(2)}a_2^{(2)} + \\Theta_{13}^{(2)}a_3^{(2)} )$$\n",
    "\n",
    "네트워크에 $j$ 층에 $s_j$ 유닛이 그리고, $j+1$ 층에 $s_{j+1}$ 유닛이 있으면, $\\Theta^{(j)}$ 의 크기는 $s_{j+1} \\times (s_j + 1)$ 이 된다."
   ]
  },
  {
   "cell_type": "markdown",
   "metadata": {},
   "source": [
    "## 모델 표현 II\n",
    "\n",
    "#### 전방향전파 : 벡터화 구현\n",
    "<img src=\"./images/nn_two.png\" width=\"250\">\n",
    "\n",
    "$$ a_1^{(2)} = g( \\Theta_{10}^{(1)}x_0 + \\Theta_{11}^{(1)}x_1 + \\Theta_{12}^{(1)}x_2 + \\Theta_{13}^{(1)}x_3 )$$\n",
    "$$ a_2^{(2)} = g( \\Theta_{20}^{(1)}x_0 + \\Theta_{21}^{(1)}x_1 + \\Theta_{22}^{(1)}x_2 + \\Theta_{23}^{(1)}x_3 )$$\n",
    "$$ a_3^{(2)} = g( \\Theta_{30}^{(1)}x_0 + \\Theta_{31}^{(1)}x_1 + \\Theta_{32}^{(1)}x_2 + \\Theta_{33}^{(1)}x_3 )$$\n",
    "\n",
    "$$ h_\\Theta (x) =  a_1^{(3)} = g( \\Theta_{10}^{(2)}a_0^{(2)} + \\Theta_{11}^{(2)}a_1^{(2)} + \\Theta_{12}^{(2)}a_2^{(2)} + \\Theta_{13}^{(2)}a_3^{(2)} )$$\n",
    "\n",
    "$ x = \\begin{bmatrix}\n",
    "x_0 \\\\\n",
    "x_1 \\\\\n",
    "x_2 \\\\\n",
    "x_3\n",
    "\\end{bmatrix}\n",
    "$\n",
    "$ \\quad z^{(2)} = \\begin{bmatrix}\n",
    "z_1^{(2)} \\\\\n",
    "z_2^{(2)} \\\\\n",
    "z_3^{(2)} \\\\\n",
    "\\end{bmatrix}\n",
    "\\quad $\n",
    "\n",
    "Add $x_0 = 1$\n",
    "\n",
    "$z^{(2)} = \\Theta^{(1)}x = \\Theta^{(1)}a^{(1)}$ <br>\n",
    "$a^{(2)} = g(z^{(2)})$ <br>\n",
    "\n",
    "Add $a_0^{(2)} = 1.$\n",
    "\n",
    "$z^{(3)} = \\Theta^{(2)}a^{(2)}$<br>\n",
    "$h_\\theta(x) = a^{(3)} = g(z^{(3)})$"
   ]
  },
  {
   "cell_type": "markdown",
   "metadata": {},
   "source": [
    "#### 자신의 특징을 학습하는 신경망\n",
    "\n",
    "<img src=\"./images/nn_two.png\" width=\"350\">\n",
    "\n",
    "<br>\n",
    "$$ h_\\Theta (x) =  g( \\Theta_{10}^{(2)}a_0^{(2)} + \\Theta_{11}^{(2)}a_1^{(2)} + \\Theta_{12}^{(2)}a_2^{(2)} + \\Theta_{13}^{(2)}a_3^{(2)} )$$\n",
    "<br>\n",
    "$$x_1, x_2, x_3 \\quad \\rightarrow \\quad a_1^{(2)},a_2^{(2)},a_3^{(2)}$$\n",
    "<br>\n",
    "\n",
    "<br>\n"
   ]
  },
  {
   "cell_type": "markdown",
   "metadata": {},
   "source": [
    "**Other network architectures**\n",
    "\n",
    "<img src=\"./images/nn_three.png\" width=\"450\">\n",
    "\n",
    "<br>\n",
    "\n",
    "<br>\n",
    "\n",
    "<br>\n",
    "\n",
    "<br>"
   ]
  },
  {
   "cell_type": "markdown",
   "metadata": {},
   "source": [
    "## Examples and intituitions I\n",
    "\n",
    "#### 비선형 분류 예 : XOR, XNOR\n",
    "\n",
    "$x_1, x_2$는 이진수(binary) (0 or 1)\n",
    "\n",
    "<img src=\"./images/xor_0.png\" width=\"200\" align=\"left\">\n",
    "<img src=\"./images/xor.png\" width=\"200\">\n",
    "\n",
    "$ y = x_1 \\text{ XOR } x_2 $\n",
    " \n",
    "$ y = x_1 \\text{ XNOR } x_2 = \\text{NOT } (x_1 \\text{ XOR } x_2)$\n",
    "\n",
    "<br>"
   ]
  },
  {
   "cell_type": "markdown",
   "metadata": {},
   "source": [
    "#### Simple example: AND\n",
    "\n",
    "$x_1, x_2 \\in \\{0, 1\\}$\n",
    "\n",
    "$y = x_1 \\text{ AND } x_2 $\n",
    "\n",
    "let $ w_0 = -30, w_1=20, w_2=20$\n",
    "\n",
    "<img src=\"./images/NN_and.png\" width=\"250\" align=\"left\">\n",
    "\n",
    ">\n",
    "\n",
    "| $x_1$ | $x_2$ | $h_\\theta(x)$\n",
    "|-------|-------|--------------\n",
    "|  0    |   0   | $g(-30) \\approx 0$\n",
    "|  0    |   1   |$g(-10) \\approx 0$\n",
    "|  1    |   0   |$g(-10) \\approx 0$\n",
    "|  1    |   1   |$g(10) \\approx 1$\n",
    "\n",
    "$ h_\\Theta (x) =  g( -30 +20 x_1 + 20 x_2 )$\n",
    "<br>\n",
    "\n",
    "<br>"
   ]
  },
  {
   "cell_type": "markdown",
   "metadata": {},
   "source": [
    "\n",
    "#### Simple example: OR\n",
    "\n",
    "$x_1, x_2 \\in \\{0, 1\\}$\n",
    "\n",
    "$y = x_1 \\text{ OR } x_2$\n",
    "\n",
    "let $ w_0 = -10, w_1=20, w_2=20$\n",
    "\n",
    "<img src=\"./images/NN_and.png\" width=\"250\" align=\"left\">\n",
    "\n",
    ">\n",
    "\n",
    "| $x_1$ | $x_2$ | $h_\\theta(x)$\n",
    "|-------|-------|--------------\n",
    "|  0    |   0   | $g(-10) \\approx 0$\n",
    "|  0    |   1   |$g(10) \\approx 1$\n",
    "|  1    |   0   |\n",
    "|  1    |   1   |\n",
    "\n",
    "$ h_\\Theta (x) =  g( -10 +20 x_1 + 20 x_2 )$\n",
    "<br>\n",
    "\n",
    "<br>"
   ]
  },
  {
   "cell_type": "markdown",
   "metadata": {},
   "source": [
    "#### Simple example: NOT\n",
    "\n",
    "$x_1 \\in \\{0, 1\\}$\n",
    "\n",
    "$y = \\text{ NOT } x_1$\n",
    "\n",
    "let $ w_0 =10, w_1=-20 \\quad \\quad \\rightarrow \\quad  \\quad  h_\\Theta (x) =  g(10 - 20 x_1 )$\n",
    "\n",
    "<img src=\"./images/NN_not.png\" width=\"250\" align=\"left\">\n",
    "\n",
    ">\n",
    "\n",
    "| $x_1$ |  $h_\\theta(x)$\n",
    "|-------|--------------\n",
    "|  0    |  $g(10) \\approx 1$\n",
    "|  1    |  $g(-10) \\approx 0$\n",
    "\n",
    "\n",
    "\n",
    "#### Simple example: \n",
    "$ y = (\\text{NOT} x_1) \\text{ AND } (\\text{NOT} x_2) $\n",
    "\n",
    "let $ w_0 =10, w_1=-20, w_2=-20$\n",
    "\n",
    "<img src=\"./images/NN_and.png\" width=\"200\" align=\"left\"> \n",
    "\n",
    "| $x_1$ | $x_2$ | $h_\\theta(x)$\n",
    "|-------|-------|--------------\n",
    "|  0    |   0   | $g(10) \\approx 1$\n",
    "|  0    |   1   |$g(-10) \\approx 0$\n",
    "|  1    |   0   |$g(-10) \\approx 0$\n",
    "|  1    |   1   |$g(-30) \\approx 0$"
   ]
  },
  {
   "cell_type": "markdown",
   "metadata": {},
   "source": [
    "#### Putting Together: $x_1$ XNOR $x_2$\n",
    "\n",
    "\n",
    "$y = x_1$ XNOR $x_2$\n",
    "\n",
    ".. | .. | .. |\n",
    "---|---|---|\n",
    "<img src=\"./images/NN_and.png\" width=\"200\" align=\"left\"> | <img src=\"./images/NN_and.png\" width=\"200\" align=\"left\"> | <img src=\"./images/NN_and.png\" width=\"200\" align=\"left\"> | \n",
    "$x_1$ AND $x_2  $ | (NOT $x_1$) AND (NOT $x_2$) | $x_1$ OR $ $x_2$ |\n",
    "\n",
    "<br> \n",
    "<img src=\"./images/XNOR.PNG\" width=\"270\" align=\"left\"> \n",
    "\n",
    "<table width=\"450\">\n",
    "<tr>\n",
    "<td>$x_1$</td> <td>$x_2$</td> \n",
    "<td>$a_1^{(2)} $ </td> \n",
    "<td>$a_2^{(2)}$ </td>\n",
    "<td>$h_\\theta(x)$</td>\n",
    "</tr>\n",
    "<tr>\n",
    "<td>0</td><td>0</td><td> -- </td><td>--</td><td>$g(10) \\approx 1$</td>\n",
    "</tr>\n",
    "<tr>\n",
    "<td>0</td><td>1</td><td>--  </td><td>-- </td><td>$g(-10) \\approx 0$</td>\n",
    "</tr>\n",
    "<tr>\n",
    "<td>1</td><td>0</td><td>--  </td><td>-- </td><td> $g(-10) \\approx 0$</td>\n",
    "</tr>\n",
    "<tr>\n",
    "<td>1</td><td>1</td><td>--  </td><td>-- </td><td> $g(10) \\approx 1$</td>\n",
    "</tr>\n",
    "</table>\n",
    "\n",
    "<br>"
   ]
  },
  {
   "cell_type": "markdown",
   "metadata": {},
   "source": [
    "Handwritten Digit Recognition (Demonstration)\n",
    "\n",
    "<img src=\"./images/handwritten_digits.png\" width=\"500\" >\n",
    "[link_to_video](https://youtu.be/yxuRnBEczUU)"
   ]
  },
  {
   "cell_type": "code",
   "execution_count": null,
   "metadata": {
    "scrolled": false
   },
   "outputs": [],
   "source": [
    "from IPython.display import IFrame\n",
    "\n",
    "# Youtube\n",
    "IFrame('https://youtu.be/yxuRnBEczUU', width=560, height=315)"
   ]
  },
  {
   "cell_type": "markdown",
   "metadata": {},
   "source": [
    "## 다중 클래스 분류(Multi-class classification)\n",
    "\n",
    "#### Multiple output units : One-vs-all\n",
    "\n",
    "<img src=\"./images/multiple_out_NN.png\" width=\"550\">\n"
   ]
  },
  {
   "cell_type": "markdown",
   "metadata": {},
   "source": [
    "#### Multiple output units : One-vs-all\n",
    "<br>\n",
    "\n",
    "<img src=\"./images/multiclass.PNG\" width=\"550\" align=\"left\">\n",
    "\n",
    "<br>\n"
   ]
  }
 ],
 "metadata": {
  "kernelspec": {
   "display_name": "Python 3",
   "language": "python",
   "name": "python3"
  },
  "language_info": {
   "codemirror_mode": {
    "name": "ipython",
    "version": 3
   },
   "file_extension": ".py",
   "mimetype": "text/x-python",
   "name": "python",
   "nbconvert_exporter": "python",
   "pygments_lexer": "ipython3",
   "version": "3.8.8"
  }
 },
 "nbformat": 4,
 "nbformat_minor": 2
}
