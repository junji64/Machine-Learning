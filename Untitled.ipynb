{
 "cells": [
  {
   "cell_type": "markdown",
   "metadata": {},
   "source": [
    "# Pandas\n",
    "**Pandas**는 **Python** 프로그래밍 언어를 위한 고성능의 사용하기 쉬운 데이터 구조 및 데이터 분석 도구를 제공하는 오픈 소스, BSD 라이선스 라이브러리입니다.\n",
    "\n",
    "라이브러리 설명서 : http://pandas.pydata.org/"
   ]
  },
  {
   "cell_type": "code",
   "execution_count": 1,
   "metadata": {
    "collapsed": false
   },
   "outputs": [
    {
     "data": {
      "text/plain": [
       "0    1.0\n",
       "1    3.0\n",
       "2    5.0\n",
       "3    NaN\n",
       "4    6.0\n",
       "5    8.0\n",
       "dtype: float64"
      ]
     },
     "execution_count": 1,
     "metadata": {},
     "output_type": "execute_result"
    }
   ],
   "source": [
    "import numpy as np\n",
    "import pandas as pd\n",
    "\n",
    "s = pd.Series([1,3,5,np.nan,6,8])\n",
    "s"
   ]
  },
  {
   "cell_type": "code",
   "execution_count": 4,
   "metadata": {
    "collapsed": false
   },
   "outputs": [
    {
     "data": {
      "text/html": [
       "<div>\n",
       "<table border=\"1\" class=\"dataframe\">\n",
       "  <thead>\n",
       "    <tr style=\"text-align: right;\">\n",
       "      <th></th>\n",
       "      <th>A</th>\n",
       "      <th>B</th>\n",
       "      <th>C</th>\n",
       "      <th>D</th>\n",
       "    </tr>\n",
       "  </thead>\n",
       "  <tbody>\n",
       "    <tr>\n",
       "      <th>2019-03-25</th>\n",
       "      <td>-1.483572</td>\n",
       "      <td>0.152796</td>\n",
       "      <td>1.541834</td>\n",
       "      <td>0.603256</td>\n",
       "    </tr>\n",
       "    <tr>\n",
       "      <th>2019-03-26</th>\n",
       "      <td>-0.451880</td>\n",
       "      <td>0.647186</td>\n",
       "      <td>-0.230129</td>\n",
       "      <td>-0.172269</td>\n",
       "    </tr>\n",
       "    <tr>\n",
       "      <th>2019-03-27</th>\n",
       "      <td>0.461545</td>\n",
       "      <td>-0.682124</td>\n",
       "      <td>0.347189</td>\n",
       "      <td>1.377008</td>\n",
       "    </tr>\n",
       "    <tr>\n",
       "      <th>2019-03-28</th>\n",
       "      <td>0.788202</td>\n",
       "      <td>0.611103</td>\n",
       "      <td>0.718637</td>\n",
       "      <td>0.018182</td>\n",
       "    </tr>\n",
       "    <tr>\n",
       "      <th>2019-03-29</th>\n",
       "      <td>1.596652</td>\n",
       "      <td>-0.514131</td>\n",
       "      <td>-0.450169</td>\n",
       "      <td>0.587770</td>\n",
       "    </tr>\n",
       "    <tr>\n",
       "      <th>2019-03-30</th>\n",
       "      <td>0.629764</td>\n",
       "      <td>-0.318142</td>\n",
       "      <td>-1.285447</td>\n",
       "      <td>0.648359</td>\n",
       "    </tr>\n",
       "  </tbody>\n",
       "</table>\n",
       "</div>"
      ],
      "text/plain": [
       "                   A         B         C         D\n",
       "2019-03-25 -1.483572  0.152796  1.541834  0.603256\n",
       "2019-03-26 -0.451880  0.647186 -0.230129 -0.172269\n",
       "2019-03-27  0.461545 -0.682124  0.347189  1.377008\n",
       "2019-03-28  0.788202  0.611103  0.718637  0.018182\n",
       "2019-03-29  1.596652 -0.514131 -0.450169  0.587770\n",
       "2019-03-30  0.629764 -0.318142 -1.285447  0.648359"
      ]
     },
     "execution_count": 4,
     "metadata": {},
     "output_type": "execute_result"
    }
   ],
   "source": [
    "dates = pd.date_range('2019-03-25', periods=6)\n",
    "df = pd.DataFrame(data=np.random.randn(6,4), index=dates, columns=list('ABCD') )\n",
    "df"
   ]
  },
  {
   "cell_type": "code",
   "execution_count": 6,
   "metadata": {
    "collapsed": false
   },
   "outputs": [
    {
     "data": {
      "text/html": [
       "<div>\n",
       "<table border=\"1\" class=\"dataframe\">\n",
       "  <thead>\n",
       "    <tr style=\"text-align: right;\">\n",
       "      <th></th>\n",
       "      <th>A</th>\n",
       "      <th>B</th>\n",
       "      <th>C</th>\n",
       "      <th>D</th>\n",
       "      <th>E</th>\n",
       "    </tr>\n",
       "  </thead>\n",
       "  <tbody>\n",
       "    <tr>\n",
       "      <th>0</th>\n",
       "      <td>1</td>\n",
       "      <td>2019-03-25</td>\n",
       "      <td>1.0</td>\n",
       "      <td>3</td>\n",
       "      <td>foo</td>\n",
       "    </tr>\n",
       "    <tr>\n",
       "      <th>1</th>\n",
       "      <td>1</td>\n",
       "      <td>2019-03-25</td>\n",
       "      <td>1.0</td>\n",
       "      <td>3</td>\n",
       "      <td>foo</td>\n",
       "    </tr>\n",
       "    <tr>\n",
       "      <th>2</th>\n",
       "      <td>1</td>\n",
       "      <td>2019-03-25</td>\n",
       "      <td>1.0</td>\n",
       "      <td>3</td>\n",
       "      <td>foo</td>\n",
       "    </tr>\n",
       "    <tr>\n",
       "      <th>3</th>\n",
       "      <td>1</td>\n",
       "      <td>2019-03-25</td>\n",
       "      <td>1.0</td>\n",
       "      <td>3</td>\n",
       "      <td>foo</td>\n",
       "    </tr>\n",
       "  </tbody>\n",
       "</table>\n",
       "</div>"
      ],
      "text/plain": [
       "   A          B    C  D    E\n",
       "0  1 2019-03-25  1.0  3  foo\n",
       "1  1 2019-03-25  1.0  3  foo\n",
       "2  1 2019-03-25  1.0  3  foo\n",
       "3  1 2019-03-25  1.0  3  foo"
      ]
     },
     "execution_count": 6,
     "metadata": {},
     "output_type": "execute_result"
    }
   ],
   "source": [
    "df2 = pd.DataFrame(\n",
    "    { 'A':1,\n",
    "      'B':pd.Timestamp('20190325'),\n",
    "      'C':pd.Series(1,index=range(4), dtype='float32'),\n",
    "      'D':np.array([3] * 4, dtype='int32'),\n",
    "      'E': 'foo'\n",
    "    }\n",
    ")\n",
    "df2"
   ]
  },
  {
   "cell_type": "code",
   "execution_count": 7,
   "metadata": {
    "collapsed": false
   },
   "outputs": [
    {
     "data": {
      "text/plain": [
       "A             int64\n",
       "B    datetime64[ns]\n",
       "C           float32\n",
       "D             int32\n",
       "E            object\n",
       "dtype: object"
      ]
     },
     "execution_count": 7,
     "metadata": {},
     "output_type": "execute_result"
    }
   ],
   "source": [
    "df2.dtypes"
   ]
  },
  {
   "cell_type": "code",
   "execution_count": 8,
   "metadata": {
    "collapsed": false
   },
   "outputs": [
    {
     "data": {
      "text/html": [
       "<div>\n",
       "<table border=\"1\" class=\"dataframe\">\n",
       "  <thead>\n",
       "    <tr style=\"text-align: right;\">\n",
       "      <th></th>\n",
       "      <th>A</th>\n",
       "      <th>B</th>\n",
       "      <th>C</th>\n",
       "      <th>D</th>\n",
       "      <th>E</th>\n",
       "    </tr>\n",
       "  </thead>\n",
       "  <tbody>\n",
       "    <tr>\n",
       "      <th>0</th>\n",
       "      <td>1</td>\n",
       "      <td>2019-03-25</td>\n",
       "      <td>1.0</td>\n",
       "      <td>3</td>\n",
       "      <td>foo</td>\n",
       "    </tr>\n",
       "    <tr>\n",
       "      <th>1</th>\n",
       "      <td>1</td>\n",
       "      <td>2019-03-25</td>\n",
       "      <td>1.0</td>\n",
       "      <td>3</td>\n",
       "      <td>foo</td>\n",
       "    </tr>\n",
       "    <tr>\n",
       "      <th>2</th>\n",
       "      <td>1</td>\n",
       "      <td>2019-03-25</td>\n",
       "      <td>1.0</td>\n",
       "      <td>3</td>\n",
       "      <td>foo</td>\n",
       "    </tr>\n",
       "  </tbody>\n",
       "</table>\n",
       "</div>"
      ],
      "text/plain": [
       "   A          B    C  D    E\n",
       "0  1 2019-03-25  1.0  3  foo\n",
       "1  1 2019-03-25  1.0  3  foo\n",
       "2  1 2019-03-25  1.0  3  foo"
      ]
     },
     "execution_count": 8,
     "metadata": {},
     "output_type": "execute_result"
    }
   ],
   "source": [
    "df2.head(3)"
   ]
  },
  {
   "cell_type": "code",
   "execution_count": 9,
   "metadata": {
    "collapsed": false
   },
   "outputs": [
    {
     "data": {
      "text/html": [
       "<div>\n",
       "<table border=\"1\" class=\"dataframe\">\n",
       "  <thead>\n",
       "    <tr style=\"text-align: right;\">\n",
       "      <th></th>\n",
       "      <th>A</th>\n",
       "      <th>B</th>\n",
       "      <th>C</th>\n",
       "      <th>D</th>\n",
       "    </tr>\n",
       "  </thead>\n",
       "  <tbody>\n",
       "    <tr>\n",
       "      <th>2019-03-25</th>\n",
       "      <td>-1.483572</td>\n",
       "      <td>0.152796</td>\n",
       "      <td>1.541834</td>\n",
       "      <td>0.603256</td>\n",
       "    </tr>\n",
       "    <tr>\n",
       "      <th>2019-03-26</th>\n",
       "      <td>-0.451880</td>\n",
       "      <td>0.647186</td>\n",
       "      <td>-0.230129</td>\n",
       "      <td>-0.172269</td>\n",
       "    </tr>\n",
       "    <tr>\n",
       "      <th>2019-03-27</th>\n",
       "      <td>0.461545</td>\n",
       "      <td>-0.682124</td>\n",
       "      <td>0.347189</td>\n",
       "      <td>1.377008</td>\n",
       "    </tr>\n",
       "  </tbody>\n",
       "</table>\n",
       "</div>"
      ],
      "text/plain": [
       "                   A         B         C         D\n",
       "2019-03-25 -1.483572  0.152796  1.541834  0.603256\n",
       "2019-03-26 -0.451880  0.647186 -0.230129 -0.172269\n",
       "2019-03-27  0.461545 -0.682124  0.347189  1.377008"
      ]
     },
     "execution_count": 9,
     "metadata": {},
     "output_type": "execute_result"
    }
   ],
   "source": [
    "df.head(3)"
   ]
  },
  {
   "cell_type": "code",
   "execution_count": 10,
   "metadata": {
    "collapsed": false
   },
   "outputs": [
    {
     "data": {
      "text/plain": [
       "DatetimeIndex(['2019-03-25', '2019-03-26', '2019-03-27', '2019-03-28',\n",
       "               '2019-03-29', '2019-03-30'],\n",
       "              dtype='datetime64[ns]', freq='D')"
      ]
     },
     "execution_count": 10,
     "metadata": {},
     "output_type": "execute_result"
    }
   ],
   "source": [
    "df.index"
   ]
  },
  {
   "cell_type": "code",
   "execution_count": 11,
   "metadata": {
    "collapsed": false
   },
   "outputs": [
    {
     "data": {
      "text/plain": [
       "Index(['A', 'B', 'C', 'D'], dtype='object')"
      ]
     },
     "execution_count": 11,
     "metadata": {},
     "output_type": "execute_result"
    }
   ],
   "source": [
    "df.columns"
   ]
  },
  {
   "cell_type": "code",
   "execution_count": 12,
   "metadata": {
    "collapsed": false
   },
   "outputs": [
    {
     "data": {
      "text/plain": [
       "array([[-1.48357169,  0.15279621,  1.54183381,  0.60325558],\n",
       "       [-0.45187957,  0.64718612, -0.23012938, -0.17226885],\n",
       "       [ 0.46154529, -0.6821244 ,  0.34718932,  1.37700789],\n",
       "       [ 0.7882023 ,  0.61110269,  0.71863672,  0.01818206],\n",
       "       [ 1.5966523 , -0.51413105, -0.45016878,  0.58777028],\n",
       "       [ 0.62976407, -0.31814244, -1.28544703,  0.64835932]])"
      ]
     },
     "execution_count": 12,
     "metadata": {},
     "output_type": "execute_result"
    }
   ],
   "source": [
    "df.values"
   ]
  },
  {
   "cell_type": "code",
   "execution_count": 13,
   "metadata": {
    "collapsed": false
   },
   "outputs": [
    {
     "data": {
      "text/html": [
       "<div>\n",
       "<table border=\"1\" class=\"dataframe\">\n",
       "  <thead>\n",
       "    <tr style=\"text-align: right;\">\n",
       "      <th></th>\n",
       "      <th>A</th>\n",
       "      <th>B</th>\n",
       "      <th>C</th>\n",
       "      <th>D</th>\n",
       "    </tr>\n",
       "  </thead>\n",
       "  <tbody>\n",
       "    <tr>\n",
       "      <th>count</th>\n",
       "      <td>6.000000</td>\n",
       "      <td>6.000000</td>\n",
       "      <td>6.000000</td>\n",
       "      <td>6.000000</td>\n",
       "    </tr>\n",
       "    <tr>\n",
       "      <th>mean</th>\n",
       "      <td>0.256785</td>\n",
       "      <td>-0.017219</td>\n",
       "      <td>0.106986</td>\n",
       "      <td>0.510384</td>\n",
       "    </tr>\n",
       "    <tr>\n",
       "      <th>std</th>\n",
       "      <td>1.076080</td>\n",
       "      <td>0.573533</td>\n",
       "      <td>0.985245</td>\n",
       "      <td>0.546437</td>\n",
       "    </tr>\n",
       "    <tr>\n",
       "      <th>min</th>\n",
       "      <td>-1.483572</td>\n",
       "      <td>-0.682124</td>\n",
       "      <td>-1.285447</td>\n",
       "      <td>-0.172269</td>\n",
       "    </tr>\n",
       "    <tr>\n",
       "      <th>25%</th>\n",
       "      <td>-0.223523</td>\n",
       "      <td>-0.465134</td>\n",
       "      <td>-0.395159</td>\n",
       "      <td>0.160579</td>\n",
       "    </tr>\n",
       "    <tr>\n",
       "      <th>50%</th>\n",
       "      <td>0.545655</td>\n",
       "      <td>-0.082673</td>\n",
       "      <td>0.058530</td>\n",
       "      <td>0.595513</td>\n",
       "    </tr>\n",
       "    <tr>\n",
       "      <th>75%</th>\n",
       "      <td>0.748593</td>\n",
       "      <td>0.496526</td>\n",
       "      <td>0.625775</td>\n",
       "      <td>0.637083</td>\n",
       "    </tr>\n",
       "    <tr>\n",
       "      <th>max</th>\n",
       "      <td>1.596652</td>\n",
       "      <td>0.647186</td>\n",
       "      <td>1.541834</td>\n",
       "      <td>1.377008</td>\n",
       "    </tr>\n",
       "  </tbody>\n",
       "</table>\n",
       "</div>"
      ],
      "text/plain": [
       "              A         B         C         D\n",
       "count  6.000000  6.000000  6.000000  6.000000\n",
       "mean   0.256785 -0.017219  0.106986  0.510384\n",
       "std    1.076080  0.573533  0.985245  0.546437\n",
       "min   -1.483572 -0.682124 -1.285447 -0.172269\n",
       "25%   -0.223523 -0.465134 -0.395159  0.160579\n",
       "50%    0.545655 -0.082673  0.058530  0.595513\n",
       "75%    0.748593  0.496526  0.625775  0.637083\n",
       "max    1.596652  0.647186  1.541834  1.377008"
      ]
     },
     "execution_count": 13,
     "metadata": {},
     "output_type": "execute_result"
    }
   ],
   "source": [
    "df.describe()"
   ]
  },
  {
   "cell_type": "code",
   "execution_count": 14,
   "metadata": {
    "collapsed": false
   },
   "outputs": [
    {
     "data": {
      "text/html": [
       "<div>\n",
       "<table border=\"1\" class=\"dataframe\">\n",
       "  <thead>\n",
       "    <tr style=\"text-align: right;\">\n",
       "      <th></th>\n",
       "      <th>2019-03-25 00:00:00</th>\n",
       "      <th>2019-03-26 00:00:00</th>\n",
       "      <th>2019-03-27 00:00:00</th>\n",
       "      <th>2019-03-28 00:00:00</th>\n",
       "      <th>2019-03-29 00:00:00</th>\n",
       "      <th>2019-03-30 00:00:00</th>\n",
       "    </tr>\n",
       "  </thead>\n",
       "  <tbody>\n",
       "    <tr>\n",
       "      <th>A</th>\n",
       "      <td>-1.483572</td>\n",
       "      <td>-0.451880</td>\n",
       "      <td>0.461545</td>\n",
       "      <td>0.788202</td>\n",
       "      <td>1.596652</td>\n",
       "      <td>0.629764</td>\n",
       "    </tr>\n",
       "    <tr>\n",
       "      <th>B</th>\n",
       "      <td>0.152796</td>\n",
       "      <td>0.647186</td>\n",
       "      <td>-0.682124</td>\n",
       "      <td>0.611103</td>\n",
       "      <td>-0.514131</td>\n",
       "      <td>-0.318142</td>\n",
       "    </tr>\n",
       "    <tr>\n",
       "      <th>C</th>\n",
       "      <td>1.541834</td>\n",
       "      <td>-0.230129</td>\n",
       "      <td>0.347189</td>\n",
       "      <td>0.718637</td>\n",
       "      <td>-0.450169</td>\n",
       "      <td>-1.285447</td>\n",
       "    </tr>\n",
       "    <tr>\n",
       "      <th>D</th>\n",
       "      <td>0.603256</td>\n",
       "      <td>-0.172269</td>\n",
       "      <td>1.377008</td>\n",
       "      <td>0.018182</td>\n",
       "      <td>0.587770</td>\n",
       "      <td>0.648359</td>\n",
       "    </tr>\n",
       "  </tbody>\n",
       "</table>\n",
       "</div>"
      ],
      "text/plain": [
       "   2019-03-25  2019-03-26  2019-03-27  2019-03-28  2019-03-29  2019-03-30\n",
       "A   -1.483572   -0.451880    0.461545    0.788202    1.596652    0.629764\n",
       "B    0.152796    0.647186   -0.682124    0.611103   -0.514131   -0.318142\n",
       "C    1.541834   -0.230129    0.347189    0.718637   -0.450169   -1.285447\n",
       "D    0.603256   -0.172269    1.377008    0.018182    0.587770    0.648359"
      ]
     },
     "execution_count": 14,
     "metadata": {},
     "output_type": "execute_result"
    }
   ],
   "source": [
    "df.T"
   ]
  },
  {
   "cell_type": "code",
   "execution_count": 16,
   "metadata": {
    "collapsed": false
   },
   "outputs": [
    {
     "data": {
      "text/html": [
       "<div>\n",
       "<table border=\"1\" class=\"dataframe\">\n",
       "  <thead>\n",
       "    <tr style=\"text-align: right;\">\n",
       "      <th></th>\n",
       "      <th>D</th>\n",
       "      <th>C</th>\n",
       "      <th>B</th>\n",
       "      <th>A</th>\n",
       "    </tr>\n",
       "  </thead>\n",
       "  <tbody>\n",
       "    <tr>\n",
       "      <th>2019-03-25</th>\n",
       "      <td>0.603256</td>\n",
       "      <td>1.541834</td>\n",
       "      <td>0.152796</td>\n",
       "      <td>-1.483572</td>\n",
       "    </tr>\n",
       "    <tr>\n",
       "      <th>2019-03-26</th>\n",
       "      <td>-0.172269</td>\n",
       "      <td>-0.230129</td>\n",
       "      <td>0.647186</td>\n",
       "      <td>-0.451880</td>\n",
       "    </tr>\n",
       "    <tr>\n",
       "      <th>2019-03-27</th>\n",
       "      <td>1.377008</td>\n",
       "      <td>0.347189</td>\n",
       "      <td>-0.682124</td>\n",
       "      <td>0.461545</td>\n",
       "    </tr>\n",
       "    <tr>\n",
       "      <th>2019-03-28</th>\n",
       "      <td>0.018182</td>\n",
       "      <td>0.718637</td>\n",
       "      <td>0.611103</td>\n",
       "      <td>0.788202</td>\n",
       "    </tr>\n",
       "    <tr>\n",
       "      <th>2019-03-29</th>\n",
       "      <td>0.587770</td>\n",
       "      <td>-0.450169</td>\n",
       "      <td>-0.514131</td>\n",
       "      <td>1.596652</td>\n",
       "    </tr>\n",
       "    <tr>\n",
       "      <th>2019-03-30</th>\n",
       "      <td>0.648359</td>\n",
       "      <td>-1.285447</td>\n",
       "      <td>-0.318142</td>\n",
       "      <td>0.629764</td>\n",
       "    </tr>\n",
       "  </tbody>\n",
       "</table>\n",
       "</div>"
      ],
      "text/plain": [
       "                   D         C         B         A\n",
       "2019-03-25  0.603256  1.541834  0.152796 -1.483572\n",
       "2019-03-26 -0.172269 -0.230129  0.647186 -0.451880\n",
       "2019-03-27  1.377008  0.347189 -0.682124  0.461545\n",
       "2019-03-28  0.018182  0.718637  0.611103  0.788202\n",
       "2019-03-29  0.587770 -0.450169 -0.514131  1.596652\n",
       "2019-03-30  0.648359 -1.285447 -0.318142  0.629764"
      ]
     },
     "execution_count": 16,
     "metadata": {},
     "output_type": "execute_result"
    }
   ],
   "source": [
    "df.sort_index(axis=1, ascending=False)"
   ]
  },
  {
   "cell_type": "code",
   "execution_count": 17,
   "metadata": {
    "collapsed": false
   },
   "outputs": [
    {
     "data": {
      "text/html": [
       "<div>\n",
       "<table border=\"1\" class=\"dataframe\">\n",
       "  <thead>\n",
       "    <tr style=\"text-align: right;\">\n",
       "      <th></th>\n",
       "      <th>A</th>\n",
       "      <th>B</th>\n",
       "      <th>C</th>\n",
       "      <th>D</th>\n",
       "    </tr>\n",
       "  </thead>\n",
       "  <tbody>\n",
       "    <tr>\n",
       "      <th>2019-03-27</th>\n",
       "      <td>0.461545</td>\n",
       "      <td>-0.682124</td>\n",
       "      <td>0.347189</td>\n",
       "      <td>1.377008</td>\n",
       "    </tr>\n",
       "    <tr>\n",
       "      <th>2019-03-29</th>\n",
       "      <td>1.596652</td>\n",
       "      <td>-0.514131</td>\n",
       "      <td>-0.450169</td>\n",
       "      <td>0.587770</td>\n",
       "    </tr>\n",
       "    <tr>\n",
       "      <th>2019-03-30</th>\n",
       "      <td>0.629764</td>\n",
       "      <td>-0.318142</td>\n",
       "      <td>-1.285447</td>\n",
       "      <td>0.648359</td>\n",
       "    </tr>\n",
       "    <tr>\n",
       "      <th>2019-03-25</th>\n",
       "      <td>-1.483572</td>\n",
       "      <td>0.152796</td>\n",
       "      <td>1.541834</td>\n",
       "      <td>0.603256</td>\n",
       "    </tr>\n",
       "    <tr>\n",
       "      <th>2019-03-28</th>\n",
       "      <td>0.788202</td>\n",
       "      <td>0.611103</td>\n",
       "      <td>0.718637</td>\n",
       "      <td>0.018182</td>\n",
       "    </tr>\n",
       "    <tr>\n",
       "      <th>2019-03-26</th>\n",
       "      <td>-0.451880</td>\n",
       "      <td>0.647186</td>\n",
       "      <td>-0.230129</td>\n",
       "      <td>-0.172269</td>\n",
       "    </tr>\n",
       "  </tbody>\n",
       "</table>\n",
       "</div>"
      ],
      "text/plain": [
       "                   A         B         C         D\n",
       "2019-03-27  0.461545 -0.682124  0.347189  1.377008\n",
       "2019-03-29  1.596652 -0.514131 -0.450169  0.587770\n",
       "2019-03-30  0.629764 -0.318142 -1.285447  0.648359\n",
       "2019-03-25 -1.483572  0.152796  1.541834  0.603256\n",
       "2019-03-28  0.788202  0.611103  0.718637  0.018182\n",
       "2019-03-26 -0.451880  0.647186 -0.230129 -0.172269"
      ]
     },
     "execution_count": 17,
     "metadata": {},
     "output_type": "execute_result"
    }
   ],
   "source": [
    "df.sort_values(by='B')"
   ]
  },
  {
   "cell_type": "markdown",
   "metadata": {},
   "source": [
    "## Selection"
   ]
  },
  {
   "cell_type": "code",
   "execution_count": 18,
   "metadata": {
    "collapsed": false
   },
   "outputs": [
    {
     "data": {
      "text/plain": [
       "2019-03-25   -1.483572\n",
       "2019-03-26   -0.451880\n",
       "2019-03-27    0.461545\n",
       "2019-03-28    0.788202\n",
       "2019-03-29    1.596652\n",
       "2019-03-30    0.629764\n",
       "Freq: D, Name: A, dtype: float64"
      ]
     },
     "execution_count": 18,
     "metadata": {},
     "output_type": "execute_result"
    }
   ],
   "source": [
    "df['A']"
   ]
  },
  {
   "cell_type": "code",
   "execution_count": 19,
   "metadata": {
    "collapsed": false
   },
   "outputs": [
    {
     "data": {
      "text/plain": [
       "2019-03-25   -1.483572\n",
       "2019-03-26   -0.451880\n",
       "2019-03-27    0.461545\n",
       "2019-03-28    0.788202\n",
       "2019-03-29    1.596652\n",
       "2019-03-30    0.629764\n",
       "Freq: D, Name: A, dtype: float64"
      ]
     },
     "execution_count": 19,
     "metadata": {},
     "output_type": "execute_result"
    }
   ],
   "source": [
    "df.A"
   ]
  },
  {
   "cell_type": "code",
   "execution_count": 20,
   "metadata": {
    "collapsed": false
   },
   "outputs": [
    {
     "data": {
      "text/html": [
       "<div>\n",
       "<table border=\"1\" class=\"dataframe\">\n",
       "  <thead>\n",
       "    <tr style=\"text-align: right;\">\n",
       "      <th></th>\n",
       "      <th>A</th>\n",
       "      <th>B</th>\n",
       "      <th>C</th>\n",
       "      <th>D</th>\n",
       "    </tr>\n",
       "  </thead>\n",
       "  <tbody>\n",
       "    <tr>\n",
       "      <th>2019-03-25</th>\n",
       "      <td>-1.483572</td>\n",
       "      <td>0.152796</td>\n",
       "      <td>1.541834</td>\n",
       "      <td>0.603256</td>\n",
       "    </tr>\n",
       "    <tr>\n",
       "      <th>2019-03-26</th>\n",
       "      <td>-0.451880</td>\n",
       "      <td>0.647186</td>\n",
       "      <td>-0.230129</td>\n",
       "      <td>-0.172269</td>\n",
       "    </tr>\n",
       "    <tr>\n",
       "      <th>2019-03-27</th>\n",
       "      <td>0.461545</td>\n",
       "      <td>-0.682124</td>\n",
       "      <td>0.347189</td>\n",
       "      <td>1.377008</td>\n",
       "    </tr>\n",
       "  </tbody>\n",
       "</table>\n",
       "</div>"
      ],
      "text/plain": [
       "                   A         B         C         D\n",
       "2019-03-25 -1.483572  0.152796  1.541834  0.603256\n",
       "2019-03-26 -0.451880  0.647186 -0.230129 -0.172269\n",
       "2019-03-27  0.461545 -0.682124  0.347189  1.377008"
      ]
     },
     "execution_count": 20,
     "metadata": {},
     "output_type": "execute_result"
    }
   ],
   "source": [
    "df[0:3]"
   ]
  },
  {
   "cell_type": "code",
   "execution_count": 23,
   "metadata": {
    "collapsed": false
   },
   "outputs": [
    {
     "data": {
      "text/html": [
       "<div>\n",
       "<table border=\"1\" class=\"dataframe\">\n",
       "  <thead>\n",
       "    <tr style=\"text-align: right;\">\n",
       "      <th></th>\n",
       "      <th>A</th>\n",
       "      <th>B</th>\n",
       "      <th>C</th>\n",
       "      <th>D</th>\n",
       "    </tr>\n",
       "  </thead>\n",
       "  <tbody>\n",
       "    <tr>\n",
       "      <th>2019-03-26</th>\n",
       "      <td>-0.451880</td>\n",
       "      <td>0.647186</td>\n",
       "      <td>-0.230129</td>\n",
       "      <td>-0.172269</td>\n",
       "    </tr>\n",
       "    <tr>\n",
       "      <th>2019-03-27</th>\n",
       "      <td>0.461545</td>\n",
       "      <td>-0.682124</td>\n",
       "      <td>0.347189</td>\n",
       "      <td>1.377008</td>\n",
       "    </tr>\n",
       "    <tr>\n",
       "      <th>2019-03-28</th>\n",
       "      <td>0.788202</td>\n",
       "      <td>0.611103</td>\n",
       "      <td>0.718637</td>\n",
       "      <td>0.018182</td>\n",
       "    </tr>\n",
       "  </tbody>\n",
       "</table>\n",
       "</div>"
      ],
      "text/plain": [
       "                   A         B         C         D\n",
       "2019-03-26 -0.451880  0.647186 -0.230129 -0.172269\n",
       "2019-03-27  0.461545 -0.682124  0.347189  1.377008\n",
       "2019-03-28  0.788202  0.611103  0.718637  0.018182"
      ]
     },
     "execution_count": 23,
     "metadata": {},
     "output_type": "execute_result"
    }
   ],
   "source": [
    "df['20190326':'20190328']"
   ]
  },
  {
   "cell_type": "code",
   "execution_count": 24,
   "metadata": {
    "collapsed": false
   },
   "outputs": [
    {
     "data": {
      "text/plain": [
       "A   -1.483572\n",
       "B    0.152796\n",
       "C    1.541834\n",
       "D    0.603256\n",
       "Name: 2019-03-25 00:00:00, dtype: float64"
      ]
     },
     "execution_count": 24,
     "metadata": {},
     "output_type": "execute_result"
    }
   ],
   "source": [
    "df.loc[dates[0]]"
   ]
  },
  {
   "cell_type": "code",
   "execution_count": 25,
   "metadata": {
    "collapsed": false
   },
   "outputs": [
    {
     "data": {
      "text/plain": [
       "-1.4835716856492422"
      ]
     },
     "execution_count": 25,
     "metadata": {},
     "output_type": "execute_result"
    }
   ],
   "source": [
    "df.loc[dates[0],'A']"
   ]
  },
  {
   "cell_type": "code",
   "execution_count": 26,
   "metadata": {
    "collapsed": false
   },
   "outputs": [
    {
     "data": {
      "text/plain": [
       "A    0.788202\n",
       "B    0.611103\n",
       "C    0.718637\n",
       "D    0.018182\n",
       "Name: 2019-03-28 00:00:00, dtype: float64"
      ]
     },
     "execution_count": 26,
     "metadata": {},
     "output_type": "execute_result"
    }
   ],
   "source": [
    "df.iloc[3]"
   ]
  },
  {
   "cell_type": "code",
   "execution_count": 27,
   "metadata": {
    "collapsed": false
   },
   "outputs": [
    {
     "data": {
      "text/html": [
       "<div>\n",
       "<table border=\"1\" class=\"dataframe\">\n",
       "  <thead>\n",
       "    <tr style=\"text-align: right;\">\n",
       "      <th></th>\n",
       "      <th>A</th>\n",
       "      <th>B</th>\n",
       "    </tr>\n",
       "  </thead>\n",
       "  <tbody>\n",
       "    <tr>\n",
       "      <th>2019-03-28</th>\n",
       "      <td>0.788202</td>\n",
       "      <td>0.611103</td>\n",
       "    </tr>\n",
       "    <tr>\n",
       "      <th>2019-03-29</th>\n",
       "      <td>1.596652</td>\n",
       "      <td>-0.514131</td>\n",
       "    </tr>\n",
       "  </tbody>\n",
       "</table>\n",
       "</div>"
      ],
      "text/plain": [
       "                   A         B\n",
       "2019-03-28  0.788202  0.611103\n",
       "2019-03-29  1.596652 -0.514131"
      ]
     },
     "execution_count": 27,
     "metadata": {},
     "output_type": "execute_result"
    }
   ],
   "source": [
    "df.iloc[3:5, 0:2]"
   ]
  },
  {
   "cell_type": "code",
   "execution_count": 28,
   "metadata": {
    "collapsed": false
   },
   "outputs": [
    {
     "data": {
      "text/html": [
       "<div>\n",
       "<table border=\"1\" class=\"dataframe\">\n",
       "  <thead>\n",
       "    <tr style=\"text-align: right;\">\n",
       "      <th></th>\n",
       "      <th>A</th>\n",
       "      <th>B</th>\n",
       "      <th>C</th>\n",
       "      <th>D</th>\n",
       "    </tr>\n",
       "  </thead>\n",
       "  <tbody>\n",
       "    <tr>\n",
       "      <th>2019-03-25</th>\n",
       "      <td>-1.483572</td>\n",
       "      <td>0.152796</td>\n",
       "      <td>1.541834</td>\n",
       "      <td>0.603256</td>\n",
       "    </tr>\n",
       "    <tr>\n",
       "      <th>2019-03-26</th>\n",
       "      <td>-0.451880</td>\n",
       "      <td>0.647186</td>\n",
       "      <td>-0.230129</td>\n",
       "      <td>-0.172269</td>\n",
       "    </tr>\n",
       "    <tr>\n",
       "      <th>2019-03-27</th>\n",
       "      <td>0.461545</td>\n",
       "      <td>-0.682124</td>\n",
       "      <td>0.347189</td>\n",
       "      <td>1.377008</td>\n",
       "    </tr>\n",
       "    <tr>\n",
       "      <th>2019-03-28</th>\n",
       "      <td>0.788202</td>\n",
       "      <td>0.611103</td>\n",
       "      <td>0.718637</td>\n",
       "      <td>0.018182</td>\n",
       "    </tr>\n",
       "    <tr>\n",
       "      <th>2019-03-29</th>\n",
       "      <td>1.596652</td>\n",
       "      <td>-0.514131</td>\n",
       "      <td>-0.450169</td>\n",
       "      <td>0.587770</td>\n",
       "    </tr>\n",
       "    <tr>\n",
       "      <th>2019-03-30</th>\n",
       "      <td>0.629764</td>\n",
       "      <td>-0.318142</td>\n",
       "      <td>-1.285447</td>\n",
       "      <td>0.648359</td>\n",
       "    </tr>\n",
       "  </tbody>\n",
       "</table>\n",
       "</div>"
      ],
      "text/plain": [
       "                   A         B         C         D\n",
       "2019-03-25 -1.483572  0.152796  1.541834  0.603256\n",
       "2019-03-26 -0.451880  0.647186 -0.230129 -0.172269\n",
       "2019-03-27  0.461545 -0.682124  0.347189  1.377008\n",
       "2019-03-28  0.788202  0.611103  0.718637  0.018182\n",
       "2019-03-29  1.596652 -0.514131 -0.450169  0.587770\n",
       "2019-03-30  0.629764 -0.318142 -1.285447  0.648359"
      ]
     },
     "execution_count": 28,
     "metadata": {},
     "output_type": "execute_result"
    }
   ],
   "source": [
    "df"
   ]
  },
  {
   "cell_type": "code",
   "execution_count": 29,
   "metadata": {
    "collapsed": false
   },
   "outputs": [
    {
     "data": {
      "text/html": [
       "<div>\n",
       "<table border=\"1\" class=\"dataframe\">\n",
       "  <thead>\n",
       "    <tr style=\"text-align: right;\">\n",
       "      <th></th>\n",
       "      <th>A</th>\n",
       "      <th>B</th>\n",
       "      <th>C</th>\n",
       "      <th>D</th>\n",
       "    </tr>\n",
       "  </thead>\n",
       "  <tbody>\n",
       "    <tr>\n",
       "      <th>2019-03-27</th>\n",
       "      <td>0.461545</td>\n",
       "      <td>-0.682124</td>\n",
       "      <td>0.347189</td>\n",
       "      <td>1.377008</td>\n",
       "    </tr>\n",
       "    <tr>\n",
       "      <th>2019-03-28</th>\n",
       "      <td>0.788202</td>\n",
       "      <td>0.611103</td>\n",
       "      <td>0.718637</td>\n",
       "      <td>0.018182</td>\n",
       "    </tr>\n",
       "    <tr>\n",
       "      <th>2019-03-29</th>\n",
       "      <td>1.596652</td>\n",
       "      <td>-0.514131</td>\n",
       "      <td>-0.450169</td>\n",
       "      <td>0.587770</td>\n",
       "    </tr>\n",
       "    <tr>\n",
       "      <th>2019-03-30</th>\n",
       "      <td>0.629764</td>\n",
       "      <td>-0.318142</td>\n",
       "      <td>-1.285447</td>\n",
       "      <td>0.648359</td>\n",
       "    </tr>\n",
       "  </tbody>\n",
       "</table>\n",
       "</div>"
      ],
      "text/plain": [
       "                   A         B         C         D\n",
       "2019-03-27  0.461545 -0.682124  0.347189  1.377008\n",
       "2019-03-28  0.788202  0.611103  0.718637  0.018182\n",
       "2019-03-29  1.596652 -0.514131 -0.450169  0.587770\n",
       "2019-03-30  0.629764 -0.318142 -1.285447  0.648359"
      ]
     },
     "execution_count": 29,
     "metadata": {},
     "output_type": "execute_result"
    }
   ],
   "source": [
    "df[df.A > 0]"
   ]
  },
  {
   "cell_type": "code",
   "execution_count": 31,
   "metadata": {
    "collapsed": false
   },
   "outputs": [
    {
     "data": {
      "text/html": [
       "<div>\n",
       "<table border=\"1\" class=\"dataframe\">\n",
       "  <thead>\n",
       "    <tr style=\"text-align: right;\">\n",
       "      <th></th>\n",
       "      <th>A</th>\n",
       "      <th>B</th>\n",
       "      <th>C</th>\n",
       "      <th>D</th>\n",
       "    </tr>\n",
       "  </thead>\n",
       "  <tbody>\n",
       "    <tr>\n",
       "      <th>2019-03-25</th>\n",
       "      <td>NaN</td>\n",
       "      <td>0.152796</td>\n",
       "      <td>1.541834</td>\n",
       "      <td>0.603256</td>\n",
       "    </tr>\n",
       "    <tr>\n",
       "      <th>2019-03-26</th>\n",
       "      <td>NaN</td>\n",
       "      <td>0.647186</td>\n",
       "      <td>NaN</td>\n",
       "      <td>NaN</td>\n",
       "    </tr>\n",
       "    <tr>\n",
       "      <th>2019-03-27</th>\n",
       "      <td>0.461545</td>\n",
       "      <td>NaN</td>\n",
       "      <td>0.347189</td>\n",
       "      <td>1.377008</td>\n",
       "    </tr>\n",
       "    <tr>\n",
       "      <th>2019-03-28</th>\n",
       "      <td>0.788202</td>\n",
       "      <td>0.611103</td>\n",
       "      <td>0.718637</td>\n",
       "      <td>0.018182</td>\n",
       "    </tr>\n",
       "    <tr>\n",
       "      <th>2019-03-29</th>\n",
       "      <td>1.596652</td>\n",
       "      <td>NaN</td>\n",
       "      <td>NaN</td>\n",
       "      <td>0.587770</td>\n",
       "    </tr>\n",
       "    <tr>\n",
       "      <th>2019-03-30</th>\n",
       "      <td>0.629764</td>\n",
       "      <td>NaN</td>\n",
       "      <td>NaN</td>\n",
       "      <td>0.648359</td>\n",
       "    </tr>\n",
       "  </tbody>\n",
       "</table>\n",
       "</div>"
      ],
      "text/plain": [
       "                   A         B         C         D\n",
       "2019-03-25       NaN  0.152796  1.541834  0.603256\n",
       "2019-03-26       NaN  0.647186       NaN       NaN\n",
       "2019-03-27  0.461545       NaN  0.347189  1.377008\n",
       "2019-03-28  0.788202  0.611103  0.718637  0.018182\n",
       "2019-03-29  1.596652       NaN       NaN  0.587770\n",
       "2019-03-30  0.629764       NaN       NaN  0.648359"
      ]
     },
     "execution_count": 31,
     "metadata": {},
     "output_type": "execute_result"
    }
   ],
   "source": [
    "df[df > 0]"
   ]
  },
  {
   "cell_type": "code",
   "execution_count": 34,
   "metadata": {
    "collapsed": false
   },
   "outputs": [
    {
     "data": {
      "text/html": [
       "<div>\n",
       "<table border=\"1\" class=\"dataframe\">\n",
       "  <thead>\n",
       "    <tr style=\"text-align: right;\">\n",
       "      <th></th>\n",
       "      <th>A</th>\n",
       "      <th>B</th>\n",
       "      <th>C</th>\n",
       "      <th>D</th>\n",
       "      <th>E</th>\n",
       "    </tr>\n",
       "  </thead>\n",
       "  <tbody>\n",
       "    <tr>\n",
       "      <th>2019-03-26</th>\n",
       "      <td>-0.451880</td>\n",
       "      <td>0.647186</td>\n",
       "      <td>-0.230129</td>\n",
       "      <td>-0.172269</td>\n",
       "      <td>two</td>\n",
       "    </tr>\n",
       "    <tr>\n",
       "      <th>2019-03-28</th>\n",
       "      <td>0.788202</td>\n",
       "      <td>0.611103</td>\n",
       "      <td>0.718637</td>\n",
       "      <td>0.018182</td>\n",
       "      <td>four</td>\n",
       "    </tr>\n",
       "  </tbody>\n",
       "</table>\n",
       "</div>"
      ],
      "text/plain": [
       "                   A         B         C         D     E\n",
       "2019-03-26 -0.451880  0.647186 -0.230129 -0.172269   two\n",
       "2019-03-28  0.788202  0.611103  0.718637  0.018182  four"
      ]
     },
     "execution_count": 34,
     "metadata": {},
     "output_type": "execute_result"
    }
   ],
   "source": [
    "df3 = df.copy()\n",
    "df3['E'] = ['one', 'two', 'three', 'four', 'five', 'six']\n",
    "df3[df3['E'].isin(['two','four'])]"
   ]
  },
  {
   "cell_type": "code",
   "execution_count": 35,
   "metadata": {
    "collapsed": false
   },
   "outputs": [
    {
     "data": {
      "text/html": [
       "<div>\n",
       "<table border=\"1\" class=\"dataframe\">\n",
       "  <thead>\n",
       "    <tr style=\"text-align: right;\">\n",
       "      <th></th>\n",
       "      <th>A</th>\n",
       "      <th>B</th>\n",
       "      <th>C</th>\n",
       "      <th>D</th>\n",
       "    </tr>\n",
       "  </thead>\n",
       "  <tbody>\n",
       "    <tr>\n",
       "      <th>2019-03-25</th>\n",
       "      <td>0.000000</td>\n",
       "      <td>0.000000</td>\n",
       "      <td>1.541834</td>\n",
       "      <td>5</td>\n",
       "    </tr>\n",
       "    <tr>\n",
       "      <th>2019-03-26</th>\n",
       "      <td>-0.451880</td>\n",
       "      <td>0.647186</td>\n",
       "      <td>-0.230129</td>\n",
       "      <td>5</td>\n",
       "    </tr>\n",
       "    <tr>\n",
       "      <th>2019-03-27</th>\n",
       "      <td>0.461545</td>\n",
       "      <td>-0.682124</td>\n",
       "      <td>0.347189</td>\n",
       "      <td>5</td>\n",
       "    </tr>\n",
       "    <tr>\n",
       "      <th>2019-03-28</th>\n",
       "      <td>0.788202</td>\n",
       "      <td>0.611103</td>\n",
       "      <td>0.718637</td>\n",
       "      <td>5</td>\n",
       "    </tr>\n",
       "    <tr>\n",
       "      <th>2019-03-29</th>\n",
       "      <td>1.596652</td>\n",
       "      <td>-0.514131</td>\n",
       "      <td>-0.450169</td>\n",
       "      <td>5</td>\n",
       "    </tr>\n",
       "    <tr>\n",
       "      <th>2019-03-30</th>\n",
       "      <td>0.629764</td>\n",
       "      <td>-0.318142</td>\n",
       "      <td>-1.285447</td>\n",
       "      <td>5</td>\n",
       "    </tr>\n",
       "  </tbody>\n",
       "</table>\n",
       "</div>"
      ],
      "text/plain": [
       "                   A         B         C  D\n",
       "2019-03-25  0.000000  0.000000  1.541834  5\n",
       "2019-03-26 -0.451880  0.647186 -0.230129  5\n",
       "2019-03-27  0.461545 -0.682124  0.347189  5\n",
       "2019-03-28  0.788202  0.611103  0.718637  5\n",
       "2019-03-29  1.596652 -0.514131 -0.450169  5\n",
       "2019-03-30  0.629764 -0.318142 -1.285447  5"
      ]
     },
     "execution_count": 35,
     "metadata": {},
     "output_type": "execute_result"
    }
   ],
   "source": [
    "df.at[dates[0],'A'] = 0\n",
    "df.iat[0,1]=0\n",
    "df.loc[:,'D'] = np.array([5] * len(df))\n",
    "df"
   ]
  },
  {
   "cell_type": "code",
   "execution_count": 18,
   "metadata": {
    "collapsed": false
   },
   "outputs": [
    {
     "data": {
      "text/plain": [
       "(3, 5)"
      ]
     },
     "execution_count": 18,
     "metadata": {},
     "output_type": "execute_result"
    }
   ],
   "source": [
    "import numpy as np\n",
    "X = np.matrix([[1,2,3], [4,5,6], [4,5,6], [4,5,6], [4,5,6]])\n",
    "X = X.T\n",
    "X.shape"
   ]
  },
  {
   "cell_type": "code",
   "execution_count": 22,
   "metadata": {
    "collapsed": false
   },
   "outputs": [
    {
     "data": {
      "text/plain": [
       "(5, 1)"
      ]
     },
     "execution_count": 22,
     "metadata": {},
     "output_type": "execute_result"
    }
   ],
   "source": [
    "y = np.matrix([[1,1,0,0,1]])\n",
    "y=y.T\n",
    "y.shape"
   ]
  },
  {
   "cell_type": "code",
   "execution_count": 23,
   "metadata": {
    "collapsed": false
   },
   "outputs": [
    {
     "data": {
      "text/plain": [
       "(3, 1)"
      ]
     },
     "execution_count": 23,
     "metadata": {},
     "output_type": "execute_result"
    }
   ],
   "source": [
    "theta  = np.matrix([[1,1,1]])\n",
    "theta = theta.T\n",
    "theta.shape"
   ]
  },
  {
   "cell_type": "code",
   "execution_count": 24,
   "metadata": {
    "collapsed": false
   },
   "outputs": [
    {
     "data": {
      "text/plain": [
       "matrix([[ 25],\n",
       "        [196],\n",
       "        [225],\n",
       "        [225],\n",
       "        [196]], dtype=int32)"
      ]
     },
     "execution_count": 24,
     "metadata": {},
     "output_type": "execute_result"
    }
   ],
   "source": [
    "np.power(((X.T*theta) - y),2)"
   ]
  },
  {
   "cell_type": "code",
   "execution_count": 26,
   "metadata": {
    "collapsed": false
   },
   "outputs": [
    {
     "data": {
      "text/plain": [
       "5"
      ]
     },
     "execution_count": 26,
     "metadata": {},
     "output_type": "execute_result"
    }
   ],
   "source": [
    "len(y)"
   ]
  },
  {
   "cell_type": "code",
   "execution_count": 15,
   "metadata": {
    "collapsed": false
   },
   "outputs": [],
   "source": [
    "import numpy as np\n",
    "A = np.matrix([[1,2,3,], [4,5,6]])\n",
    "B = np.matrix([[1,2], [3,4], [5,6]])"
   ]
  },
  {
   "cell_type": "code",
   "execution_count": 16,
   "metadata": {
    "collapsed": false
   },
   "outputs": [
    {
     "data": {
      "text/plain": [
       "matrix([[ 2,  6],\n",
       "        [ 5,  9],\n",
       "        [ 8, 12]])"
      ]
     },
     "execution_count": 16,
     "metadata": {},
     "output_type": "execute_result"
    }
   ],
   "source": [
    "A.T + B"
   ]
  },
  {
   "cell_type": "code",
   "execution_count": 17,
   "metadata": {
    "collapsed": false
   },
   "outputs": [
    {
     "data": {
      "text/plain": [
       "matrix([[ 9, 12, 15],\n",
       "        [19, 26, 33],\n",
       "        [29, 40, 51]])"
      ]
     },
     "execution_count": 17,
     "metadata": {},
     "output_type": "execute_result"
    }
   ],
   "source": [
    "B * A"
   ]
  },
  {
   "cell_type": "code",
   "execution_count": 18,
   "metadata": {
    "collapsed": false
   },
   "outputs": [
    {
     "ename": "ValueError",
     "evalue": "operands could not be broadcast together with shapes (2,3) (3,2) ",
     "output_type": "error",
     "traceback": [
      "\u001b[0;31m---------------------------------------------------------------------------\u001b[0m",
      "\u001b[0;31mValueError\u001b[0m                                Traceback (most recent call last)",
      "\u001b[0;32m<ipython-input-18-624e41e41a31>\u001b[0m in \u001b[0;36m<module>\u001b[0;34m()\u001b[0m\n\u001b[0;32m----> 1\u001b[0;31m \u001b[0mA\u001b[0m \u001b[1;33m+\u001b[0m \u001b[0mB\u001b[0m\u001b[1;33m\u001b[0m\u001b[0m\n\u001b[0m",
      "\u001b[0;31mValueError\u001b[0m: operands could not be broadcast together with shapes (2,3) (3,2) "
     ]
    }
   ],
   "source": [
    "A + B"
   ]
  },
  {
   "cell_type": "code",
   "execution_count": 19,
   "metadata": {
    "collapsed": false
   },
   "outputs": [
    {
     "data": {
      "text/plain": [
       "matrix([[22, 28],\n",
       "        [49, 64]])"
      ]
     },
     "execution_count": 19,
     "metadata": {},
     "output_type": "execute_result"
    }
   ],
   "source": [
    "A * B"
   ]
  },
  {
   "cell_type": "code",
   "execution_count": 22,
   "metadata": {
    "collapsed": false
   },
   "outputs": [],
   "source": [
    "A = np.reshape(np.arange(100), (10,10))"
   ]
  },
  {
   "cell_type": "code",
   "execution_count": 25,
   "metadata": {
    "collapsed": false
   },
   "outputs": [
    {
     "data": {
      "text/plain": [
       "array([0, 1, 2, 3, 4, 5, 6, 7, 8, 9])"
      ]
     },
     "execution_count": 25,
     "metadata": {},
     "output_type": "execute_result"
    }
   ],
   "source": [
    "x = np.arange(10)\n",
    "x"
   ]
  },
  {
   "cell_type": "code",
   "execution_count": 26,
   "metadata": {
    "collapsed": true
   },
   "outputs": [],
   "source": [
    "v = np.zeros(len(x))"
   ]
  },
  {
   "cell_type": "code",
   "execution_count": 31,
   "metadata": {
    "collapsed": false
   },
   "outputs": [],
   "source": [
    "v = np.matrix(A) * np.matrix(x).T"
   ]
  },
  {
   "cell_type": "code",
   "execution_count": 35,
   "metadata": {
    "collapsed": false
   },
   "outputs": [
    {
     "data": {
      "text/plain": [
       "matrix([[ 570],\n",
       "        [1470],\n",
       "        [2370],\n",
       "        [3270],\n",
       "        [4170],\n",
       "        [5070],\n",
       "        [5970],\n",
       "        [6870],\n",
       "        [7770],\n",
       "        [8670]])"
      ]
     },
     "execution_count": 35,
     "metadata": {},
     "output_type": "execute_result"
    }
   ],
   "source": [
    "for i in range(10):\n",
    "    for j in range(10):\n",
    "        v[i] = v[i] + A[i,j]*x[j]\n",
    "v"
   ]
  },
  {
   "cell_type": "code",
   "execution_count": null,
   "metadata": {
    "collapsed": true
   },
   "outputs": [],
   "source": []
  }
 ],
 "metadata": {
  "kernelspec": {
   "display_name": "Python 3",
   "language": "python",
   "name": "python3"
  },
  "language_info": {
   "codemirror_mode": {
    "name": "ipython",
    "version": 3
   },
   "file_extension": ".py",
   "mimetype": "text/x-python",
   "name": "python",
   "nbconvert_exporter": "python",
   "pygments_lexer": "ipython3",
   "version": "3.6.4"
  }
 },
 "nbformat": 4,
 "nbformat_minor": 2
}
