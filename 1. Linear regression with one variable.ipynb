{
 "cells": [
  {
   "cell_type": "markdown",
   "metadata": {
    "collapsed": true
   },
   "source": [
    "## 2. 단변량 선형회귀(Linear regression with one variable)\n",
    "\n",
    "### 모델 표현(Model representation)\n",
    "\n",
    "집 가격 예측문제 (Portland, OR)"
   ]
  },
  {
   "cell_type": "code",
   "execution_count": 141,
   "metadata": {
    "scrolled": true
   },
   "outputs": [
    {
     "data": {
      "image/png": "[encoded data removed]",
      "text/plain": [
       "<Figure size 432x288 with 1 Axes>"
      ]
     },
     "metadata": {
      "needs_background": "light"
     },
     "output_type": "display_data"
    }
   ],
   "source": [
    "import numpy as np\n",
    "import matplotlib.pyplot as plt\n",
    "\n",
    "size_data = np.array([2104,  1600,  2400,  1416,  3000,  1985,  1534,  1427,  1380, 1494,  1940,\n",
    "  2000,  1890,  4478,  1268,  2300, 1320,  1236,  2609,  3031,  1767,  1888,  1604, 1962,  3890,\n",
    "  1100,  1458,  2526,  2200,  2637,  1839,  1000, 2040,  3137,  1811,  1437,  1239, 2132,  4215,\n",
    "  2162,  1664,  2238,  2567,  1200,   852,   1852,  1203 ])\n",
    "price_data = np.array([399900,  329900,  369000,  232000,  539900,  299900,  314900, 198999,  \n",
    "  212000,  242500,  239999,  347000,  329999,  699900,  259900, 449900,  299900,  199900,  \n",
    "  499998,  599000,  252900,  255000,  242900,  259900,  573900, 249900,  464500,  469000,  \n",
    "  475000,  299900,  349900,  169900,  314900,  579900,  285900,  249900,  229900,  345000,  \n",
    "  549000,  287000,  368500,  329900,  314000,  299000,  179900,  299900,  239500 ])\n",
    "\n",
    "price_data = price_data / 1000.\n",
    "# Display a plot\n",
    "plt.plot(size_data, price_data, 'rx', label='Samples data')\n",
    "plt.legend()\n",
    "plt.xlabel('size(feet*feet)')\n",
    "plt.ylabel('price(in 1,000s of dollars)')\n",
    "plt.draw()"
   ]
  },
  {
   "cell_type": "markdown",
   "metadata": {},
   "source": [
    "* **지도/감독 학습(Supervised Learning)** - 자료의 “정확한 답＂이 각 예들에 대해 주어진 경우\n",
    "* **회귀문제(Regression Problem)** - 실수 값을 갖는 출력을 예측하는 경우 (vs 분류문제 - 이산적인 출력을 예측)"
   ]
  },
  {
   "cell_type": "markdown",
   "metadata": {},
   "source": [
    "#### 집 가격의 훈련집합(Portland, OR)\n",
    "\n",
    "| Size ($feet^2$) (x) | Price (\\$1000) (y) |\n",
    "|----------------------|--------------------------|\n",
    "| 2104 | 460 |\n",
    "| 1416 | 232 |\n",
    "| 1534 | 315 |\n",
    "| 852 | 178 |\n",
    "| $\\cdots$ | $\\cdots$ |\n",
    "\n",
    "기호 : \n",
    "\n",
    "$m =$ 훈련자료의 갯수 (=47)\n",
    "\n",
    "$x's =$ \"입력(input)\" 변수 / 특징(features)\n",
    "\n",
    "$y's =$ \"출력(output)\" 변수 / \"목적(target)\" 변수\n",
    "\n",
    "$(x,y)$ - one training example\n",
    "\n",
    "$(x^{(i)}, y^{(i)})$ - i-th training example\n",
    "\n",
    "$x^{(1)}=2104$, $x^{(2)}=1416$, $y^{(1)}=460$ "
   ]
  },
  {
   "cell_type": "markdown",
   "metadata": {},
   "source": [
    "$$\\text{[훈련자료집합]}$$\n",
    "$$\\downarrow$$\n",
    "$$\\text{[학습 알고리즘]}$$\n",
    "$$\\downarrow$$\n",
    "$$   \\text{ 집 크기} \\rightarrow [ h ]\\rightarrow \\text{추정가격} $$\n",
    "\n",
    "$$ \\quad \\quad x \\ \\rightarrow \\text{hypothesis} \\rightarrow \\text{y의 추정치}$$ \n",
    "h 는  x 를 y 로 매핑해준다.\n",
    "\n",
    "우리는 h를 어떻게 표현하는가?\n",
    "\n",
    "$$h_\\theta(x) = \\theta_0 + \\theta_1 x \\quad or = h(x) $$\n",
    "\n",
    ">\n",
    "\n",
    ">\n",
    "\n",
    ">\n",
    "\n",
    ">\n",
    "\n",
    "변수가 하나인 (i.e. x) 선형회귀 ==> 단변량 선형회귀 (Univariate linear regression)"
   ]
  },
  {
   "cell_type": "code",
   "execution_count": 142,
   "metadata": {},
   "outputs": [
    {
     "data": {
      "text/plain": [
       "260.0"
      ]
     },
     "execution_count": 142,
     "metadata": {},
     "output_type": "execute_result"
    }
   ],
   "source": [
    "def hypothesis(x,theta0,theta1):\n",
    "    return theta0 + theta1*x\n",
    "\n",
    "hypothesis(2000,100,0.08) # x=200, theta0=100, theta1=0.08"
   ]
  },
  {
   "cell_type": "markdown",
   "metadata": {},
   "source": [
    "### 비용함수(Cost function)\n",
    "\n",
    "**훈련자료**\n",
    "\n",
    "| Size in $feet^2$ (x) | Price (\\$) in 1000's (y) |\n",
    "|----------------------|--------------------------|\n",
    "| 2104 | 460 |\n",
    "| 1416 | 232 |\n",
    "| 1534 | 315 |\n",
    "| 852 | 178 |\n",
    "| $\\cdots$ | $\\cdots$ |\n",
    "\n",
    "가설(Hypothesis) : $h_\\theta(x) = \\theta_0 + \\theta_1 x$\n",
    "\n",
    "$\\theta_i$: 파라메타(Parameters), 그러면, $\\theta_i$는 어떻게 선택하는가?\n"
   ]
  },
  {
   "cell_type": "markdown",
   "metadata": {},
   "source": [
    "$$h_\\theta(x) = \\theta_0 + \\theta_1 x$$\n",
    "\n",
    "|$\\theta_0 = 1.5, \\theta_1 = 0 $  |$\\theta_0 = 0, \\theta_1 = 0.5 $  |$\\theta_0 = 1, \\theta_1 = 0.5 $  |\n",
    "|---------|--------|--------|\n",
    "|<img src=\"https://raw.githubusercontent.com/junji64/Machine-Learning/ededef4a90488b2a1ee1099f66d542b1725f85a0/images/axis.PNG\" width=\"150\"> |<img src=\"https://raw.githubusercontent.com/junji64/Machine-Learning/ededef4a90488b2a1ee1099f66d542b1725f85a0/images/axis.PNG\" width=\"150\"> | <img src=\"https://raw.githubusercontent.com/junji64/Machine-Learning/ededef4a90488b2a1ee1099f66d542b1725f85a0/images/axis.PNG\" width=\"150\">|\n",
    "| $ h(x) = 1.5 + 0\\cdot x$  |$ h(x) = 0.5 x$ | $ h(x) = 1 + 0.5 x$ |\n"
   ]
  },
  {
   "cell_type": "markdown",
   "metadata": {},
   "source": [
    "**생각** : $h_\\theta(x)$ 가 우리의 훈련자료 $(x,y)$에서 $y$에 가깝도록 $\\theta_0$ 과 $\\theta_1$을 선택한다.\n",
    "<img src=\"https://raw.githubusercontent.com/junji64/Machine-Learning/ededef4a90488b2a1ee1099f66d542b1725f85a0/images/axis.PNG\" width=\"150\">\n",
    "\n",
    "$$ \\underset{\\theta_0, \\theta_1}{\\text{minimize }}  { 1 \\over 2m} \\sum_{i=1}^m (h_\\theta(x^{(i)})- y^{(i)})^2 $$\n",
    "\n",
    "where $ h_\\theta(x^{(i)}) = \\theta_0 + \\theta_1 x^{(i)} $\n",
    "\n",
    "\n",
    "$$J(\\theta_0, \\theta_1) =  { 1 \\over 2m} \\sum_{i=1}^m (h_\\theta(x^{(i)})- y^{(i)})^2 $$\n",
    "\n",
    "$$\\min_{\\theta_0, \\theta_1} J(\\theta_0, \\theta_1) \\quad \\leftarrow \\text{Minimize Cost Function (e.g. Squared error function)}$$\n",
    "<hr>"
   ]
  },
  {
   "cell_type": "markdown",
   "metadata": {},
   "source": [
    "### 비용함수(Cost function) - intuition I\n",
    "<img src=\"https://raw.githubusercontent.com/junji64/Machine-Learning/ededef4a90488b2a1ee1099f66d542b1725f85a0/images/axis.PNG\" width=\"150\" align=\"right\" style=\"margin-right:200px\">\n",
    "\n",
    "가설(Hyopthesis) : $h_\\theta(x) = \\theta_0 + \\theta_1 x$\n",
    "\n",
    "파라메타 : $\\theta_0 , \\theta_1 $\n",
    "\n",
    "비용함수 : $J(\\theta_0, \\theta_1) =  { 1 \\over 2m} \\sum_{i=1}^m (h_\\theta(x^{(i)})- y^{(i)})^2 $\n",
    "\n",
    "목적 : $\\underset{\\theta_0, \\theta_1}{\\text{minimize }} J(\\theta_0, \\theta_1)$\n",
    ">\n",
    "\n",
    "####  단순화 \n",
    "<img src=\"https://raw.githubusercontent.com/junji64/Machine-Learning/ededef4a90488b2a1ee1099f66d542b1725f85a0/images/axis.PNG\" width=\"150\" align=\"right\" style=\"margin-right:200px\">\n",
    "가설(Hyopthesis) : $h_\\theta(x) = \\theta_1 x$\n",
    "\n",
    "파라메타 : $ \\theta_1 $\n",
    "\n",
    "비용함수 :  $J(\\theta_1) =  { 1 \\over 2m} \\sum_{i=1}^m (h_\\theta(x^{(i)})- y^{(i)})^2 $\n",
    " \n",
    "목적 : $\\underset{\\theta_1}{\\text{minimize }} J(\\theta_1)$\n",
    ">\n",
    "<hr>\n",
    " \n",
    "| $h_\\theta(x) \\quad \\quad \\quad \\quad \\quad$           |  $J(\\theta) \\quad \\quad \\quad \\quad \\quad$ |\n",
    "|-----------------------|--------------------------|\n",
    "| (고정된$\\theta_1$에 대해, 이것은 x의 함수) | (파라메타 $\\theta_1$의 함수)   |\n",
    "|When $\\theta_1 = 1 $ <img src=\"https://raw.githubusercontent.com/junji64/Machine-Learning/ededef4a90488b2a1ee1099f66d542b1725f85a0/images/axis2.PNG\" width=\"200\">|<img src=\"https://raw.githubusercontent.com/junji64/Machine-Learning/ededef4a90488b2a1ee1099f66d542b1725f85a0/images/axis3.PNG\" width=\"250\"> |\n",
    " >\n",
    " \n",
    " >\n",
    "\n",
    "\n",
    "| $h_\\theta(x) \\quad \\quad \\quad \\quad \\quad$           |  $J(\\theta) \\quad \\quad \\quad \\quad \\quad$ |\n",
    "|-----------------------|--------------------------|\n",
    "| (고정된$\\theta_1$에 대해, 이것은 x의 함수) | (파라메타 $\\theta_1$의 함수)   |\n",
    "|When $\\theta_1 = 0.5 $  <img src=\"https://raw.githubusercontent.com/junji64/Machine-Learning/ededef4a90488b2a1ee1099f66d542b1725f85a0/images/axis2.PNG\" width=\"200\">|<img src=\"https://raw.githubusercontent.com/junji64/Machine-Learning/ededef4a90488b2a1ee1099f66d542b1725f85a0/images/axis3.PNG\" width=\"250\"> |\n",
    " \n",
    " >\n",
    " \n",
    " >\n",
    " \n",
    "| $h_\\theta(x) \\quad \\quad \\quad \\quad \\quad$           |  $J(\\theta) \\quad \\quad \\quad \\quad \\quad$ |\n",
    "|-----------------------|--------------------------|\n",
    "| (고정된$\\theta_1$에 대해, 이것은 x의 함수) | (파라메타 $\\theta_1$의 함수)   |\n",
    "|When $\\theta_1 = 0 $  <img src=\"https://raw.githubusercontent.com/junji64/Machine-Learning/ededef4a90488b2a1ee1099f66d542b1725f85a0/images/axis2.PNG\" width=\"200\">|<img src=\"https://raw.githubusercontent.com/junji64/Machine-Learning/ededef4a90488b2a1ee1099f66d542b1725f85a0/images/axis3.PNG\" width=\"250\"> |\n",
    " \n",
    " >\n",
    " \n",
    " >\n",
    " "
   ]
  },
  {
   "cell_type": "markdown",
   "metadata": {},
   "source": [
    "\n",
    "### 비용함수(Cost function) - intuition II\n",
    "\n",
    "\n",
    "**가설 (Hypothesis)** : $h_\\theta(x) = \\theta_0 + \\theta_1 x$\n",
    "\n",
    "**파라메타** : $\\theta_0 , \\theta_1 $\n",
    "\n",
    "**비용함수** : $J(\\theta_0, \\theta_1) =  { 1 \\over 2m} \\sum_{i=1}^m (h_\\theta(x^{(i)})- y^{(i)})^2 $\n",
    "\n",
    "**목적** : $\\underset{\\theta_0, \\theta_1}{\\text{minimize }} J(\\theta_0, \\theta_1)$"
   ]
  },
  {
   "cell_type": "code",
   "execution_count": 235,
   "metadata": {
    "scrolled": true
   },
   "outputs": [
    {
     "data": {
      "image/png": "[encoded data removed]",
      "text/plain": [
       "<Figure size 432x288 with 1 Axes>"
      ]
     },
     "metadata": {
      "needs_background": "light"
     },
     "output_type": "display_data"
    }
   ],
   "source": [
    "x = np.arange(0,4500,20)\n",
    "y = 300 + 0.04 * x\n",
    "plt.plot(x, y, '-', label='h(x)=100+0.08 x')\n",
    "\n",
    "plt.plot(size_data, price_data, 'rx', label='Samples data')\n",
    "plt.legend()\n",
    "plt.xlabel('size(feet*feet)')\n",
    "plt.ylabel('price(in 1,000s of dollars)')\n",
    "plt.title('h(x)')\n",
    "plt.draw()"
   ]
  },
  {
   "cell_type": "markdown",
   "metadata": {},
   "source": [
    "<img src=\"https://raw.githubusercontent.com/junji64/Machine-Learning/ededef4a90488b2a1ee1099f66d542b1725f85a0/images/cost_function.png\" width=\"400\">\n",
    "\n",
    "<img src=\"./images/contour-1.PNG\" width=\"600\">\n",
    "<img src=\"./images/contour-2.PNG\" width=\"600\">\n",
    "<img src=\"./images/contour-3.PNG\" width=\"600\">\n",
    "<img src=\"./images/contour-4.PNG\" width=\"600\">"
   ]
  },
  {
   "cell_type": "code",
   "execution_count": 238,
   "metadata": {},
   "outputs": [
    {
     "name": "stdout",
     "output_type": "stream",
     "text": [
      "5604.226059648935\n"
     ]
    }
   ],
   "source": [
    "def computeCost(x,y,theta0,theta1):\n",
    "    error = hypothesis(x,theta0,theta1) - y\n",
    "    cost = np.sum(error**2) / (2*len(y))        \n",
    "    return cost\n",
    "\n",
    "print(computeCost(size_data,price_data,300,0.04))"
   ]
  },
  {
   "cell_type": "markdown",
   "metadata": {},
   "source": [
    "### 경사하강 (Gradient Descent)\n",
    "\n",
    "어떤 함수 $J(\\theta_0, \\theta_1)$를 가지고,\n",
    "\n",
    "\n",
    "$\\underset{\\theta_0, \\theta_1}{\\text{min }} J(\\theta_0, \\theta_1)$ 를 원한다.\n",
    "\n",
    "**Outline** : \n",
    "* 임의의 $\\theta_0, \\theta_1$로 시작한다.(e.g. $\\theta_0=0$, $\\theta_1=0$)\n",
    "* $J(\\theta_0, \\theta_1)$가 감소하도록 $\\theta_0, \\theta_1$를 계속 변화시키면서 최소값에 도달할 때까지 수행한다, .\n",
    "\n",
    "\n",
    "<img src=\"https://raw.githubusercontent.com/junji64/Machine-Learning/ededef4a90488b2a1ee1099f66d542b1725f85a0/images/gradient-descent-ani.gif\" width=\"500\">\n",
    "\n",
    "<img src=\"https://miro.medium.com/max/2732/1*iU1QCnSTKrDjIPjSAENLuQ.png\" width=\"400\">\n"
   ]
  },
  {
   "cell_type": "markdown",
   "metadata": {},
   "source": [
    "**Gradient Descent algorithm**\n",
    "\n",
    "repeat until convergence {\n",
    "\n",
    "$\\quad \\theta_j := \\theta_j - \\alpha { \\partial \\over \\partial \\theta_j} J (\\theta_0, \\theta_1) \\quad  (\\text{for } j=0 \\text{ and } j=1)$\n",
    "    \n",
    "}\n",
    "\n",
    "| **Correct : Simultaneous update ** |...| **Incorrect : Separate update  ** |\n",
    "|---------------------------------------|---|------------------|\n",
    "| temp0 := $\\theta_0 - \\alpha { \\partial \\over \\partial \\theta_0} J (\\theta_0, \\theta_1)$  | . | $\\theta_0$ := $\\theta_0 - \\alpha { \\partial \\over \\partial \\theta_0} J (\\theta_0, \\theta_1)$  |\n",
    "| temp1 := $\\theta_1 - \\alpha { \\partial \\over \\partial \\theta_1} J (\\theta_0, \\theta_1)$  | . | $\\theta_1 $ := $\\theta_1 - \\alpha { \\partial \\over \\partial \\theta_1} J (\\theta_0, \\theta_1)$  |\n",
    "| $\\theta_0 := temp0 $ | . | . |\n",
    "| $\\theta_1 := temp1 $ | . | . |\n",
    "<hr>"
   ]
  },
  {
   "cell_type": "markdown",
   "metadata": {},
   "source": [
    "### Gradient Descent Intuition\n",
    "\n",
    "#### 경사하강 알고리즘\n",
    "\n",
    "repeat until convergence {\n",
    "    $$\\theta_j := \\theta_j - \\alpha { \\partial \\over \\partial \\theta_j} J (\\theta_0, \\theta_1) \\quad  (\\text{simultaneously update } j=0 \\text{ and } j=1)$$\n",
    "}\n",
    "\n",
    "\n",
    ">\n",
    "\n",
    "| <center>Positive Slope</center> | <center>Negative Slope</center> |\n",
    "|-----------|---------------|\n",
    "|<img src=\"https://raw.githubusercontent.com/junji64/Machine-Learning/ededef4a90488b2a1ee1099f66d542b1725f85a0/images/axis4.PNG\" width=\"250\"  > | <img src=\"https://raw.githubusercontent.com/junji64/Machine-Learning/ededef4a90488b2a1ee1099f66d542b1725f85a0/images/axis4.PNG\" width=\"250\" > |\n",
    "\n",
    ">\n",
    "\n",
    ">\n",
    "\n",
    ">\n",
    "<hr>\n",
    "\n",
    "<hr>\n",
    "$\\theta_1 := \\theta_1 - \\alpha {\\partial \\over \\partial \\theta_1} J (\\theta_1) $ $ \\quad \\rightarrow \\quad \\alpha$ (learning rate) 의 의미.\n",
    "\n",
    "| $\\alpha$ 가 너무 작으면, 경사강하가 느릴 수 있다. | $\\alpha$ 가 너무 크면,경사하강은 최소점을 지나칠 수 있다.  <br>  수렴에 실패하거나 심지어는 발산할 수도 있다. |\n",
    "|-----------|---------------|\n",
    "|<img src=\"https://raw.githubusercontent.com/junji64/Machine-Learning/ededef4a90488b2a1ee1099f66d542b1725f85a0/images/axis4.PNG\" width=\"250\"  > | <img src=\"https://raw.githubusercontent.com/junji64/Machine-Learning/ededef4a90488b2a1ee1099f66d542b1725f85a0/images/axis4.PNG\" width=\"250\" > |\n",
    "\n",
    "<hr>\n",
    "\n",
    "\n",
    "<img src=\"https://raw.githubusercontent.com/junji64/Machine-Learning/ededef4a90488b2a1ee1099f66d542b1725f85a0/images/local_min.PNG\" width=\"400\">\n",
    "\n",
    "<img src=\"https://raw.githubusercontent.com/junji64/Machine-Learning/ededef4a90488b2a1ee1099f66d542b1725f85a0/images/axis4.PNG\" width=\"250\" align=\"right\">\n",
    "경사하강은 학습률 α 가 고정된 상태로도, 국지적 최소점으로 수렴할 수 있다.\n",
    "\n",
    "$\\theta_1 := \\theta_1 - \\alpha {\\partial \\over \\partial \\theta_1} J (\\theta_1) $\n",
    "\n",
    "우리가 국지적 최소값에 접근함에 따라서, 경사하강은 자동적으로 더 작은 단계를 취한다. 따라서, 시간에 따라서 α 를 줄일 필요가 없다."
   ]
  },
  {
   "cell_type": "markdown",
   "metadata": {},
   "source": [
    "### Gradient Descent for linear regression\n",
    "\n",
    "**경사하강 알고리즘**\n",
    "\n",
    "repeat until convergence {\n",
    "    $$\\theta_j := \\theta_j - \\alpha { \\partial \\over \\partial \\theta_j} J (\\theta_0, \\theta_1) \\quad  (\\text{for } j=0 \\text{ and } j=1)$$\n",
    "}\n",
    "\n",
    "<hr>\n",
    "\n",
    "**선형회기 모델**\n",
    "\n",
    "$h_\\theta(x) = \\theta_0 + \\theta_1 x$\n",
    "\n",
    "$J(\\theta_0, \\theta_1) =  { 1 \\over 2m} \\sum_{i=1}^m (h_\\theta(x^{(i)})- y^{(i)})^2 $\n",
    "\n",
    "<hr>\n",
    "\n",
    "\n",
    "${\\partial \\over \\partial \\theta_j} J(\\theta_0, \\theta_1) = $\n",
    ">\n",
    ">\n",
    "\n",
    "\n",
    "$ j = 0 : {\\partial \\over \\partial \\theta_0} J(\\theta_0, \\theta_1) = $\n",
    "\n",
    "\n",
    "$ j = 1 : {\\partial \\over \\partial \\theta_1} J(\\theta_0, \\theta_1) = $\n",
    "\n",
    "**Gradient descent algorithm**\n",
    "\n",
    "repeat until convergence {\n",
    "    \n",
    "$\\theta_0 := \\theta_0 - \\alpha { 1 \\over m} \\sum_{i=1}^m (h_\\theta (x^{(i)}) -y^{(i)}) $\n",
    "    \n",
    "$\\theta_1 := \\theta_1 - \\alpha { 1 \\over m} \\sum_{i=1}^m (h_\\theta (x^{(i)}) -y^{(i)}) \\cdot x^{(i)} $\n",
    "\n",
    "}\n",
    "\n",
    "<img src=\"https://miro.medium.com/max/1098/1*yasmQ5kvlmbYMe8eDkyl6w.png\" width=\"400\">\n",
    "\n",
    "<img src=\"https://miro.medium.com/max/2732/1*iU1QCnSTKrDjIPjSAENLuQ.png\" width=\"400\">\n",
    "\n",
    "<img src=\"https://raw.githubusercontent.com/junji64/Machine-Learning/ededef4a90488b2a1ee1099f66d542b1725f85a0/images/cost_function.png\" width=\"400\">"
   ]
  },
  {
   "cell_type": "markdown",
   "metadata": {},
   "source": [
    "<img src=\"./images/contour-01.PNG\" width=\"500\">\n",
    "<img src=\"./images/contour-02.PNG\" width=\"500\">\n",
    "<img src=\"./images/contour-03.PNG\" width=\"500\">\n",
    "<img src=\"./images/contour-04.PNG\" width=\"500\">\n",
    "<img src=\"./images/contour-05.PNG\" width=\"500\">\n",
    "<img src=\"./images/contour-06.PNG\" width=\"500\">\n",
    "<img src=\"./images/contour-07.PNG\" width=\"500\">\n",
    "<img src=\"./images/contour-08.PNG\" width=\"500\">\n",
    "<img src=\"./images/contour-09.PNG\" width=\"500\">"
   ]
  },
  {
   "cell_type": "code",
   "execution_count": 231,
   "metadata": {},
   "outputs": [
    {
     "name": "stdout",
     "output_type": "stream",
     "text": [
      "h(x) =0.0 + 0.16x\n"
     ]
    },
    {
     "data": {
      "text/plain": [
       "[<matplotlib.lines.Line2D at 0x7f3bc5c4c198>]"
      ]
     },
     "execution_count": 231,
     "metadata": {},
     "output_type": "execute_result"
    },
    {
     "data": {
      "image/png": "[encoded data removed]",
      "text/plain": [
       "<Figure size 432x288 with 1 Axes>"
      ]
     },
     "metadata": {
      "needs_background": "light"
     },
     "output_type": "display_data"
    }
   ],
   "source": [
    "def gradientDescent(x,y,theta0,theta1,alpha=0.01,n_iters=100):\n",
    "    m = len(y)\n",
    "    J_history = np.zeros(n_iters)\n",
    "    \n",
    "    for i in range(n_iters):\n",
    "        error = hypothesis(x,theta0,theta1) - y\n",
    "        theta0 -= alpha * np.sum(error) / m\n",
    "        theta1 -= alpha * np.sum(error * x) / m\n",
    "        J_history[i] = computeCost(x,y,theta0,theta1)\n",
    "    \n",
    "    return theta0, theta1, J_history\n",
    "\n",
    "theta0 = 0.\n",
    "theta1 = 0.\n",
    "lr = 0.00000005\n",
    "n_iter = 20\n",
    "theta0, theta1, J_history = gradientDescent(size_data,price_data,theta0,theta1,lr,n_iter)\n",
    "\n",
    "print(\"h(x) =\" + str(round(theta0,2)) + \" + \" + str(round(theta1,2)) + \"x\")\n",
    "plt.plot(J_history)"
   ]
  },
  {
   "cell_type": "markdown",
   "metadata": {},
   "source": [
    "#### \"배치(Batch)\" 경사 하강\n",
    "\n",
    "* \"배치(Batch)\" 경사강하 - 경사강하의 각 단계마다 모든 훈련자료를 사용함\n",
    "* \"미니-배치(Mini-batch)\" 경사강하 - 경사강하의 각 단계마다 훈련자료의 일부만을 사용함\n",
    "* \"통계적(Stochastic) 경사강하 - 경사강하의 각 단계마다 훈련자료의 하나씩 만을 사용함"
   ]
  },
  {
   "cell_type": "code",
   "execution_count": 219,
   "metadata": {},
   "outputs": [
    {
     "data": {
      "image/png": "[encoded data removed]",
      "text/plain": [
       "<Figure size 432x288 with 1 Axes>"
      ]
     },
     "metadata": {
      "needs_background": "light"
     },
     "output_type": "display_data"
    }
   ],
   "source": [
    "x = np.arange(0,4500,20)\n",
    "y = theta0 + theta1 * x\n",
    "plt.plot(x, y, '-', label='h(x)=0+0.16 x')\n",
    "\n",
    "plt.plot(size_data, price_data, 'rx', label='Samples data')\n",
    "plt.legend()\n",
    "plt.xlabel('size(feet*feet)')\n",
    "plt.ylabel('price(in 1,000s of dollars)')\n",
    "plt.title('h(x)')\n",
    "plt.draw()"
   ]
  }
 ],
 "metadata": {
  "kernelspec": {
   "display_name": "Python 3",
   "language": "python",
   "name": "python3"
  },
  "language_info": {
   "codemirror_mode": {
    "name": "ipython",
    "version": 3
   },
   "file_extension": ".py",
   "mimetype": "text/x-python",
   "name": "python",
   "nbconvert_exporter": "python",
   "pygments_lexer": "ipython3",
   "version": "3.7.6"
  }
 },
 "nbformat": 4,
 "nbformat_minor": 2
}
