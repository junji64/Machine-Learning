{
 "cells": [
  {
   "cell_type": "markdown",
   "metadata": {
    "collapsed": true,
    "slideshow": {
     "slide_type": "slide"
    }
   },
   "source": [
    "## 2. 다변량 선형회귀(Linear Regression with multiple variables)\n",
    "\n",
    "### 다수의 특징들(Multiple features)\n",
    "\n",
    "#### 다수의 특징들 (변수들: variables)\n",
    "\n",
    "\n",
    "\n",
    "| x in size($feet^2$)  | y in price(\\$1,000)  |\n",
    "|------------------|-----------------|\n",
    "| 2104 | 460 |\n",
    "| 1416 | 232 |\n",
    "| 1534 | 315 |\n",
    "| 852 | 178 |\n",
    "| $\\cdots$ | $\\cdots$ |\n",
    "\n",
    "$$h_\\theta(x) = \\theta_0 + \\theta_1 x$$\n",
    "\n",
    ">\n",
    "\n"
   ]
  },
  {
   "cell_type": "markdown",
   "metadata": {
    "slideshow": {
     "slide_type": "slide"
    }
   },
   "source": [
    "#### 다수의 특징들 (변수들: variables)\n",
    "\n",
    "| Size($feet^2$)  | No. of beadrooms | No. of floors | Age of home(years) | price(\\$1,000)  |\n",
    "|----------|---|---|---|--------|\n",
    "| $x_1$  | $x_2$ | $x_3$| $x_4$ | $y$  |\n",
    "| 2104 | 5 | 1 | 45 | 460 |\n",
    "| 1416 | 3 | 2 | 40 | 232 |\n",
    "| 1534 | 3 | 2 | 30 | 315 |\n",
    "|  852 | 2 | 1 | 36 | 178 |\n",
    "| $\\cdots$ | $\\cdots$ |$\\cdots$ |$\\cdots$ | $\\cdots$ |\n",
    "\n",
    "기호(Notation):\n",
    "* $n = $ 특징들의 개수(number of features) : $\\quad$ (e.g.) $n=4$\n",
    "* $x^{(i)} = $ i-번째 훈련자료의 입력 (특징들) : $\\quad$(e.g) $x^{(2)} =$ \n",
    "* $x_j^{(i)}= $ i-번째 훈련자료에서 특징 j 의 값: $\\quad$(e.g) $x_3^{(2)} =$\n",
    "\n",
    ">\n",
    "\n",
    ">"
   ]
  },
  {
   "cell_type": "markdown",
   "metadata": {},
   "source": [
    "**가설(Hypothesis)**:\n",
    "\n",
    "Previously : \n",
    "$$h_\\theta(x) = \\theta_0 + \\theta_1 x$$\n",
    "\n",
    "Now : $$h_\\theta(x) = \\theta_0 + \\theta_1 x_1 + \\theta_2 x_2 + \\theta_3 x_3  + \\theta_4 x_4 $$\n",
    "\n",
    "e.g. : $$h_\\theta(x) = 80 + 0.1 x_1 + 0.01 x_2 + 3 x_3  - 2 x_4 $$\n",
    "\n",
    ">\n",
    "\n",
    ">\n",
    "\n"
   ]
  },
  {
   "cell_type": "markdown",
   "metadata": {},
   "source": [
    "$h_\\theta(x) = \\theta_0 + \\theta_1 x_1 + \\theta_2 x_2 + \\cdots + \\theta_n x_n $\n",
    "\n",
    "For convenience of notation, define $x_0 = 1$ (i.e. $x_0^{(i)}=1$)\n",
    "\n",
    "$ \\mathbf{x} = \\begin{bmatrix}\n",
    "x_0 \\\\\n",
    "x_1 \\\\\n",
    "x_2\\\\\n",
    "\\vdots\\\\\n",
    "x_n\\\\\n",
    "\\end{bmatrix}\n",
    "\\in \\mathbb{R}^{n+1}\n",
    "\\quad \\quad\n",
    "\\mathbf{\\theta} = \\begin{bmatrix}\n",
    "\\theta_0 \\\\\n",
    "\\theta_1 \\\\\n",
    "\\theta_2\\\\\n",
    "\\vdots\\\\\n",
    "\\theta_n\\\\\n",
    "\\end{bmatrix}\n",
    "\\in \\mathbb{R}^{n+1}\n",
    "$\n",
    "\n",
    "$\n",
    "\\begin{align*}\n",
    " h_\\theta(x) & = \\theta_0 x_0 +  \\theta_1 x_1 + \\theta_2 x_2 + \\cdots + \\theta_n x_n  \\\\\n",
    "      &= \\mathbf{\\theta}^T \\mathbf{x}\n",
    "\\end{align*}\n",
    "$\n",
    "\n",
    ">\n",
    "\n",
    ">\n",
    "\n",
    "다변량 선형회귀(Multivariate linear regression)"
   ]
  },
  {
   "cell_type": "markdown",
   "metadata": {},
   "source": [
    "### 다변량 경사하강(Gradient descent for multiple variables)\n",
    "\n",
    "**Hypothesis** : $h_\\theta(x)= \\mathbf{\\theta}^T \\mathbf{x} = \\theta_0 x_0 + \\theta_1 x_1 + \\theta_2 x_2 + \\cdots + \\theta_n x_n$\n",
    "\n",
    "**Parameters** : $ \\mathbf{\\theta} = \\{ \\theta_0, \\theta_1, \\theta_2, \\cdots, \\theta_n \\}$\n",
    "\n",
    "**Cost Function**:\n",
    "$$J(\\theta_0, \\theta_1, \\cdots, \\theta_n) = J(\\mathbf{\\theta}) = { 1 \\over 2m} \\sum_{i=1}^m (h_\\theta(x^{(i)})- y^{(i)})^2 $$\n",
    "\n",
    "**Gradient descent**:\n",
    "\n",
    "repeat { <br>\n",
    "$ \\quad \\quad \\theta_j := \\theta_j - \\alpha  {\\partial \\over \\partial \\theta_j} J(\\theta_0, \\theta_1, \\theta_2, \\cdots, \\theta_n ) $  <br>\n",
    "} $  \\quad \\quad \\quad \\quad $ (Simultaneous update for every $j=0,\\cdots,n$ )\n"
   ]
  },
  {
   "cell_type": "markdown",
   "metadata": {},
   "source": [
    "#### Gradient descent \n",
    "\n",
    "Previously ($n=1$):\n",
    "\n",
    "repeat { <br> \n",
    "$\\quad \\quad \\quad \\theta_0 := \\theta_0 - \\alpha {1 \\over m} \\sum_{i=1}^m (h_\\theta (x^{(i)}) -y^{(i)}) = \\theta_0 - \\alpha  {\\partial \\over \\partial \\theta_0 } J(\\theta)$\n",
    "    \n",
    "    \n",
    "$\\quad \\quad \\quad \\theta_1 := \\theta_1 - \\alpha {1 \\over m} \\sum_{i=1}^m (h_\\theta (x^{(i)}) -y^{(i)}) \\cdot x^{(i)} $\n",
    "<br>\n",
    "}$\\quad \\quad \\quad \\quad \\quad \\quad $(Simultaneous update for every $\\theta_0, \\theta_1$ )\n",
    "\n",
    "<hr>\n",
    "New algorithm ($n \\ge 1$):\n",
    "\n",
    "repeat {   \n",
    "$\\quad \\quad \\quad \\theta_j := \\theta_j - \\alpha {1 \\over m} \\sum_{i=1}^m (h_\\theta (x^{(i)}) -y^{(i)}) x_j^{(i)}$\n",
    "<br>\n",
    "}$\\quad \\quad \\quad \\quad \\quad \\quad $(Simultaneous update $\\theta_j$ for every $j=0,\\cdots,n$ )\n",
    "\n",
    "i.e.\n",
    "\n",
    "$\\theta_0 := \\theta_0 - \\alpha {1 \\over m} \\sum_{i=1}^m (h_\\theta (x^{(i)}) -y^{(i)}) \\cdot x_0^{(i)} $\n",
    "\n",
    "$\\theta_1 := \\theta_1 - \\alpha {1 \\over m} \\sum_{i=1}^m (h_\\theta (x^{(i)}) -y^{(i)}) \\cdot x_1^{(i)} $\n",
    "\n",
    "$\\theta_2 := \\theta_2 - \\alpha {1 \\over m} \\sum_{i=1}^m (h_\\theta (x^{(i)}) -y^{(i)}) \\cdot x_2^{(i)} $\n",
    "\n",
    "$ \\cdots $"
   ]
  },
  {
   "cell_type": "markdown",
   "metadata": {},
   "source": [
    "### Gradient Descent in practice 1: Feature Scaling\n",
    "\n",
    "**Feature Scaling** : Idea ==>  특징들이 유사한 스케일이 되게 하는 것\n",
    "\n",
    "| $x_1 = \\text{size (0~2000 feet}^2$) |  (new) $x_1 = {\\text{size(feet^2)} \\over 2000} $ \n",
    "|----|----\n",
    "| $x_2 =$ number of bedrooms (1~5) | (new) $x_2 = {\\text{No of beadrooms} \\over 5} $ \n",
    "|<img src=\"./images/ellipse.PNG\" width=\"140\" height=\"300\">|<img src=\"./images/circles.PNG\" width=\"150\">"
   ]
  },
  {
   "cell_type": "markdown",
   "metadata": {},
   "source": [
    "### 특징 스케일링(feature Scaling)\n",
    "\n",
    "모든 특징들이 대략적으로 $ -1 \\le x_i \\le 1 $ 구간이 되도록 함.\n",
    "\n",
    "let \n",
    "\n",
    "$x_0 = 1$\n",
    "\n",
    "$ -3 \\le x_1 \\le 3 $  $\\quad \\quad \\sim $ OK\n",
    "\n",
    "$ -2 \\le x_2 \\le 0.5 $  $\\quad \\quad \\sim $ OK\n",
    "\n",
    "$ -100 \\le x_3 \\le 100 $  $\\quad \\quad \\ne $ OK\n",
    "\n",
    "$ -0.0001 \\le x_4 \\le 0.0001 $  $\\quad \\quad \\ne $ OK\n",
    "\n",
    ">\n"
   ]
  },
  {
   "cell_type": "markdown",
   "metadata": {
    "slideshow": {
     "slide_type": "slide"
    }
   },
   "source": [
    "### 평균 정규화 (Mean normalization)\n",
    "\n",
    "$x_i$ 를 $x_i-\\mu_i$ 로 교체 ($\\mu_i$ : mean of $x_i$) <= 특징들의 평균이 대략적으로 0 이 되도록($x_0=1$ 에는 해당 없음).\n",
    "\n",
    "e.g. $\\quad x_1 = { \\text{size} -1000 \\over 2000 } \\quad \\Rightarrow \\quad  -0.5 \\le x_1 \\le 0.5 $\n",
    "\n",
    "$\\quad \\quad x_2 = { \\text{No. of beadrooms} - 2 \\over 5 } \\quad \\Rightarrow \\quad  -0.5 \\le x_2 \\le 0.5$\n",
    "\n",
    "\n",
    ">\n",
    "\n",
    ">\n",
    "\n",
    ">\n",
    "\n",
    ">"
   ]
  },
  {
   "cell_type": "markdown",
   "metadata": {},
   "source": [
    "### Gradient Descent in practice 2: 학습률(Learning rate)\n",
    "\n",
    "**Gradient Descent**\n",
    "\n",
    "$$\\theta_j := \\theta_j - \\alpha { \\partial \\over \\partial \\theta_j} J (\\theta) $$\n",
    "\n",
    "* Debugging: 어떻게 경사하강을 제대로 작동되게 할 수 있나?\n",
    "* 학습률 $\\alpha$를 어떻게 선택하는가?"
   ]
  },
  {
   "cell_type": "markdown",
   "metadata": {},
   "source": [
    "**경사하강이 올바르게 작동하는지 확인하시오**\n",
    "\n",
    ">\n",
    "\n",
    "<img src=\"./images/axis7.PNG\" width=\"200\" align=\"left\" style=\"margin-right:100px\" >\n",
    "\n",
    ">\n",
    "$J(\\theta)$ 의 크기는 매 반복 때 마다 감소해야만 한다.\n",
    "\n",
    "자동 수렴 테스트 예 :\n",
    "\n",
    "$J(\\theta)$ 가 한 번의 반복에 $10^{-3}$보다 적게 감소하면 수렴 선언\n",
    ">\n",
    "\n",
    ">\n",
    "\n",
    ">"
   ]
  },
  {
   "cell_type": "markdown",
   "metadata": {},
   "source": [
    "**경사하강이 동작하지 않는 경우** \n",
    "\n",
    "| .  | . | .\n",
    "|----|---|---\n",
    "|$\\quad$ <img src=\"./images/axis7.PNG\" width=\"200\">  | $\\quad$ <img src=\"./images/axis7.PNG\" width=\"200\"> |$\\quad$<img src=\"./images/axis7.PNG\" width=\"200\" > \n",
    "\n",
    "* 더 작은 $\\alpha$를 사용해야 한다.\n",
    "\n",
    "\n",
    "* $\\alpha$ 가 충분히 작으면 반복 할 때마다 $J(\\theta)$는 감소해야 합니다.\n",
    "\n",
    "\n",
    "* 그러나 너무 작으면 경사 하강이 수렴하는 데 느려질 수 있습니다."
   ]
  },
  {
   "cell_type": "markdown",
   "metadata": {},
   "source": [
    "**요약**\n",
    "\n",
    "<img src=\"./images/axis7.PNG\" width=\"170\" align=\"right\">\n",
    "\n",
    "> \n",
    "\n",
    "* $\\alpha$ 가 너무 작으면: 천천히 수렴.\n",
    "\n",
    "\n",
    "* $\\alpha$ 가 너무 크면: $J(\\theta)$가 반복 때마다 감소하지 않을 수 있고; <br>수렴하지 않을 수도 있다.\n",
    "\n",
    ">\n",
    "\n",
    ">\n",
    "\n",
    "* $\\alpha$ 선택을 위해서, 다음과 같은 방법을 권장합니다.\n",
    "\n",
    "\n",
    "$$ \\cdots, 0.001, \\quad \\cdots \\quad, 0.01, \\quad \\cdots \\quad, 0.1, \\quad \\cdots \\quad, 1, \\cdots $$\n",
    "$$ \\cdots, 0.001,\\quad 0.003,\\quad 0.01,\\quad 0.03,\\quad 0.1,\\quad 0.3,\\quad 1,\\quad \\cdots $$\n",
    "\n",
    "\n",
    ">\n",
    "\n",
    ">"
   ]
  },
  {
   "cell_type": "markdown",
   "metadata": {},
   "source": [
    "### 특징들과 다항식 회귀(polynomial regression)\n",
    "<img src=\"./images/house.png\" align=\"right\" width=\"180\">\n",
    "\n",
    "집 값 예측\n",
    "\n",
    "$$h_\\theta(x) = \\theta_0 + \\theta_1 \\times \\text{frontage} + \\theta_2 \\times \\text{depth} $$\n",
    "\n",
    "$$\\text{Area} = x = \\text{frontage} \\times \\text{depth}$$\n",
    "\n"
   ]
  },
  {
   "cell_type": "code",
   "execution_count": 74,
   "metadata": {
    "scrolled": true
   },
   "outputs": [
    {
     "data": {
      "image/png": "[encoded data removed]",
      "text/plain": [
       "<Figure size 432x288 with 1 Axes>"
      ]
     },
     "metadata": {
      "needs_background": "light"
     },
     "output_type": "display_data"
    }
   ],
   "source": [
    "import numpy as np\n",
    "import matplotlib.pyplot as plt\n",
    "\n",
    "size_data  = np.array([14,15,16,17,19,19,19.5,20,21,23,26,26.5,28,28.5,30,31,33,36,36,39])\n",
    "price_data = np.array([10,20,25,24,21,30,  35,29,36,40,34,  37,35, 38,37,40,38,40,36,38 ])\n",
    "\n",
    "x = np.arange(5,50,2)\n",
    "y1 = -20 + 2*x \n",
    "y2 = -80 + 9*x - 0.160* x**2\n",
    "y3 = -60 + 9*x - 0.260* x**2 + 0.0028 * (x-2)**3\n",
    "plt.plot(x, y1, '--', label='h(x)=-20 + 2x')\n",
    "plt.plot(x, y2, '--', label='h(x)=-80 + 9x - 0.16 x*x ')\n",
    "plt.plot(x, y3, '--', label='h(x)=-60 + 9x - 0.26 x*x + 0.0028 x*x*x')\n",
    "plt.plot(size_data, price_data, 'rx', label='Samples data')\n",
    "plt.legend()\n",
    "plt.xlabel('size(feet*feet)')\n",
    "plt.ylabel('price(in 1,000s of dollars)')\n",
    "plt.title('h(x)')\n",
    "plt.draw()"
   ]
  },
  {
   "cell_type": "markdown",
   "metadata": {
    "slideshow": {
     "slide_type": "-"
    }
   },
   "source": [
    "**다항식(~고차 다항식: high-order polynomial) 회귀**\n",
    "\n",
    "$$\n",
    "\\begin{align*}\n",
    " h_\\theta(x) & = \\theta_0 + \\theta_1 x_1 + \\theta_2 x_2 + \\theta_3 x_3 \\\\\n",
    "      &= \\theta_0 + \\theta_1 (\\text{size}) + \\theta_2 (\\text{size})^2 + \\theta_3 (\\text{size})^3\\\\\n",
    "  x_1 & = (\\text{size}) \\\\\n",
    "  x_2 & = (\\text{size})^2 \\\\\n",
    "  x_3 & = (\\text{size})^3 \\\\\n",
    "\\end{align*}\n",
    "$$\n",
    "\n",
    "**특징 선택**\n",
    "$$h_\\theta(x) = \\theta_0 + \\theta_1 (\\text{size}) + \\theta_2 (\\text{size})^2 $$\n",
    "\n",
    "$$h_\\theta(x) = \\theta_0 + \\theta_1 (\\text{size}) + \\theta_2 \\sqrt{(size)} $$"
   ]
  }
 ],
 "metadata": {
  "celltoolbar": "Slideshow",
  "kernelspec": {
   "display_name": "Python 3",
   "language": "python",
   "name": "python3"
  },
  "language_info": {
   "codemirror_mode": {
    "name": "ipython",
    "version": 3
   },
   "file_extension": ".py",
   "mimetype": "text/x-python",
   "name": "python",
   "nbconvert_exporter": "python",
   "pygments_lexer": "ipython3",
   "version": "3.7.4"
  }
 },
 "nbformat": 4,
 "nbformat_minor": 2
}
