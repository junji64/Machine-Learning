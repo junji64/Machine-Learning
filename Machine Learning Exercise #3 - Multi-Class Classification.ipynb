{
 "cells": [
  {
   "cell_type": "markdown",
   "metadata": {},
   "source": [
    "# Multi-Class Classification\n",
    "이 연습에서는 로지스틱 회귀를 사용하여 손으로 쓴 숫자 (0-9)를 인식합니다. 우리는 실습 2에서 쓴 로지스틱 회귀 분석의 구현을 확장하여 하나-대-모든 (one-vs-all) 분류에 적용 할 것입니다. 데이터 세트를 로드하여 시작합시다. 이것은 MATLAB의 기본 형식이므로 Python으로 로드하려면 SciPy 유틸리티를 사용해야합니다."
   ]
  },
  {
   "cell_type": "code",
   "execution_count": 123,
   "metadata": {},
   "outputs": [
    {
     "data": {
      "text/plain": [
       "{'__header__': b'MATLAB 5.0 MAT-file, Platform: GLNXA64, Created on: Sun Oct 16 13:09:09 2011',\n",
       " '__version__': '1.0',\n",
       " '__globals__': [],\n",
       " 'X': array([[0., 0., 0., ..., 0., 0., 0.],\n",
       "        [0., 0., 0., ..., 0., 0., 0.],\n",
       "        [0., 0., 0., ..., 0., 0., 0.],\n",
       "        ...,\n",
       "        [0., 0., 0., ..., 0., 0., 0.],\n",
       "        [0., 0., 0., ..., 0., 0., 0.],\n",
       "        [0., 0., 0., ..., 0., 0., 0.]]),\n",
       " 'y': array([[10],\n",
       "        [10],\n",
       "        [10],\n",
       "        ...,\n",
       "        [ 9],\n",
       "        [ 9],\n",
       "        [ 9]], dtype=uint8)}"
      ]
     },
     "execution_count": 123,
     "metadata": {},
     "output_type": "execute_result"
    }
   ],
   "source": [
    "import numpy as np\n",
    "import pandas as pd\n",
    "import matplotlib.pyplot as plt\n",
    "from scipy.io import loadmat\n",
    "%matplotlib inline\n",
    "\n",
    "data = loadmat('data/ex3data1.mat')\n",
    "data"
   ]
  },
  {
   "cell_type": "code",
   "execution_count": 124,
   "metadata": {},
   "outputs": [
    {
     "data": {
      "text/plain": [
       "((5000, 400), (5000, 1))"
      ]
     },
     "execution_count": 124,
     "metadata": {},
     "output_type": "execute_result"
    }
   ],
   "source": [
    "data['X'].shape, data['y'].shape"
   ]
  },
  {
   "cell_type": "markdown",
   "metadata": {},
   "source": [
    "좋습니다, 이제 데이터가 로드 되었습니다. 이미지는 martix X 에 400 차원 벡터로 표현됩니다(5,000개 중의 하나로). 400 개의 \"피쳐\"는 원본 20 x 20 이미지의 각 픽셀에 대한 그레이 스케일 강도입니다. 클래스 레이블은 이미지에 있는 숫자를 나타내는 숫자 클래스로 벡터 y에 있습니다.\n",
    " \n",
    "트레이닝 세트의 서브 세트를 시각화하여 시작할 것입니다. ex3.m의 1 부에서 코드는 X에서 40 개의 행을 임의로 선택하여 해당 행을 20 x 20 픽셀 회색조 이미지로 매핑하고 이미지를 함께 표시합니다. 이 단계를 실행하면 그림과 같은 이미지가 나타납니다."
   ]
  },
  {
   "cell_type": "code",
   "execution_count": 125,
   "metadata": {},
   "outputs": [
    {
     "data": {
      "image/png": "[encoded data removed]",
      "text/plain": [
       "<Figure size 432x288 with 40 Axes>"
      ]
     },
     "metadata": {},
     "output_type": "display_data"
    }
   ],
   "source": [
    "select = np.random.randint(5000, size=40)\n",
    "\n",
    "fig, axs = plt.subplots(5,8,subplot_kw={'xticks': [], 'yticks': []})\n",
    "\n",
    "for i in np.arange(5):\n",
    "    for j in np.arange(8):\n",
    "        one = np.matrix(data['X'])[select[i*8+j],:].reshape(20,20)\n",
    "        axs[i][j].imshow(one.T, cmap='gray')\n",
    "    \n",
    "plt.show()"
   ]
  },
  {
   "cell_type": "markdown",
   "metadata": {},
   "source": [
    "### 로지스틱 회귀 백터화\n",
    " \n",
    "첫 번째 작업은 로지스틱 회귀 구현을 완전히 벡터화되도록 수정하는 것입니다 (즉, \"for\"루프 없음). 이는 벡터화 된 코드가 짧고 간결한 것 외에도 선형 대수 최적화를 이용할 수 있고 일반적으로 반복 코드보다 훨씬 빠르기 때문입니다. 그러나 연습 2에서 비용 함수 구현을 보면 이미 벡터화되어 있습니다! 그래서 우리는 여기서 같은 구현을 재사용 할 수 있습니다. 마지막으로 정규화 된 버전으로 곧바로 건너 뜁니다."
   ]
  },
  {
   "cell_type": "markdown",
   "metadata": {},
   "source": [
    "### 비용함수 벡터화\n",
    "비용 함수의 벡터화 된 버전을 작성 시작하겠습니다. (비정규화 된) 로지스틱 회귀 분석에서 비용 함수는 다음과 같다.\n",
    "\n",
    "$$ J(\\theta) = {1\\over m} \\sum_{i=1}^m [-y^{(i)} \\log(h_\\theta(x^{(i)})) - (1 - y^{(i)}) \\log(1-h_\\theta(x^{(i)}))] $$\n",
    "\n",
    "합산되는 각 요소의 계산을 위해서는 모든 자료 $i$에 대한 $h_\\theta (x^{(i)})$ 를 구해야하며, 여기에서 $h_\\theta (x^{(i)})= g(\\theta^T x^{(i)})$ 이며, $g(z) = { 1 / (1 + e^{-z} )}$ 는 시그모이드 함수이다.\n",
    "\n",
    "우리는 행렬 곱셈을 사용하여 모든 훈련 자료에 대해 이를 빠르게 계산할 수 있음을 알 수 있다\n",
    " X와 θ를 다음과 같이 정의하자.\n",
    " \n",
    " $$ X = \\begin{bmatrix}\n",
    "         (x^{(1)})^T \\\\\n",
    "         (x^{(2)})^T \\\\\n",
    "        \\vdots\\\\\n",
    "        (x^{(m)})^T \\\\\n",
    "         \\end{bmatrix}\n",
    "         $$\n",
    "         \n",
    "and         $$   \\theta= \\begin{bmatrix}\n",
    "         \\theta_0 \\\\\n",
    "         \\theta_1 \\\\\n",
    "        \\vdots\\\\\n",
    "        \\theta_n \\\\\n",
    "         \\end{bmatrix}\n",
    "  $$\n",
    "  그러면, 행렬곱 $X\\theta$를 계산하여, 다음을 얻게 된다.\n",
    "  \n",
    "   $$ X\\theta = \\begin{bmatrix}\n",
    "         (x^{(1)})^T \\theta \\\\\n",
    "         (x^{(2)})^T \\theta \\\\\n",
    "        \\vdots\\\\\n",
    "        (x^{(m)})^T \\theta \\\\\n",
    "         \\end{bmatrix}\n",
    "         =\n",
    "         \\begin{bmatrix}\n",
    "         \\theta^T (x^{(1)})  \\\\\n",
    "         \\theta^T (x^{(2)})   \\\\\n",
    "        \\vdots\\\\\n",
    "        \\theta^T (x^{(m)})  \\\\\n",
    "         \\end{bmatrix}\n",
    "         $$\n",
    "         \n",
    "마지막 등식에서 우리는 $a$와 $b$가 벡터라면 $a^Tb = b^Ta$라는 사실을 사용했다.\n",
    "\n",
    "이렇게 하면 한 줄의 코드에서 모든 훈련자료 $i$에 대한 $θ^T x^{(i)}$의 곱을 계산할 수 있습니다. 당신의 임무는 정규화 되지않은 비용 함수를 lrCostFunction.m 파일에 작성하는 것입니다.\n",
    "\n",
    "구현은 앞의 $θ^T x^{(i)}$ 를 계산하기 위해 앞서 제시한 전략을 사용해야 합니다. 나머지 부분에는 벡터화된 접근 방식을 사용해야 합니다.\n",
    "비용 함수 lrCostFunction.m의 완전히 벡터화 된 버전에는 루프가 없어야합니다. (힌트 :이 함수를 작성할 때 요소 단위의 곱셈 연산 (.*)과 합 연산 합계를 사용할 수 있습니다)"
   ]
  },
  {
   "cell_type": "code",
   "execution_count": 126,
   "metadata": {},
   "outputs": [],
   "source": [
    "def sigmoid(z):\n",
    "    return 1 / (1 + np.exp(-z))"
   ]
  },
  {
   "cell_type": "code",
   "execution_count": 127,
   "metadata": {},
   "outputs": [],
   "source": [
    "def cost(theta, X, y, a_lambda):\n",
    "    theta = np.matrix(theta)\n",
    "    X = np.matrix(X)\n",
    "    y = np.matrix(y)\n",
    "    first = np.multiply(-y, np.log(sigmoid(X * theta.T)))\n",
    "    second = np.multiply((1 - y), np.log(1 - sigmoid(X * theta.T)))\n",
    "    reg = (a_lambda / 2 * len(X)) * np.sum(np.power(theta[:,1:theta.shape[1]], 2))\n",
    "    return np.sum(first - second) / (len(X)) + reg"
   ]
  },
  {
   "cell_type": "markdown",
   "metadata": {
    "collapsed": true
   },
   "source": [
    "### 그라디언트의 벡터화\n",
    "\n",
    "비용의 기울기는 $\\theta$ 와 동일한 길이의 벡터이며, 여기서 j 번째 요소 (j = 0,1, ..., n의 경우)는 다음과 같이 정의됩니다.\n",
    "\n",
    "$$ {\\partial J(\\theta) \\over \\partial \\theta_j } = {1\\over m} \\sum_{i=1}^m ((h_\\theta(x^{(i)})-y^{(i)}) x_j^{(i)})$$\n",
    "\n",
    "이 그 레디언트는 선형 회귀 기울기와 동일하게 보이지만, 선형 및 회귀 회귀 분석에서는 $h_\\theta (x)$ 의 정의가 다르기 때문에 수식이 실제로는 다릅니다.\n",
    "이전 연습에서 그라디언트를 계산하는 함수를 이미 정의 했었습니다. 이 경우 업데이트 단계에서 제거해야하는 \"for\"루프가 있습니다. 다음은 참조 용 원본 코드입니다."
   ]
  },
  {
   "cell_type": "code",
   "execution_count": 128,
   "metadata": {},
   "outputs": [],
   "source": [
    "def gradient_with_loop(theta, X, y, lr):\n",
    "    theta = np.matrix(theta)\n",
    "    X = np.matrix(X)\n",
    "    y = np.matrix(y)\n",
    "    \n",
    "    parameters = int(theta.ravel().shape[1])\n",
    "    grad = np.zeros(parameters)\n",
    "    \n",
    "    error = sigmoid(X * theta.T) - y\n",
    "    \n",
    "    for i in range(parameters):\n",
    "        term = np.multiply(error, X[:,i])\n",
    "        \n",
    "        if (i == 0):\n",
    "            grad[i] = np.sum(term) / len(X)\n",
    "        else:\n",
    "            grad[i] = (np.sum(term) / len(X)) + ((lr / len(X)) * theta[:,i])\n",
    "    \n",
    "    return grad"
   ]
  },
  {
   "cell_type": "markdown",
   "metadata": {},
   "source": [
    "우리의 새 버전에서는 \"for\"루프를 꺼내고 선형 대수를 사용하여 각 매개 변수에 대한 그래디언트를 계산할 것입니다 (단절된 매개 변수는 정규화되지 않으므로 별도로 계산됩니다). \n",
    "\n",
    "또한 데이터 구조를 NumPy 행렬 (이 연습에서 대부분 사용한 적이있는)으로 변환하고 있습니다. 이는 행렬이 자동으로 행렬 연산 규칙 대 배열의 기본값 인 요소 별 연산을 따르므로 코드를 배열을 사용하는 것보다 Octave와 유사하게 보이도록하기 위해 수행됩니다. 매트릭스 클래스를 사용하는 것과 사용하지 말아야 하는 논란이 있긴 하지만, 이 예제에서는 이를 사용하고 있습니다.\n",
    "\n",
    "데이터 집합에 대한 이 연산을 벡터화하기 위해 모든 작업을 $\\theta_j$에 대한 편미분으로 작성해 본다.\n",
    "\n",
    "$$ \\begin{bmatrix}\n",
    "{\\partial J \\over \\partial \\theta_0} \\\\\n",
    "\\partial J \\over \\partial \\theta_1 \\\\\n",
    "\\partial J \\over \\partial \\theta_2 \\\\\n",
    "\\vdots\\\\\n",
    "\\partial J \\over \\partial \\theta_n\n",
    "\\end{bmatrix} \n",
    "= {1 \\over m}  \n",
    "\\begin{bmatrix}\n",
    "\\sum_{i=1}^m((h_\\theta (x^{(i)}) - y^{(i)})x_0^{(i)}) \\\\\n",
    "\\sum_{i=1}^m((h_\\theta (x^{(i)}) - y^{(i)})x_1^{(i)}) \\\\\n",
    "\\sum_{i=1}^m((h_\\theta (x^{(i)}) - y^{(i)})x_2^{(i)}) \\\\\n",
    "\\vdots\\\\\n",
    "\\sum_{i=1}^m((h_\\theta (x^{(i)}) - y^{(i)})x_m^{(i)}) \n",
    "\\end{bmatrix}\n",
    "= {1 \\over m} \n",
    "         \\sum_{i=1}^m ((h_\\theta (x^{(i)}) - y^{(i)})x^{(i)})\n",
    "         = {1 \\over m} \n",
    "         X^T(h_\\theta (x) - y)\n",
    "$$\n",
    "\n",
    "여기에서 \n",
    "\n",
    "$$\n",
    "h_\\theta (x) - y = \n",
    "\\begin{bmatrix}\n",
    "h_\\theta (x^{(0)}) - y^{(0)} \\\\\n",
    "h_\\theta (x^{(1)}) - y^{(1)} \\\\\n",
    "\\vdots\\\\\n",
    "h_\\theta (x^{(m)}) - y^{(m)} \n",
    "\\end{bmatrix}\n",
    "$$\n",
    "\n",
    "이 때, $(h_\\theta (x^{(i)}) - y^{(i)})$는 스칼라(하나의 숫자)이지만, $x^{(i)}$ 는 벡터임의 주의 하시오. 위의 유도과정의 마지막 부분을 이해하기 위해서, $\\beta_i =(h_\\theta (x^{(i)}) - y^{(i)})$라 하고, 다음을 살펴봅시다.\n",
    "\n",
    "$$\n",
    "\\sum_i \\beta_i x^{(i)} = [ x^{(1)} x^{(2)} \\cdots  x^{(m)} ]\n",
    "\\begin{bmatrix}\n",
    "\\beta_1 \\\\\n",
    "\\beta_2 \\\\\n",
    "\\vdots\\\\\n",
    "\\beta_m\n",
    "\\end{bmatrix}\n",
    "= X^T \\beta\n",
    "$$ \n",
    "\n",
    "위의 표현식을 사용하면 루프없이 모든 편미분을 계산할 수 있습니다. 선형 대수에 익숙하다면 위의 행렬 곱셈을 통해 벡터화 된 버전이 동일한 계산을 수행한다는 사실을 확신 할 수 있습니다. 올바른 벡터화 된 그라디언트를 계산하려면 위의 식을 구현해야 합니다. 완료되면 그라디언트를 구현하여 함수를 완료하십시오."
   ]
  },
  {
   "cell_type": "code",
   "execution_count": 129,
   "metadata": {},
   "outputs": [],
   "source": [
    "def gradient(theta, X, y, learningRate):\n",
    "    theta = np.matrix(theta)\n",
    "    X = np.matrix(X)\n",
    "    y = np.matrix(y)\n",
    "    \n",
    "    parameters = int(theta.ravel().shape[1])\n",
    "    error = sigmoid(X * theta.T) - y\n",
    "    \n",
    "    grad = ((X.T * error) / len(X)).T + ((learningRate / len(X)) * theta)\n",
    "    \n",
    "    # intercept gradient is not regularized\n",
    "    grad[0, 0] = np.sum(np.multiply(error, X[:,0])) / len(X)\n",
    "    \n",
    "    return np.array(grad).ravel()"
   ]
  },
  {
   "cell_type": "markdown",
   "metadata": {},
   "source": [
    "### 하나-대-전체(one-vs-all) 분류\n",
    "이제 비용 및 그레디언트 함수를 정의 했으므로 이제 분류자를 작성해야합니다. 이 작업에는 10 가지 클래스가 있으며 로지스틱 회귀는 한 번에 2 개 클래스 사이에서만 구분할 수 있으므로 다중 클래스 시나리오를 처리하는 전략이 필요합니다. 이 연습에서는 하나-대-전체 분류 접근법을 구현하는 임무를 띠고 있습니다. k 개의 다른 클래스가있는 레이블은 k 개의 분류자를 생성하며, 각각은 \"클래스 i\"와 \"클래스 i가 아닌\"(즉, 나는). 우리는 분류 자 ​​트레이닝을 10 개의 분류 자 ​​각각에 대한 최종 가중치를 계산하는 하나의 함수로 랩핑하고 k x (n + 1) 배열로 가중치를 반환합니다. 여기서 n은 매개 변수의 수입니다."
   ]
  },
  {
   "cell_type": "code",
   "execution_count": 130,
   "metadata": {},
   "outputs": [],
   "source": [
    "from scipy.optimize import minimize\n",
    "\n",
    "def one_vs_all(X, y, num_labels, learning_rate):\n",
    "    rows = X.shape[0]\n",
    "    params = X.shape[1]\n",
    "    \n",
    "    # k X (n + 1) array for the parameters of each of the k classifiers\n",
    "    all_theta = np.zeros((num_labels, params + 1))\n",
    "    \n",
    "    # insert a column of ones at the beginning for the intercept term\n",
    "    X = np.insert(X, 0, values=np.ones(rows), axis=1)\n",
    "    \n",
    "    # labels are 1-indexed instead of 0-indexed\n",
    "    for i in range(1, num_labels + 1):\n",
    "        theta = np.zeros(params + 1)\n",
    "        y_i = np.array([1 if label == i else 0 for label in y])\n",
    "        y_i = np.reshape(y_i, (rows, 1))\n",
    "        \n",
    "        # minimize the objective function\n",
    "        fmin = minimize(fun=cost, x0=theta, args=(X, y_i, learning_rate), method='TNC', jac=gradient)\n",
    "        all_theta[i-1,:] = fmin.x\n",
    "    \n",
    "    return all_theta"
   ]
  },
  {
   "cell_type": "markdown",
   "metadata": {},
   "source": [
    "여기서 주목해야 할 몇 가지 사항은 ... 먼저, 절편 용어를 설명하기 위해 세타에 추가 매개 변수를 추가합니다 (훈련 데이터에 대한 열의 항목과 함께). 둘째, y를 클래스 레이블에서 각 분류 자 ​​(클래스 i 또는 클래스 i가 아닌 클래스)의 이진 값으로 변환합니다. 마지막으로 우리는 SciPy의 새로운 최적화 API를 사용하여 각 분류 자의 비용 함수를 최소화합니다. API는 목적 함수, 초기 매개 변수 집합, 최적화 방법 및 지정된 경우 jacobian (그라디언트) 함수를 사용합니다. 그런 다음 최적화 루틴에서 찾은 매개 변수가 매개 변수 배열에 지정됩니다.\n",
    "\n",
    "벡터화 된 코드를 구현하는 것이 더 어려운 부분 중 하나는 행렬 상호 작용을 모두 올바르게 작성하는 것입니다. 그래서 내가 작업하고있는 배열 / 행렬의 모양을보고 몇 가지 온 전성 검사를하는 것이 유용하다는 것을 알았습니다. 재치있는. 위의 함수에서 사용 된 데이터 구조 중 일부를 살펴 보겠습니다."
   ]
  },
  {
   "cell_type": "code",
   "execution_count": 131,
   "metadata": {},
   "outputs": [
    {
     "data": {
      "text/plain": [
       "((5000, 401), (5000, 1), (401,), (10, 401))"
      ]
     },
     "execution_count": 131,
     "metadata": {},
     "output_type": "execute_result"
    }
   ],
   "source": [
    "rows = data['X'].shape[0]\n",
    "params = data['X'].shape[1]\n",
    "\n",
    "all_theta = np.zeros((10, params + 1))\n",
    "\n",
    "X = np.insert(data['X'], 0, values=np.ones(rows), axis=1)\n",
    "\n",
    "theta = np.zeros(params + 1)\n",
    "\n",
    "y_0 = np.array([1 if label == 0 else 0 for label in data['y']])\n",
    "y_0 = np.reshape(y_0, (rows, 1))\n",
    "\n",
    "X.shape, y_0.shape, theta.shape, all_theta.shape"
   ]
  },
  {
   "cell_type": "markdown",
   "metadata": {},
   "source": [
    "이것들은 모두 의미가있는 것처럼 보입니다. theta는 1 차원 배열이므로 기울임 꼴을 계산하는 코드에서 행렬로 변환되면 (1 X 401) 행렬이됩니다. y의 클래스 레이블을 확인하여 예상 한 것처럼 보이게 하십시오."
   ]
  },
  {
   "cell_type": "code",
   "execution_count": 132,
   "metadata": {},
   "outputs": [
    {
     "data": {
      "text/plain": [
       "array([ 1,  2,  3,  4,  5,  6,  7,  8,  9, 10], dtype=uint8)"
      ]
     },
     "execution_count": 132,
     "metadata": {},
     "output_type": "execute_result"
    }
   ],
   "source": [
    "np.unique(data['y'])"
   ]
  },
  {
   "cell_type": "markdown",
   "metadata": {},
   "source": [
    "우리의 트레이닝 기능이 실제로 작동하는지 확인하고 더 나아 가기 전에 합리적인 결과를 얻으십시오."
   ]
  },
  {
   "cell_type": "code",
   "execution_count": 133,
   "metadata": {},
   "outputs": [
    {
     "data": {
      "text/plain": [
       "array([[-3.70247923e-05,  0.00000000e+00,  0.00000000e+00, ...,\n",
       "        -2.24803603e-10,  2.31962906e-11,  0.00000000e+00],\n",
       "       [-8.96250745e-05,  0.00000000e+00,  0.00000000e+00, ...,\n",
       "         7.26120886e-09, -6.19965350e-10,  0.00000000e+00],\n",
       "       [-8.39553309e-05,  0.00000000e+00,  0.00000000e+00, ...,\n",
       "        -7.61695539e-10,  4.64917610e-11,  0.00000000e+00],\n",
       "       ...,\n",
       "       [-7.00832394e-05,  0.00000000e+00,  0.00000000e+00, ...,\n",
       "        -6.92008993e-10,  4.29241468e-11,  0.00000000e+00],\n",
       "       [-7.65187921e-05,  0.00000000e+00,  0.00000000e+00, ...,\n",
       "        -8.09503259e-10,  5.31058709e-11,  0.00000000e+00],\n",
       "       [-6.63412370e-05,  0.00000000e+00,  0.00000000e+00, ...,\n",
       "        -3.49765862e-09,  1.13668519e-10,  0.00000000e+00]])"
      ]
     },
     "execution_count": 133,
     "metadata": {},
     "output_type": "execute_result"
    }
   ],
   "source": [
    "all_theta = one_vs_all(data['X'], data['y'], 10, 1)\n",
    "all_theta"
   ]
  },
  {
   "cell_type": "markdown",
   "metadata": {},
   "source": [
    "이제 최종 단계에 대한 준비가 완료되었습니다. 훈련 된 분류 기준을 사용하여 각 이미지의 라벨을 예측합니다. 이 단계에서는 각 클래스의 클래스 확률을 벡터화 된 코드를 사용하여 각 교육 인스턴스에 대해 계산하고 가장 높은 확률을 가진 클래스로 출력 클래스 레이블을 지정합니다."
   ]
  },
  {
   "cell_type": "code",
   "execution_count": 134,
   "metadata": {},
   "outputs": [],
   "source": [
    "def predict_all(X, all_theta):\n",
    "    rows = X.shape[0]\n",
    "    params = X.shape[1]\n",
    "    num_labels = all_theta.shape[0]\n",
    "    \n",
    "    # same as before, insert ones to match the shape\n",
    "    X = np.insert(X, 0, values=np.ones(rows), axis=1)\n",
    "    \n",
    "    # convert to matrices\n",
    "    X = np.matrix(X)\n",
    "    all_theta = np.matrix(all_theta)\n",
    "    \n",
    "    # compute the class probability for each class on each training instance\n",
    "    h = sigmoid(X * all_theta.T)\n",
    "    \n",
    "    # create array of the index with the maximum probability\n",
    "    h_argmax = np.argmax(h, axis=1)\n",
    "    \n",
    "    # because our array was zero-indexed we need to add one for the true label prediction\n",
    "    h_argmax = h_argmax + 1\n",
    "    \n",
    "    return h_argmax"
   ]
  },
  {
   "cell_type": "markdown",
   "metadata": {},
   "source": [
    "이제 우리는 predict_all 함수를 사용하여 각 인스턴스에 대한 클래스 예측을 생성하고 분류 자의 작동 방식을 확인할 수 있습니다."
   ]
  },
  {
   "cell_type": "code",
   "execution_count": 135,
   "metadata": {},
   "outputs": [
    {
     "name": "stdout",
     "output_type": "stream",
     "text": [
      "accuracy =  74.6 %\n"
     ]
    }
   ],
   "source": [
    "y_pred = predict_all(data['X'], all_theta)\n",
    "correct = [1 if a == b else 0 for (a, b) in zip(y_pred, data['y'])]\n",
    "accuracy = (sum(map(int, correct)) / float(len(correct)))\n",
    "print('accuracy = ', accuracy * 100, '%')\n",
    "#print 'accuracy = {0}%'.format(accuracy * 100)"
   ]
  },
  {
   "cell_type": "markdown",
   "metadata": {},
   "source": [
    "거의 98 %가 나쁘지 않습니다! 그것은 운동 3을위한 것입니다. 다음 연습에서는 피드 - 포워드 뉴럴 네트워크를 처음부터 구현하는 방법을 살펴 보겠습니다."
   ]
  },
  {
   "cell_type": "code",
   "execution_count": null,
   "metadata": {},
   "outputs": [],
   "source": []
  }
 ],
 "metadata": {
  "kernelspec": {
   "display_name": "Python 3",
   "language": "python",
   "name": "python3"
  },
  "language_info": {
   "codemirror_mode": {
    "name": "ipython",
    "version": 3
   },
   "file_extension": ".py",
   "mimetype": "text/x-python",
   "name": "python",
   "nbconvert_exporter": "python",
   "pygments_lexer": "ipython3",
   "version": "3.6.5"
  }
 },
 "nbformat": 4,
 "nbformat_minor": 2
}
