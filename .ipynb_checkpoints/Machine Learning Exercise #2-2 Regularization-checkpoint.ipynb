{
 "cells": [
  {
   "cell_type": "markdown",
   "metadata": {},
   "source": [
    "# Exerscise 2-2\n",
    "\n",
    "이 연습에서는 정규화를 추가하여 로지스틱 회귀 알고리즘을 개선합니다. 정규화는 알고리즘이 \"더 단순한\" 모델을 선호하게 만드는 비용 함수의 용어입니다 (이 경우 모델은 더 작은 z크기의 계수). 이론은 과적응(overfitting)을 최소화하고 모델의 일반화 능력을 향상시키는 데 도움이 된다는 것입니다.\n",
    "\n",
    "제조 공장의 마이크로 칩이 품질 보증(QA)을 통과하는지 여부를 예측하기 위해 정규화 된 로지스틱 회귀 분석을 구현합니다. 품질 보증 기간 동안 각 마이크로 칩은 올바르게 작동하는지 확인하기 위해 다양한 테스트를 거칩니다.\n",
    "당신은 공장의 제품 관리자이고, 두 가지 테스트에서 일부 마이크로 칩에 대한 테스트 결과가 있다고 가정 해보십시오. 이 두 가지 검사에서 마이크로 칩을 허용할지 아니면 거절할지를 결정하고 싶습니다. 의사 결정을 돕기 위해 과거의 마이크로 칩에 대한 테스트 결과의 데이터 세트가 있으며, 이로부터 로지스틱 회귀 모델을 구축 할 수 있습니다.\n",
    "먼저 필요한 라이브러리를 로드해 봅시다."
   ]
  },
  {
   "cell_type": "code",
   "execution_count": 68,
   "metadata": {
    "collapsed": true
   },
   "outputs": [],
   "source": [
    "import numpy as np\n",
    "import pandas as pd\n",
    "import matplotlib.pyplot as plt\n",
    "import scipy.optimize as opt    # more on this later"
   ]
  },
  {
   "cell_type": "markdown",
   "metadata": {},
   "source": [
    "다음은 자료를 읽어옵니다."
   ]
  },
  {
   "cell_type": "code",
   "execution_count": 69,
   "metadata": {
    "collapsed": false
   },
   "outputs": [
    {
     "data": {
      "text/html": [
       "<div>\n",
       "<table border=\"1\" class=\"dataframe\">\n",
       "  <thead>\n",
       "    <tr style=\"text-align: right;\">\n",
       "      <th></th>\n",
       "      <th>0</th>\n",
       "      <th>1</th>\n",
       "      <th>2</th>\n",
       "    </tr>\n",
       "  </thead>\n",
       "  <tbody>\n",
       "    <tr>\n",
       "      <th>0</th>\n",
       "      <td>0.051267</td>\n",
       "      <td>0.69956</td>\n",
       "      <td>1</td>\n",
       "    </tr>\n",
       "    <tr>\n",
       "      <th>1</th>\n",
       "      <td>-0.092742</td>\n",
       "      <td>0.68494</td>\n",
       "      <td>1</td>\n",
       "    </tr>\n",
       "    <tr>\n",
       "      <th>2</th>\n",
       "      <td>-0.213710</td>\n",
       "      <td>0.69225</td>\n",
       "      <td>1</td>\n",
       "    </tr>\n",
       "    <tr>\n",
       "      <th>3</th>\n",
       "      <td>-0.375000</td>\n",
       "      <td>0.50219</td>\n",
       "      <td>1</td>\n",
       "    </tr>\n",
       "    <tr>\n",
       "      <th>4</th>\n",
       "      <td>-0.513250</td>\n",
       "      <td>0.46564</td>\n",
       "      <td>1</td>\n",
       "    </tr>\n",
       "  </tbody>\n",
       "</table>\n",
       "</div>"
      ],
      "text/plain": [
       "          0        1  2\n",
       "0  0.051267  0.69956  1\n",
       "1 -0.092742  0.68494  1\n",
       "2 -0.213710  0.69225  1\n",
       "3 -0.375000  0.50219  1\n",
       "4 -0.513250  0.46564  1"
      ]
     },
     "execution_count": 69,
     "metadata": {},
     "output_type": "execute_result"
    }
   ],
   "source": [
    "data = pd.read_csv('data/ex2data2.txt', header = None)\n",
    "# or data = pd.read_csv(path, header=None, names=['test1','test2','accepted'])\n",
    "X = data.iloc[:,:-1]\n",
    "y = data.iloc[:,2]\n",
    "data.head()"
   ]
  },
  {
   "cell_type": "markdown",
   "metadata": {},
   "source": [
    "그래서 우리는 두 개의 독립적인 특징과 하나의 결과값을 가지고 있습니다. 여기서 0은 칩이 거부됨, 1 은 받아 들여짐을 의미합니다.\n",
    "\n",
    "## 데이터 시각화\n",
    "\n",
    "학습 알고리즘을 구현하기 전에 가능한 경우 데이터를 시각화하는 것이 좋습니다."
   ]
  },
  {
   "cell_type": "code",
   "execution_count": 70,
   "metadata": {
    "collapsed": false
   },
   "outputs": [
    {
     "data": {
      "image/png": "[encoded data removed]",
      "text/plain": [
       "<Figure size 432x288 with 1 Axes>"
      ]
     },
     "metadata": {},
     "output_type": "display_data"
    }
   ],
   "source": [
    "mask = y == 1\n",
    "passed = plt.scatter(X[mask][0].values, X[mask][1].values, s=50, c='k', marker='+',)\n",
    "failed = plt.scatter(X[~mask][0].values, X[~mask][1].values, s=50, c='y', marker='o',)\n",
    "plt.xlabel('Microchip Test1')\n",
    "plt.ylabel('Microchip Test2')\n",
    "plt.legend((passed, failed), ('Accepted', 'Rejected'))\n",
    "plt.show()"
   ]
  },
  {
   "cell_type": "markdown",
   "metadata": {},
   "source": [
    "위의 그림은 우리의 데이터 세트가 직선으로 양수 및 음수 결과로 분리 될 수 없음을 플롯을 통해 보여줍니다. 따라서 로지스틱 회귀의 직선적인 적용은 선형 결정 경계 만 찾을 수 있기 때문에 이 데이터 세트에서 잘 수행되지 않습니다. 로지스틱 회귀와 같은 선형 기법을 사용하여 이를 처리하는 한 가지 방법은 원래 특징들의 다항식에서 파생된 특징들을 생성하는 것 입니다. 먼저 다항식 특징을 만들어 봅시다.\n",
    "\n",
    "\n",
    "## 특징 매핑\n",
    "\n",
    "데이터를 더 잘 맞추는 한 가지 방법은 각 데이터 요소에서 더 많은 특징을 만드는 것입니다. 그러므로 우리는 모든 다항식 항 $x_1$ 과 $x_2$의 6차 항까지의 특징들로 맵핑 할 것 입니다.\n",
    "\n",
    "<img width=\"300\" src=\"https://cdn-images-1.medium.com/max/800/1*-n0H6dB-gVYUXg3nGvTAgw.png\">"
   ]
  },
  {
   "cell_type": "markdown",
   "metadata": {},
   "source": [
    "이 매핑의 결과로 두 개의 특징(두 가지 QA 테스트의 점수)벡터가 28차원 벡터로 변형되었습니다. 이 고차원 특성 벡터에 대해 학습된 로지스틱 회귀 분류자는 보다 복잡한 결정 경계를 가지며 2 차원 플롯에서 그릴 때 비선형으로 나타납니다.\n",
    "\n",
    "특징 매핑을 사용하면 뛰어난 분류 기준을 만들 수는 있지만, 동시에 과적합될 수도 있습니다. 연습의 다음 부분에서는 데이터에 맞게 정규화 된 로지스틱 회귀 분석을 구현하고 정규화가 과도한 문제를 해결하는 방법을 직접 확인합니다."
   ]
  },
  {
   "cell_type": "code",
   "execution_count": 71,
   "metadata": {
    "collapsed": false
   },
   "outputs": [
    {
     "data": {
      "text/plain": [
       "array([1.00000000e+00, 5.12670000e-02, 6.99560000e-01, 2.62830529e-03,\n",
       "       3.58643425e-02, 4.89384194e-01, 1.34745327e-04, 1.83865725e-03,\n",
       "       2.50892595e-02, 3.42353606e-01, 6.90798869e-06, 9.42624411e-05,\n",
       "       1.28625106e-03, 1.75514423e-02, 2.39496889e-01, 3.54151856e-07,\n",
       "       4.83255257e-06, 6.59422333e-05, 8.99809795e-04, 1.22782870e-02,\n",
       "       1.67542444e-01, 1.81563032e-08, 2.47750473e-07, 3.38066048e-06,\n",
       "       4.61305487e-05, 6.29470940e-04, 8.58939846e-03, 1.17205992e-01])"
      ]
     },
     "execution_count": 71,
     "metadata": {},
     "output_type": "execute_result"
    }
   ],
   "source": [
    "def mapFeature(X1, X2, degree):\n",
    "    out = np.ones(X.shape[0])[:,np.newaxis]\n",
    "    for i in range(1, degree+1):\n",
    "        for j in range(i+1):\n",
    "            out = np.hstack((out, np.multiply(np.power(X1, i-j),                                     np.power(X2, j))[:,np.newaxis]))\n",
    "    return out\n",
    "degree = 6\n",
    "X = mapFeature(X.iloc[:,0], X.iloc[:,1], degree)\n",
    "X[0,:]"
   ]
  },
  {
   "cell_type": "markdown",
   "metadata": {},
   "source": [
    "## 구현\n",
    "\n",
    "실제 비용 함수로 시작하기 전에 로지스틱 회귀 가설은 시그모이드 함수를 사용한다는 것을 상기하십시오. 시그모이드 함수를 정의합시다.\n",
    "\n",
    "\n",
    "## Sigmoid Function"
   ]
  },
  {
   "cell_type": "code",
   "execution_count": 72,
   "metadata": {
    "collapsed": true
   },
   "outputs": [],
   "source": [
    "def sigmoid (x) : \n",
    "  return 1 / (1 + np.exp (-x))"
   ]
  },
  {
   "cell_type": "markdown",
   "metadata": {},
   "source": [
    "## 비용 함수\n",
    "\n",
    "평소처럼 우리의 비용 함수와 그레디언트 함수를 코드화 할 수 있습니다.\n",
    "\n",
    "<img width=\"500\" src=\"https://cdn-images-1.medium.com/max/800/1*CQpFY41vGbjxIM0-rYqeSw.png\">\n"
   ]
  },
  {
   "cell_type": "code",
   "execution_count": 73,
   "metadata": {
    "collapsed": true
   },
   "outputs": [],
   "source": [
    "def lrCostFunction(theta, X, y, lmbda):\n",
    "    # problem-1 (10) =================\n",
    "    m = len(y)\n",
    "    #J = (-1/m) * (y.T @ np.log(sigmoid(X @ theta)) + (1 - y.T) @ np.log(1 - sigmoid(X @ theta)))\n",
    "    #reg = (lmbda/(2*m)) * (theta[1:].T @ theta[1:])\n",
    "    #J = J + reg\n",
    "    hx = np.matmul(X,theta)\n",
    "    J = (-1/m) * np.matmul(y.T, np.log(sigmoid(hx)))\n",
    "    J = J + (-1/m) * np.matmul(-(1-y.T),np.log(1-sigmoid(hx)))\n",
    "    J = J + (lmbda/(2*m)) * np.matmul(theta[1:].T, theta[1:])\n",
    "    #===============================\n",
    "    return J"
   ]
  },
  {
   "cell_type": "markdown",
   "metadata": {},
   "source": [
    "비용 함수를 코딩하는 여러 가지 방법이 있습니다. 무엇보다 중요한 것은 수학의 기본 아이디어와 코드로 변환 할 수 있는 능력입니다.\n",
    "\n",
    "## 그라디언트 함수\n",
    "\n",
    "비용 함수의 기울기는 j 번째 요소가 다음과 같이 정의되는 벡터입니다.\n",
    "$$ {\\partial J (\\theta) \\over \\partial \\theta_0 } = {1\\over m }\\sum_{i=1}^m (h_\\theta (x^{(i)}) - y^{(i)})x_j^{(i)}    \\quad \\textrm{for} \\quad j=0 $$\n",
    "$$ {\\partial J (\\theta) \\over \\partial \\theta_0 } = {1\\over m }\\sum_{i=1}^m (h_\\theta (x^{(i)}) - y^{(i)})x_j^{(i)}    + {\\lambda \\over m} \\theta_j \\quad \\textrm{for} \\quad j\\ge 0 $$\n",
    "\n",
    "\n",
    "방정식에서 \"lmbda\"용어를 주목하십시오. 또한 \"학습 속도\"매개 변수 추가에 유의하십시오. 이것은 정규화 용어의 효과를 제어하는 하이퍼 매개 변수입니다. 이제 그라디언트 함수에 정규화를 추가해야 합니다."
   ]
  },
  {
   "cell_type": "code",
   "execution_count": 74,
   "metadata": {
    "collapsed": true
   },
   "outputs": [],
   "source": [
    "def lrGradientDescent(theta, X, y, lmbda):\n",
    "    # Problrm-2 (10) ========================\n",
    "    m = len(y)\n",
    "    grad = np.zeros([m,1])\n",
    "    #grad = (1/m) * X.T @ (sigmoid(X @ theta) - y)\n",
    "    \n",
    "    hx = np.matmul(X,theta)\n",
    "    grad = (1/m) * np.matmul(X.T, sigmoid(hx)-y)\n",
    "    \n",
    "    grad[1:] = grad[1:] + (lmbda / m) * theta[1:]\n",
    "    # ======================================\n",
    "    return grad"
   ]
  },
  {
   "cell_type": "markdown",
   "metadata": {},
   "source": [
    "초기 매개 변수를 사용하여 이 함수를 호출 해 봅시다."
   ]
  },
  {
   "cell_type": "code",
   "execution_count": 75,
   "metadata": {
    "collapsed": false
   },
   "outputs": [
    {
     "name": "stdout",
     "output_type": "stream",
     "text": [
      "[[-0.01174826]]\n"
     ]
    }
   ],
   "source": [
    "(m, n) = X.shape\n",
    "y = y[:, np.newaxis]\n",
    "theta = np.zeros((n,1))\n",
    "lmbda = 1.\n",
    "J = lrCostFunction(theta, X, y, lmbda)\n",
    "print(J)"
   ]
  },
  {
   "cell_type": "markdown",
   "metadata": {},
   "source": [
    "이것은 우리에게 값 0.69314718를 줍니다"
   ]
  },
  {
   "cell_type": "markdown",
   "metadata": {},
   "source": [
    "## fmin_tnc를 사용한 매개 변수 학습\n",
    "\n",
    "이전 게시물과 유사하게 우리는 **fmin_tnc**를 사용합니다.\n",
    "\n",
    "**fmin_tnc**는 제약되지 않은 함수의 최소값을 찾는 최적화 솔버입니다. 로지스틱 회귀 분석에서는 매개 변수 theta 로 비용 함수를 최적화하려고 합니다 "
   ]
  },
  {
   "cell_type": "code",
   "execution_count": 76,
   "metadata": {
    "collapsed": false
   },
   "outputs": [
    {
     "name": "stdout",
     "output_type": "stream",
     "text": [
      "[ 1.16489850e-15  6.41204903e-16  1.29263753e-15 -2.03387572e-15\n",
      " -7.58035899e-16 -1.16046002e-15  1.59003970e-16 -3.34466780e-16\n",
      " -3.42935383e-16 -9.48369224e-17 -1.44917339e-15 -6.99187993e-17\n",
      " -6.15146809e-16 -2.03714549e-16 -1.07314675e-15 -1.60119097e-16\n",
      " -2.02062138e-16 -8.76908476e-17 -2.61100440e-16 -2.43222327e-16\n",
      " -4.23858076e-16 -9.84500123e-16  1.01402617e-17 -3.05268519e-16\n",
      " -4.12683154e-18 -3.22576550e-16 -8.34099749e-17 -8.65735622e-16]\n"
     ]
    }
   ],
   "source": [
    "output = opt.fmin_tnc(func = lrCostFunction, x0 = theta.flatten(), fprime = lrGradientDescent, \\\n",
    "                         args = (X, y.flatten(), lmbda))\n",
    "theta = output[0]\n",
    "print(theta) # theta contains the optimized values"
   ]
  },
  {
   "cell_type": "markdown",
   "metadata": {},
   "source": [
    "flatten()함수에 대한 참고 사항 : 불행히도 scipy’s fmin_tnc 는 열이나 행 벡터에서는 잘 작동하지 않습니다. 매개 변수가 배열 형식이어야합니다. 이 flatten()함수는 열 또는 행 벡터를 배열 형식으로 줄입니다.\n",
    "\n",
    "### 모델의 정확도\n",
    "\n",
    "학습된 매개 변수의 결과를 예측하고 원래 결과와 비교하여 모형 정확도를 찾으십시오."
   ]
  },
  {
   "cell_type": "code",
   "execution_count": 77,
   "metadata": {
    "collapsed": false
   },
   "outputs": [
    {
     "data": {
      "text/plain": [
       "80.50847457627118"
      ]
     },
     "execution_count": 77,
     "metadata": {},
     "output_type": "execute_result"
    }
   ],
   "source": [
    "pred = [sigmoid(np.dot(X, theta)) >= 0.5]\n",
    "np.mean(pred == y.flatten()) * 100"
   ]
  },
  {
   "cell_type": "markdown",
   "metadata": {},
   "source": [
    "이것은 모델 정확도 83.05% 를 제공합니다 .\n",
    "\n",
    "## 결정 경계선 그리기\n",
    "\n",
    "이 분류 기준에서 학습 한 모델을 시각화 할 수 있도록 양수 및 음수 예제를 구분하는 (비선형) 결정 경계를 그립니다. 우리는 균등하게 간격을 둔 그리드에서 분류자의 예측을 계산하여 비선형 결정 경계를 도출한 다음, y = 0 에서 y = 1로 예측이 바뀌는 등고선도를 그립니다."
   ]
  },
  {
   "cell_type": "code",
   "execution_count": 78,
   "metadata": {
    "collapsed": false
   },
   "outputs": [
    {
     "data": {
      "image/png": "[encoded data removed]",
      "text/plain": [
       "<Figure size 432x288 with 1 Axes>"
      ]
     },
     "metadata": {},
     "output_type": "display_data"
    }
   ],
   "source": [
    "u = np.linspace(-1, 1.5, 50)\n",
    "v = np.linspace(-1, 1.5, 50)\n",
    "z = np.zeros((len(u), len(v)))\n",
    "\n",
    "def mapFeatureForPlotting(X1, X2, degree):\n",
    "    out = np.ones(1)\n",
    "    for i in range(1, degree+1):\n",
    "        for j in range(i+1):\n",
    "            out = np.hstack((out, np.multiply(np.power(X1, i-j), np.power(X2, j))))\n",
    "    return out\n",
    "\n",
    "for i in range(len(u)):\n",
    "    for j in range(len(v)):\n",
    "        z[i,j] = np.dot(mapFeatureForPlotting(u[i], v[j], degree), theta)\n",
    "        \n",
    "mask = y.flatten() == 1\n",
    "X = data.iloc[:,:-1]\n",
    "passed = plt.scatter(X[mask][0].values, X[mask][1].values, s=50, c='k', marker='+',)\n",
    "failed = plt.scatter(X[~mask][0].values, X[~mask][1].values, s=50, c='y', marker='o',)\n",
    "plt.contour(u,v,z,0)\n",
    "plt.xlabel('Microchip Test1')\n",
    "plt.ylabel('Microchip Test2')\n",
    "plt.legend((passed, failed), ('Passed', 'Failed'))\n",
    "plt.show()"
   ]
  },
  {
   "cell_type": "markdown",
   "metadata": {},
   "source": [
    "우리의 모델은 다양한 데이터 포인트를 분류하는 데 매우 효과적입니다.\n",
    "\n",
    "Problem-3 (6)\n",
    "lambda 값을 3가지로 변경하여, 결정 경계가 어떻게 변경되는지 직접 확인하십시오.\n"
   ]
  },
  {
   "cell_type": "code",
   "execution_count": null,
   "metadata": {
    "collapsed": true
   },
   "outputs": [],
   "source": []
  }
 ],
 "metadata": {
  "kernelspec": {
   "display_name": "Python 3",
   "language": "python",
   "name": "python3"
  },
  "language_info": {
   "codemirror_mode": {
    "name": "ipython",
    "version": 3
   },
   "file_extension": ".py",
   "mimetype": "text/x-python",
   "name": "python",
   "nbconvert_exporter": "python",
   "pygments_lexer": "ipython3",
   "version": "3.6.4"
  }
 },
 "nbformat": 4,
 "nbformat_minor": 2
}
