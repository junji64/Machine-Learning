{
 "cells": [
  {
   "cell_type": "markdown",
   "metadata": {
    "collapsed": true
   },
   "source": [
    "## What is Vectorization?\n",
    "\n",
    "$ z = w^T x + b $ where \n",
    "$ \\mathbf{w}  = \\left[\n",
    "\\begin{matrix}\n",
    "w_1\\\\ w_2\\\\ \\vdots\\\\ w_{n_x}\n",
    "\\end{matrix}\n",
    "\\right] $ and \n",
    "$ \\mathbf{x}  = \\left[\n",
    "\\begin{matrix}\n",
    "x_1\\\\ x_2\\\\ \\vdots\\\\ x_{n_x}\n",
    "\\end{matrix}\n",
    "\\right] $\n",
    "\n",
    "#### Non-vectorized implementation\n",
    "\n",
    ">z = 0\n",
    ">\n",
    ">for i in range(n_x):\n",
    ">\n",
    ">     z += w[i] * x[i]\n",
    ">\n",
    ">z += b\n",
    "\n",
    "#### Vetorized implementation\n",
    "\n",
    ">z = np.dot(w,x)\n"
   ]
  },
  {
   "cell_type": "code",
   "execution_count": 1,
   "metadata": {},
   "outputs": [
    {
     "name": "stdout",
     "output_type": "stream",
     "text": [
      "[1 2 3 4]\n"
     ]
    }
   ],
   "source": [
    "import numpy as np\n",
    "\n",
    "a = np.array([1,2,3,4])\n",
    "print(a)"
   ]
  },
  {
   "cell_type": "code",
   "execution_count": 2,
   "metadata": {},
   "outputs": [
    {
     "name": "stdout",
     "output_type": "stream",
     "text": [
      "250461.45835282805\n",
      "Vectorized version:21.233558654785156ms\n",
      "250461.45835283265\n",
      "For loop:2301.1271953582764ms\n"
     ]
    }
   ],
   "source": [
    "import time\n",
    "\n",
    "a = np.random.rand(1000000)\n",
    "b = np.random.rand(1000000)\n",
    "\n",
    "tic = time.time()\n",
    "c = np.dot(a,b)\n",
    "toc = time.time()\n",
    "\n",
    "print(c)\n",
    "print(\"Vectorized version:\" + str(1000*(toc-tic)) + \"ms\")\n",
    "\n",
    "c = 0\n",
    "tic = time.time()\n",
    "for i in range(1000000):\n",
    "    c += a[i]*b[i]\n",
    "toc = time.time()\n",
    "\n",
    "print(c)\n",
    "print(\"For loop:\" + str(1000*(toc-tic)) + \"ms\")"
   ]
  },
  {
   "cell_type": "markdown",
   "metadata": {},
   "source": [
    "## Neural network programming guideline\n",
    "\n",
    "Whenever possible, avoid explicit for loops\n",
    "\n",
    "### matrix vector multiplication $u = Av$\n",
    "\n",
    "#### Non-vectorized implementation\n",
    "\n",
    "$ u_i = \\sum_j A_{ih} v_j$\n",
    "\n",
    ">\n",
    "> u = np.zeros((n,1))\n",
    ">\n",
    "> for i in range(m):\n",
    ">\n",
    ">     for j in range(n):\n",
    ">\n",
    ">          u[i] += A[i][j] * v[j]\n",
    ">\n",
    "\n",
    "#### Vetorized implementation\n",
    "\n",
    "> u = np.dot(A,v)\n"
   ]
  },
  {
   "cell_type": "markdown",
   "metadata": {},
   "source": [
    "### application of a function on a matrix/vector\n",
    "\n",
    "$ \\mathbf{v}  = \\left[\n",
    "\\begin{matrix}\n",
    "v_1\\\\ v_2\\\\ \\vdots\\\\ v_{n}\n",
    "\\end{matrix}\n",
    "\\right] $ \n",
    "$\\rightarrow$ \n",
    "$ \\mathbf{u}  = \\left[\n",
    "\\begin{matrix}\n",
    "e^{v_1}\\\\ e^{v_2}\\\\ \\vdots\\\\ e^{v_n}\n",
    "\\end{matrix}\n",
    "\\right] $ \n",
    "\n",
    "#### Non-vectorized implementation\n",
    "\n",
    ">\n",
    "> u = np.zeros((n,1))\n",
    ">\n",
    "> for i in range(n):\n",
    ">\n",
    ">      u[i] += marh.exp(v[i])\n",
    ">\n",
    "\n",
    "#### Vetorized implementation\n",
    "\n",
    "> u = np.exp(v)\n",
    "\n",
    "Similarly,\n",
    "> np.log(v)\n",
    "\n",
    "> np.abs(v)\n",
    "\n",
    "> np.maximum(v,0)\n",
    "\n",
    "> v**2\n",
    "\n",
    "> 1/v"
   ]
  },
  {
   "cell_type": "markdown",
   "metadata": {},
   "source": [
    " ## Logistic regression derivatives\n",
    " \n",
    "$z^{(1)} = w^Tx^{(1)} + b$ $\\Rightarrow$  $a^{(1)} = \\sigma(z^{(1)})$\n",
    "\n",
    "$z^{(2)} = w^Tx^{(2)} + b$ $\\Rightarrow$  $a^{(2)} = \\sigma(z^{(2)})$\n",
    "\n",
    "$z^{(3)} = w^Tx^{(3)} + b$ $\\Rightarrow$  $a^{(3)} = \\sigma(z^{(3)})$\n",
    "\n",
    "$\\cdots$\n",
    "\n",
    "where $X$ is $(n_x \\times m)$ matrix.\n",
    "\n",
    "$ \\mathbf{X}  =  \\left[ \\begin{matrix} | & | & \\cdots & | \\\\\n",
    "x^{(1)} & x^{(2)} & \\cdots & x^{(m)} \\\\\n",
    " | & | & \\cdots & | \\end{matrix} \\right] $ \n",
    "\n",
    "then\n",
    "\n",
    "$  \\left[ z^{(1)},  z^{(2)},  \\cdots  z^{(m)}  \\right] = w^T  \\mathbf{X} + [b, b, \\cdots b] =  [w^Tx^{(1)}+b, w^Tx^{(2)}+b,\\cdots,w^Tx^{(m)}+b] $ \n",
    "\n",
    "then in python\n",
    "\n",
    "> z = np.dot(w.T, X) + b\n",
    "\n",
    "where $b$ can be a real number in size$(1,1)$ due to the \"broadcasting\", and\n",
    "\n",
    "$ A = \\left[ a^{(1)},  a^{(2)},  \\cdots  a^{(m)}  \\right] = \\sigma(z) $ \n",
    "\n",
    "> A = sigma(z)"
   ]
  },
  {
   "cell_type": "markdown",
   "metadata": {},
   "source": [
    "## Vectorizing Logistic Regression\n",
    "\n",
    "#### Without vectorization\n",
    "\n",
    "$dz^{(1)} = a^{(1)} - y^{(1)}$,  $dz^{(2)} = a^{(2)} - y^{(2)}$, $ \\cdots$\n",
    "\n",
    "$dZ = [dz^{(1)} dz^{(2)} \\cdots dz^{(m)} ] $\n",
    "\n",
    "$ A = \\left[ a^{(1)},  a^{(2)},  \\cdots  a^{(m)}  \\right]$\n",
    "\n",
    "$ Y = \\left[ y^{(1)},  y^{(2)},  \\cdots  y^{(m)}  \\right]$\n",
    "\n",
    "$ dZ = A - Y =  \\left[ a^{(1)}-y^{(1)},  a^{(2)}-y^{(2)},  \\cdots  a^{(m)}-y^{(m)}  \\right] $\n",
    "\n",
    "$ dw = 0 $\n",
    "\n",
    "$ dw  += x^{(1)}dz^{(1)} $\n",
    "\n",
    "$ dw  += x^{(2)}dz^{(2)} $\n",
    "\n",
    "$ \\cdots $\n",
    "\n",
    "$ dw  += x^{(m)}dz^{(m)} $\n",
    "\n",
    "$dw /=m $\n",
    "\n",
    "$ db = 0 $\n",
    "\n",
    "$ db  += dz^{(1)} $\n",
    "\n",
    "$ db  += dz^{(2)} $\n",
    "\n",
    "$ \\cdots $\n",
    "\n",
    "$ db  += dz^{(m)} $\n",
    "\n",
    "$db /=m $\n",
    "\n",
    "#### With vectorization\n",
    "\n",
    "> db = 1 / m * np.sum(dz)\n",
    "\n",
    "> dw = 1 / m * np.dot(X,dz^T)\n"
   ]
  },
  {
   "cell_type": "code",
   "execution_count": 3,
   "metadata": {},
   "outputs": [
    {
     "ename": "SyntaxError",
     "evalue": "invalid syntax (<ipython-input-3-319699163319>, line 7)",
     "output_type": "error",
     "traceback": [
      "\u001b[0;36m  File \u001b[0;32m\"<ipython-input-3-319699163319>\"\u001b[0;36m, line \u001b[0;32m7\u001b[0m\n\u001b[0;31m    z[i] = w.T x[i] + b\u001b[0m\n\u001b[0m               ^\u001b[0m\n\u001b[0;31mSyntaxError\u001b[0m\u001b[0;31m:\u001b[0m invalid syntax\n"
     ]
    }
   ],
   "source": [
    "# without vectorization\n",
    "\n",
    "J = 0, dw1=0, dw2=0, db=0\n",
    "\n",
    "for iter in range(1000):\n",
    "    for i in range(m):\n",
    "        Z[i] = w.T X[i] + b\n",
    "        a[i] = sigma(z[i])\n",
    "        J += -[y[i]*np.log(a[i]) + (1-y[i])*np.log(1-a[i])]\n",
    "        dz[i] = a[i] - y[i]\n",
    "        dw1 += x[i][1] * dz[i]\n",
    "        dw2 += x[i][2] * dz[i]\n",
    "        db += dz[i]\n",
    "    J = J / m, dw1 = dw/m, dw2 = dw2/m, db = db/m\n",
    "\n",
    "# With vectoriazation\n",
    "\n",
    "for iter in range(1000):\n",
    "    Z = np.dot(w.T, X) + b\n",
    "    A = sigmoid(Z)\n",
    "    dZ = A - Y\n",
    "    dw = 1/m * np.dot(X,dZ.T)\n",
    "    db = 1/m * np.sum(dZ)\n",
    "    w = w - alpha*dw\n",
    "    b = b - alpha*db\n",
    "    "
   ]
  },
  {
   "cell_type": "markdown",
   "metadata": {},
   "source": [
    "## Broadcasting example\n",
    "\n",
    "Caliries from Carbs, Proteins, Fats in 100g of different foods:\n",
    "\n",
    "$ \\begin{matrix}  \\cdots \\cdots & Apples & Beef & Eggs & Potatoes  \\end{matrix}$\n",
    "\n",
    "$ \\begin{matrix}   Carb \\\\ Protain \\\\ Fat  \\end{matrix}$\n",
    "$ \\left[ \\begin{matrix} \n",
    " 56.0 & 0.0 & 4.4 & 68.0 \\\\\n",
    " 1.2 & 104.0 & 52.0 & 8.0 \\\\\n",
    " 1.8 & 135.0 & 99.0 & 0.9 \n",
    " \\end{matrix} \\right] \n",
    " $\n",
    " \n",
    " Calculate % of calories from Carb, Protain, Fat. Can you do this without explicit for-loop?\n"
   ]
  },
  {
   "cell_type": "code",
   "execution_count": 3,
   "metadata": {},
   "outputs": [
    {
     "ename": "ValueError",
     "evalue": "only 2 non-keyword arguments accepted",
     "output_type": "error",
     "traceback": [
      "\u001b[0;31m---------------------------------------------------------------------------\u001b[0m",
      "\u001b[0;31mValueError\u001b[0m                                Traceback (most recent call last)",
      "\u001b[0;32m<ipython-input-3-cb1b79c7429a>\u001b[0m in \u001b[0;36m<module>\u001b[0;34m\u001b[0m\n\u001b[1;32m      3\u001b[0m A = np.array([56.0, 0.0, 4.4, 68.0],\n\u001b[1;32m      4\u001b[0m              \u001b[0;34m[\u001b[0m\u001b[0;36m1.2\u001b[0m\u001b[0;34m,\u001b[0m \u001b[0;36m104.0\u001b[0m\u001b[0;34m,\u001b[0m \u001b[0;36m52.0\u001b[0m\u001b[0;34m,\u001b[0m \u001b[0;36m8.0\u001b[0m\u001b[0;34m]\u001b[0m\u001b[0;34m,\u001b[0m\u001b[0;34m\u001b[0m\u001b[0m\n\u001b[0;32m----> 5\u001b[0;31m              [1.8, 135.0, 99.0, 0.9])\n\u001b[0m\u001b[1;32m      6\u001b[0m \u001b[0mprint\u001b[0m\u001b[0;34m(\u001b[0m\u001b[0mA\u001b[0m\u001b[0;34m)\u001b[0m\u001b[0;34m\u001b[0m\u001b[0m\n",
      "\u001b[0;31mValueError\u001b[0m: only 2 non-keyword arguments accepted"
     ]
    }
   ],
   "source": [
    "import numpy as np\n",
    "\n",
    "A = np.array([56.0, 0.0, 4.4, 68.0],\n",
    "             [1.2, 104.0, 52.0, 8.0],\n",
    "             [1.8, 135.0, 99.0, 0.9])\n",
    "print(A)"
   ]
  },
  {
   "cell_type": "code",
   "execution_count": null,
   "metadata": {},
   "outputs": [],
   "source": []
  }
 ],
 "metadata": {
  "kernelspec": {
   "display_name": "Python 3.6",
   "language": "python",
   "name": "python36"
  },
  "language_info": {
   "codemirror_mode": {
    "name": "ipython",
    "version": 3
   },
   "file_extension": ".py",
   "mimetype": "text/x-python",
   "name": "python",
   "nbconvert_exporter": "python",
   "pygments_lexer": "ipython3",
   "version": "3.6.6"
  }
 },
 "nbformat": 4,
 "nbformat_minor": 2
}
