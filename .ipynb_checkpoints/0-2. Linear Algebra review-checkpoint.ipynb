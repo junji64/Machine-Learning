{
  "cells": [
    {
      "metadata": {
        "collapsed": true
      },
      "cell_type": "markdown",
      "source": "# Linear Algebra review\n\n## Matrices and vectors\n\n### Matrix : Rectangular array of numbers\n\n$\\begin{bmatrix}\n1402 & 191 \\\\\n1371 & 821 \\\\\n949 & 1437 \\\\\n147 & 1448 \\\\\n\\end{bmatrix}$\n\n\n$4 \\times 2$ Matrix\n\n$\\rightarrow \\in \\mathbb{R}^{4x2}$\n\n행렬의 차원 : 행의 수 x 열의 수\n\n### Matrix Elements (entries of matrix)\n\n$A = \\begin{bmatrix}\n1402 & 191 \\\\\n1371 & 821 \\\\\n949 & 1437 \\\\\n147 & 1448 \\\\\n\\end{bmatrix}$\n\n$A_{i,j} = $ \"i,j entry\" in the i-th row, j-th column.\n\n$A_{11} = 1402$\n\n$A_{12} = 191$\n\n$A_{32} = 1437$\n\n$A_{41} = 147$\n\n$A_{43} = ? $"
    },
    {
      "metadata": {},
      "cell_type": "markdown",
      "source": "### Vector: An n x 1 matrix.\n\n\n$y = \\begin{bmatrix}\n460\\\\\n232 \\\\\n315 \\\\\n178 \\\\\n\\end{bmatrix}$\n\n$ y_i = $ i-th element\n\n$y_1 = $\n\n$y_2 = $\n\n$y_3 = $\n\n|  begin with 1-indexed    |  vs. | begin with 0-indexed  |\n|----------------|------|-------------|\n|$y = \\begin{bmatrix}y_1\\\\y_2 \\\\y_3 \\\\y_4 \\\\ \\end{bmatrix}$ | vs. | $y = \\begin{bmatrix} y_0\\\\y_1\\\\y_2\\\\y_3\\\\ \\end{bmatrix}$ |\n<hr>"
    },
    {
      "metadata": {
        "trusted": true
      },
      "cell_type": "code",
      "source": "import numpy as np\ny = np.array([460, 232, 315, 178])\nprint(\"y's shape :\", y.shape)\nprint('y =', y)\nprint('y[0]=',y[0], ' y[3]=',y[3])",
      "execution_count": 10,
      "outputs": [
        {
          "output_type": "stream",
          "text": "y's shape : (4,)\ny = [460 232 315 178]\ny[0]= 460  y[3]= 178\n",
          "name": "stdout"
        }
      ]
    },
    {
      "metadata": {
        "trusted": true
      },
      "cell_type": "code",
      "source": "A = np.array([[1402,191],[1371,821],[949,1437],[147,1448]])\nprint(\"A's shape :\", A.shape)\nprint('A =', A)\nprint('A[0][0]=',A[0][0], ' A[2][1]=',A[2][1])",
      "execution_count": 13,
      "outputs": [
        {
          "output_type": "stream",
          "text": "A's shape : (4, 2)\nA = [[1402  191]\n [1371  821]\n [ 949 1437]\n [ 147 1448]]\nA[0][0]= 1402  A[2][1]= 1437\n",
          "name": "stdout"
        }
      ]
    },
    {
      "metadata": {},
      "cell_type": "markdown",
      "source": "## Addition and Scalar multiplication\n\n### Matrix Addition\n\n\n$\\begin{bmatrix}\n1 & 0 \\\\\n2 & 5 \\\\\n3 & 1 \\\\\n\\end{bmatrix}\n+ \\begin{bmatrix}\n4 & 0.5 \\\\\n2 & 5 \\\\\n0 & 1 \\\\\n\\end{bmatrix} =\n$\n\n$\\begin{bmatrix}\n1 & 0 \\\\\n2 & 5 \\\\\n3 & 1 \\\\\n\\end{bmatrix}\n+ \\begin{bmatrix}\n4 & 0.5 \\\\\n2 & 5 \\\\\n\\end{bmatrix} =\n$\n\n### Scalar Multiplication\n\n$3 \\times \\begin{bmatrix}\n1 & 0 \\\\\n2 & 5 \\\\\n3 & 1 \\\\\n\\end{bmatrix} =\n$\n\n$\\begin{bmatrix}\n4 & 0 \\\\\n6 & 3 \\\\\n\\end{bmatrix} / 4 =\n$\n\n### Combination of Operands\n\n$3 \\times \\begin{bmatrix}\n1 \\\\\n4 \\\\\n2 \\\\\n\\end{bmatrix} +\n\\begin{bmatrix}\n 0 \\\\\n 0 \\\\\n 5 \\\\\n\\end{bmatrix} -\n\\begin{bmatrix}\n 3 \\\\\n 0 \\\\\n 2 \\\\\n\\end{bmatrix} / 3 = \n$\n\n>\n\n>\n\n>\n\n<hr>"
    },
    {
      "metadata": {
        "trusted": true
      },
      "cell_type": "code",
      "source": "A = np.array([[1,0],[2,5],[3,1]])\nB = np.array([[4,0.5],[2,5],[0,1]])\nC = A + B\nprint(A,\"\\n\", B,\"\\n\",C)",
      "execution_count": 17,
      "outputs": [
        {
          "output_type": "stream",
          "text": "[[1 0]\n [2 5]\n [3 1]] \n [[4.  0.5]\n [2.  5. ]\n [0.  1. ]] \n [[ 5.   0.5]\n [ 4.  10. ]\n [ 3.   2. ]]\n",
          "name": "stdout"
        }
      ]
    },
    {
      "metadata": {
        "trusted": true
      },
      "cell_type": "code",
      "source": "D = 3 * A\nprint(D)\nE = A / 4\nprint(E)",
      "execution_count": 19,
      "outputs": [
        {
          "output_type": "stream",
          "text": "[[ 3  0]\n [ 6 15]\n [ 9  3]]\n[[0.25 0.  ]\n [0.5  1.25]\n [0.75 0.25]]\n",
          "name": "stdout"
        }
      ]
    },
    {
      "metadata": {
        "trusted": true
      },
      "cell_type": "code",
      "source": "a = np.array([1,4,2])\nb = np.array([0,0,5])\nc = np.array([3,0,2])\nd = 3 * a + b - c / 3\nprint(d)",
      "execution_count": 20,
      "outputs": [
        {
          "output_type": "stream",
          "text": "[ 2.         12.         10.33333333]\n",
          "name": "stdout"
        }
      ]
    },
    {
      "metadata": {},
      "cell_type": "markdown",
      "source": "## Matrix-vector multiplication\n\n## Example\n\n$\\begin{bmatrix}\n1 & 3 \\\\\n4 & 0 \\\\\n2 & 1 \\\\\n\\end{bmatrix}\n\\begin{bmatrix}\n1 \\\\\n5 \\\\\n\\end{bmatrix} =\n$\n\n### Details : \n\n$$ A \\quad \\quad  \\times  \\quad \\quad \\quad \\quad x\\quad \\quad  =\\quad \\quad  y $$\n>\n\n>\n\n>\n\n$$ \\text{mxn matrix}  \\quad \\quad  \\quad\\text{nx1 matrix}\\quad  \\quad \\quad  \\text{m-dimensional vector} $$\n>\n\n$y_i$ 를 얻으려면, $A$ 의 i-번째 행을 벡터 $x$ 의 요소들과 곱하고 합산합니다.\n\n### Example\n\n$\\begin{bmatrix}\n1 & 2 & 1 & 5 \\\\\n0 & 3 & 0 & 4 \\\\\n-1 & -2& 0 & 0 \\\\\n\\end{bmatrix}\n\\begin{bmatrix}\n1 \\\\\n3\\\\\n2 \\\\\n1\\\\\n\\end{bmatrix} =\n$\n\n>\n\n>\n\n>\n\n\nHouse sizes : \n\n$2104\\\\\n1416\\\\\n1534\\\\\n852$     $\\quad \\quad h_\\theta(x) = -40 +0.25 x$\n\nIn Matrix\n\n$\\begin{bmatrix}\n1 & 2104 \\\\\n1 & 1416 \\\\\n1 & 1534 \\\\\n1 & 852 \\\\\n\\end{bmatrix}\n\\begin{bmatrix}\n-40 \\\\\n0.25 \\\\\n\\end{bmatrix} =\n$\n\n\n>\n\n>\n"
    },
    {
      "metadata": {
        "trusted": true
      },
      "cell_type": "code",
      "source": "A = np.array([[1,3],[4,0],[2,1]])\nb = np.array([1,5])\nc = np.dot(A,b)\nprint(c)\n\nG = np.array([2104, 1416, 1534, 852])\nG = np.array([np.ones(4),G]).T\nprint(G)\nd = np.array([-40, 0.25])\ne = np.dot(G,d)\nprint(e)",
      "execution_count": 29,
      "outputs": [
        {
          "output_type": "stream",
          "text": "[16  4  7]\n[[1.000e+00 2.104e+03]\n [1.000e+00 1.416e+03]\n [1.000e+00 1.534e+03]\n [1.000e+00 8.520e+02]]\n[486.  314.  343.5 173. ]\n",
          "name": "stdout"
        }
      ]
    },
    {
      "metadata": {},
      "cell_type": "markdown",
      "source": "## Matrix-matrix multiplication\n\n\n### Example\n\n\n$\\begin{bmatrix}\n1 & 3 & 2 \\\\\n4 & 0 & 1 \\\\\n\\end{bmatrix}\n\\begin{bmatrix}\n1 & 3 \\\\\n0 & 1 \\\\\n5 & 2 \\\\\n\\end{bmatrix} =\n$\n\n$\\begin{bmatrix}\n1 & 3 & 2 \\\\\n4 & 0 & 1 \\\\\n\\end{bmatrix}\n\\begin{bmatrix}\n1  \\\\\n0  \\\\\n5  \\\\\n\\end{bmatrix} =\n$\n\n$\\begin{bmatrix}\n1 & 3 & 2 \\\\\n4 & 0 & 1 \\\\\n\\end{bmatrix}\n\\begin{bmatrix}\n 3 \\\\\n 1 \\\\\n 2 \\\\\n\\end{bmatrix} =\n$\n\n### Details : \n\n$$ A \\quad \\quad  \\times  \\quad \\quad \\quad \\quad B\\quad \\quad  =\\quad \\quad  C $$\n>\n\n>\n\n>\n\n$$ \\text{mxn matrix}  \\quad \\quad  \\quad\\text{nxo matrix}\\quad  \\quad \\quad  \\text{mxo-dimensional matrix} $$\n>\n\n행렬 C의 i-번째 열은 행렬 A와 행렬 B의 i-번째 열과의 곱으로 얻어진다. ($i=1,2,\\cdots,o$)\n\n\n### Example\n\n$\\begin{bmatrix}\n1 & 3 \\\\\n2 & 5 \\\\\n\\end{bmatrix}\n\\begin{bmatrix}\n0 & 1 \\\\\n3 & 2 \\\\\n\\end{bmatrix} =\n$\n\n$\\begin{bmatrix}\n1 & 3 \\\\\n2 & 5 \\\\\n\\end{bmatrix}\n\\begin{bmatrix}\n0  \\\\\n3  \\\\\n\\end{bmatrix} =\n$\n\n$\\begin{bmatrix}\n1 & 3 \\\\\n2 & 5 \\\\\n\\end{bmatrix}\n\\begin{bmatrix}\n1 \\\\\n 2 \\\\\n\\end{bmatrix} =\n$\n\nHouse sizes : \n\n$2104\\\\\n1416\\\\\n1534\\\\\n852$     $\\quad \\quad \\begin{array} |\n                        1. & h_\\theta(x) & = -40 +0.25 x \\\\\n                        2. & h_\\theta(x) & = 200 +0.1 x\\\\\n                        3. & h_\\theta(x) & = -150 +0.4 x \n                        \\end{array}$\n\nIn Matrix x Matrix\n\n$\\begin{bmatrix}\n1 & 2104 \\\\\n1 & 1416 \\\\\n1 & 1534 \\\\\n1 & 852 \\\\\n\\end{bmatrix}\n\\begin{bmatrix}\n-40 & 200 & -150 \\\\\n0.25& -.1 & 0.4\\\\\n\\end{bmatrix} =\n$\n\n\n>\n\n>\n\n<hr>"
    },
    {
      "metadata": {
        "trusted": true
      },
      "cell_type": "code",
      "source": "A = np.array([[1,3,2],[4,0,1]])\nB = np.array([[1,3],[0,1],[5,2]])\nC = np.dot(A,B)\nprint(C)\n\nH = np.array([[-40, 200, -150], [0.25, -.1, 0.4]])\nJ = np.dot(G,H)\nprint(J)",
      "execution_count": 30,
      "outputs": [
        {
          "output_type": "stream",
          "text": "[[11 10]\n [ 9 14]]\n[[486.  -10.4 691.6]\n [314.   58.4 416.4]\n [343.5  46.6 463.6]\n [173.  114.8 190.8]]\n",
          "name": "stdout"
        }
      ]
    },
    {
      "metadata": {
        "trusted": true
      },
      "cell_type": "markdown",
      "source": "## Matrix multiplication properties\n\n$A$ 와 $B$ 가 행렬일 때, 일반적으로 $ A \\times B \\ne B \\times A $ (교환법칙이 성립하지 않는다)\n\ne.g. \n\n$\\begin{bmatrix}\n1 & 1 \\\\\n0 & 0 \\\\\n\\end{bmatrix}\n\\begin{bmatrix}\n0 & 0 \\\\\n2 & 0 \\\\\n\\end{bmatrix} =\n\\begin{bmatrix}\n2 & 0 \\\\\n0 & 0 \\\\\n\\end{bmatrix}\n$\n\n$\\begin{bmatrix}\n0 & 0 \\\\\n2 & 0 \\\\\n\\end{bmatrix}\n\\begin{bmatrix}\n1 & 1 \\\\\n0 & 0 \\\\\n\\end{bmatrix}\n =\n\\begin{bmatrix}\n0 & 0 \\\\\n2 & 2 \\\\\n\\end{bmatrix}\n$\n\n$A$,$B$ 와 $C$ 가 행렬일 때, 일반적으로 $ A \\times B \\times C $ 는:\n\n\n$D = B \\times C$ 일 때, $ A \\times D$.\n\n$E = A \\times B$ 일 때, $ E \\times C$.\n\n$ A \\times D = E \\times C$ (결합법칙이 성립한다)\n\n#### 단위행렬(Identity Matrix)\n\n$I$ 로 표시 (또는 $I_{n\\times n}$).\n\n단위행렬의 예:\n\n| $2\\times 2$ | $3\\times 3$ | $4\\times 4$ | \n|-------------|-------------|-------------|\n|$\\begin{bmatrix}\n1 & 0 \\\\\n0 & 1 \\\\\n\\end{bmatrix}$ | $\\begin{bmatrix}\n1 & 0 & 0\\\\\n0 & 1 & 0\\\\\n0 & 0 & 1\\\\\n\\end{bmatrix}$ |$\\begin{bmatrix}\n1 & 0 & 0 & 0\\\\\n0 & 1 & 0 & 0\\\\\n0 & 0 & 1 & 0\\\\\n0 & 0 & 0 & 1\n\\end{bmatrix}$ |\n\n임의의 행렬 $A$에 대하여,\n$A \\cdot I = I \\cdot A = A$\n\n>\n\n>\n<hr>"
    },
    {
      "metadata": {
        "trusted": true
      },
      "cell_type": "code",
      "source": "A = np.array([[1,1],[0,0]])\nB = np.array([[0,0],[2,0]])\nAB = np.dot(A,B)\nprint(AB)\nBA = np.dot(B,A)\nprint(BA)",
      "execution_count": 38,
      "outputs": [
        {
          "output_type": "stream",
          "text": "[[2 0]\n [0 0]]\n[[0 0]\n [2 2]]\n",
          "name": "stdout"
        }
      ]
    },
    {
      "metadata": {
        "trusted": true
      },
      "cell_type": "code",
      "source": "I2 = np.eye(2)\nprint(I2)\nI3 = np.eye(3)\nprint(I3)\nprint(np.dot(A,I2))\nprint(np.dot(I2,A))",
      "execution_count": 39,
      "outputs": [
        {
          "output_type": "stream",
          "text": "[[1. 0.]\n [0. 1.]]\n[[1. 0. 0.]\n [0. 1. 0.]\n [0. 0. 1.]]\n[[1. 1.]\n [0. 0.]]\n[[1. 1.]\n [0. 0.]]\n",
          "name": "stdout"
        }
      ]
    },
    {
      "metadata": {},
      "cell_type": "markdown",
      "source": "#### 전치 행렬( Matrix Transpose)\n\n예:\n\n$A = \\begin{bmatrix}\n1 & 2 & 0\\\\\n3 & 5 & 9\\\\\n\\end{bmatrix} \\quad A^T = \\begin{bmatrix}\n1 & 3 \\\\\n2 & 5 \\\\\n0 & 9 \\\\\n\\end{bmatrix} $\n\n$A$ 가 $m \\times n$ 행렬이고, $B = A^T$ 라면,\n$B$ 는 $n \\times m$ 행렬이며, $B_{ij} = A_{ji}$ 이다.\n\n> \n\n>"
    },
    {
      "metadata": {
        "trusted": true
      },
      "cell_type": "code",
      "source": "A = np.array([[1,2,0],[3,5,9]])\nprint(A.T)",
      "execution_count": 40,
      "outputs": [
        {
          "output_type": "stream",
          "text": "[[1 3]\n [2 5]\n [0 9]]\n",
          "name": "stdout"
        }
      ]
    }
  ],
  "metadata": {
    "kernelspec": {
      "name": "python36",
      "display_name": "Python 3.6",
      "language": "python"
    },
    "language_info": {
      "mimetype": "text/x-python",
      "nbconvert_exporter": "python",
      "name": "python",
      "pygments_lexer": "ipython3",
      "version": "3.6.6",
      "file_extension": ".py",
      "codemirror_mode": {
        "version": 3,
        "name": "ipython"
      }
    }
  },
  "nbformat": 4,
  "nbformat_minor": 2
}