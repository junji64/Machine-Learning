{
 "cells": [
  {
   "cell_type": "markdown",
   "metadata": {},
   "source": [
    "# Python for Machine Learning - Numpy\n",
    "\n",
    "Numpy는 Python 과학분야 컴퓨팅을 위한 핵심 라이브러리입니다. 고성능 다차원 배열 객체와 이러한 배열 작업을 위한 도구를 제공합니다. "
   ]
  },
  {
   "cell_type": "markdown",
   "metadata": {},
   "source": [
    "### Arrays\n",
    "\n",
    "* numpy 배열은 모두 같은 유형의 값들의 그리드이며, 음수가 아닌 정수의 튜플(tuple)에 의해 인덱싱됩니다.\n",
    "* 차원의 수는 배열의 순위입니다.\n",
    "* 배열의 모양은 각 차원을 따라 배열의 크기를 제공하는 정수의 튜플입니다.\n",
    "* 우리는 중첩된 파이썬 리스트로부터 numpy 배열을 초기화 할 수 있고, 대괄호를 사용하여 요소에 접근 할 수 있습니다."
   ]
  },
  {
   "cell_type": "code",
   "execution_count": 21,
   "metadata": {},
   "outputs": [
    {
     "name": "stdout",
     "output_type": "stream",
     "text": [
      "[1 2 3] <class 'numpy.ndarray'>\n",
      "(3,)\n",
      "1 2 3\n",
      "[5 2 3]\n",
      "[[1 2 3]\n",
      " [4 5 6]] (2, 3)\n",
      "1 5 3\n"
     ]
    }
   ],
   "source": [
    "import numpy as np      # import numpy library\n",
    "\n",
    "a = np.array([1, 2, 3]) # list를 array(배열)로 만드는 method\n",
    "print(a, type(a))\n",
    "print(a.shape)          # dimension을 보기(shape는 tuple형식의 문법으로 표현됨)\n",
    "\n",
    "print(a[0], a[1], a[2]) # a의 0, 1, 2 번쨰 index에 위치한 요소를 접근 \n",
    "a[0] = 5                # 특정 요소를 수정(a의 0번째 값을 5로 바꾸기)\n",
    "print(a)                # 1이 5로 바뀜\n",
    "\n",
    "b = np.array([[1, 2, 3], [4, 5, 6]]) # 2차원 list를 2차원 array로 바꿈(2x3 배열)\n",
    "print(b, b.shape)                    # (2,3) = 2 by 3 배열(tuple형식의 소괄호)\n",
    "print(b[0,0], b[1,1], b[0,2])        # b의 (i,j) index에 위치한 요소를 접근"
   ]
  },
  {
   "cell_type": "markdown",
   "metadata": {},
   "source": [
    "Numpy는 또한 배열을 생성하는 많은 함수를 제공합니다 :"
   ]
  },
  {
   "cell_type": "code",
   "execution_count": 22,
   "metadata": {},
   "outputs": [
    {
     "name": "stdout",
     "output_type": "stream",
     "text": [
      "[[0. 0.]\n",
      " [0. 0.]]\n",
      "[[1. 1.]]\n",
      "[[7 7]\n",
      " [7 7]]\n",
      "[[1. 0.]\n",
      " [0. 1.]]\n",
      "[[0.11378306 0.03501953]\n",
      " [0.46167702 0.04892665]]\n"
     ]
    }
   ],
   "source": [
    "a = np.zeros((2, 2))       # 0으로 가득차 있는 (2 by 2) 배열 \n",
    "print(a)\n",
    "\n",
    "b = np.ones((1, 2))        # 1로 가득차 있는 (1 by 2) 배열 \n",
    "print(b)\n",
    "\n",
    "c = np.full((2, 2), 7)     # 7이라는 값으로 가득 채워진 (2 by 2) 배열 \n",
    "print(c)\n",
    "\n",
    "d = np.eye(2)            # 단위행렬: 대각 요소만 1이고 나머지는 0 인 (2x2)행렬/배열\n",
    "print(d)                 # 단위행렬은 항상 행과 열이 똑같다 (square matrix)\n",
    "\n",
    "e = np.random.random((2, 2)) # np에서 지원되는 random이라는 object안에서 random값을 생성하는 method\n",
    "print(e)                    # 랜덤한 값(0~1 사이의 실수)으로 채워진 (2x2) 배열 "
   ]
  },
  {
   "cell_type": "code",
   "execution_count": 24,
   "metadata": {},
   "outputs": [
    {
     "name": "stdout",
     "output_type": "stream",
     "text": [
      "[0 1 2 3 4]\n",
      "[1.  1.3 1.6 1.9 2.2 2.5 2.8]\n",
      "[1.   1.75 2.5  3.25 4.  ]\n"
     ]
    }
   ],
   "source": [
    "a = np.arange(5)         # 0~4까지 숫자를 반환하는 method (python 에서는 .range())\n",
    "print(a)\n",
    "b = np.arange(1, 3, 0.3) # 2~3사이를 0.3간격으로 샘플한 실수값을 반환 (3 보다는 작음) \n",
    "print(b)\n",
    "c = np.linspace(1., 4., 5) # 1~4를 포함하는 5개의 등간격으로 샘플된 실수값을 반환\n",
    "print(c)                   "
   ]
  },
  {
   "cell_type": "markdown",
   "metadata": {},
   "source": [
    "[(링크) 다양한 배열 생성방법](https://docs.scipy.org/doc/numpy/user/basics.creation.html#arrays-creation)"
   ]
  },
  {
   "cell_type": "markdown",
   "metadata": {},
   "source": [
    "### Array Indexing\n",
    "\n",
    "Numpy는 배열에 색인을 생성하는 몇 가지 방법을 제공합니다.\n",
    "\n",
    "**슬라이싱**: 파이썬 리스트와 마찬가지로, numpy 배열은 슬라이스 할 수 있습니다. 배열은 다차원 일 수 있으므로, 배열의 각 차원에 대해 슬라이스를 지정해야 합니다."
   ]
  },
  {
   "cell_type": "code",
   "execution_count": 25,
   "metadata": {},
   "outputs": [
    {
     "name": "stdout",
     "output_type": "stream",
     "text": [
      "[[ 1  2  3  4]\n",
      " [ 5  6  7  8]\n",
      " [ 9 10 11 12]]\n",
      "[[2 3]\n",
      " [6 7]]\n",
      "2\n",
      "[[77  3]\n",
      " [ 6  7]]\n",
      "[[ 1 77  3  4]\n",
      " [ 5  6  7  8]\n",
      " [ 9 10 11 12]]\n"
     ]
    }
   ],
   "source": [
    "a = np.array([[1, 2, 3, 4], [5, 6, 7, 8], [9, 10, 11, 12]]) # (3 by 4) 배열\n",
    "print(a)\n",
    "\n",
    "# 조각난(sliced) 배열은 동일한 데이터에 대한 뷰이므로 수정하면 원래 배열이 수정됩니다.\n",
    "\n",
    "b = a[:2, 1:3]  # a의 첫번째부터 두번째 행까지, 두번째부터 세번째 열까지\n",
    "print(b)\n",
    "print(a[0,1])   # a의 첫번째 행, 두번째 열\n",
    "b[0,0] = 77     # slice 된 배열을 새로운 이름으로 해도 원래 배열을 그대로 가짐 (pointer 개념).\n",
    "print(b)\n",
    "print(a)"
   ]
  },
  {
   "cell_type": "markdown",
   "metadata": {},
   "source": [
    "**정수 인덱싱**과 슬라이스 인덱싱을 혼용 할 수도 있습니다. 그러나 이렇게 하면 **원래 배열보다 낮은 차원의 배열**이 생성됩니다."
   ]
  },
  {
   "cell_type": "code",
   "execution_count": 27,
   "metadata": {},
   "outputs": [
    {
     "name": "stdout",
     "output_type": "stream",
     "text": [
      "[[ 1  2  3  4]\n",
      " [ 5  6  7  8]\n",
      " [ 9 10 11 12]]\n",
      "[5 6 7 8] (4,)\n",
      "[[5 6 7 8]] (1, 4)\n",
      "---*------*------*------*------*------*------*------*------*------*---\n",
      "[ 2  6 10] (3,)\n",
      "[[ 2]\n",
      " [ 6]\n",
      " [10]] (3, 1)\n"
     ]
    }
   ],
   "source": [
    "a = np.array([[1, 2, 3, 4], [5, 6, 7, 8], [9, 10, 11, 12]])\n",
    "print(a)\n",
    "\n",
    "row_r1 = a[1, :]     # a의 두번째 행 (정수 인덱싱)\n",
    "row_r2 = a[1:2, :]   # a의 두번째 행 (슬라이싱)\n",
    "print(row_r1, row_r1.shape) # 정수 인덱싱을 하면 차원이 하나 줄어듬 (1차원 배열)\n",
    "print(row_r2, row_r2.shape) # 행렬 형태 (2차원 행렬)\n",
    "print(\"---*---\"*10)\n",
    "col_r1 = a[:, 1]     # a의 두번째 열 (정수 인덱싱)\n",
    "col_r2 = a[:, 1:2]   # a의 두번째 열 (슬라이싱)\n",
    "print(col_r1, col_r1.shape)\n",
    "print(col_r2, col_r2.shape)"
   ]
  },
  {
   "cell_type": "markdown",
   "metadata": {},
   "source": [
    "**정수 배열 인덱싱**: \n",
    "\n",
    "* 슬라이싱을 사용하여 numpy 배열로 인덱싱 할 때, 결과 배열은 항상 원래 배열의 차원을 유지하는 하위 배열이 됩니다. \n",
    "* 반대로 정수 배열 인덱싱을 사용하면, 다른 배열의 데이터를 사용하여 임의의 배열을 구성 할 수 있습니다. \n",
    "\n",
    "다음은 그 예입니다."
   ]
  },
  {
   "cell_type": "code",
   "execution_count": 28,
   "metadata": {},
   "outputs": [
    {
     "name": "stdout",
     "output_type": "stream",
     "text": [
      "[[1 2]\n",
      " [3 4]\n",
      " [5 6]]\n",
      "[1 4 5]\n",
      "[1 4 5]\n",
      "[2 2]\n",
      "[2 2]\n"
     ]
    }
   ],
   "source": [
    "a = np.array([[1, 2], [3, 4], [5, 6]])\n",
    "print(a)\n",
    "print(a[[0, 1 ,2], [0, 1, 0]])               # 특정한 element를 뽑기\n",
    "print(np.array([a[0, 0], a[1, 1], a[2, 0]])) # 특정한 element를 뽑아서 배열로 만들어줌\n",
    "print(a[[0,0], [1,1]])\n",
    "print(np.array([a[0, 1], a[0, 1]]))"
   ]
  },
  {
   "cell_type": "markdown",
   "metadata": {},
   "source": [
    "정수 배열 인덱싱을 사용하는 유용한 트릭은 행렬의 각 행에서 하나의 요소를 선택하거나 변경하는 것입니다."
   ]
  },
  {
   "cell_type": "code",
   "execution_count": 29,
   "metadata": {},
   "outputs": [
    {
     "name": "stdout",
     "output_type": "stream",
     "text": [
      "[[ 1  2  3]\n",
      " [ 4  5  6]\n",
      " [ 7  8  9]\n",
      " [10 11 12]]\n",
      "[0 2 0 1]\n",
      "[ 1  6  7 11]\n",
      "[[11  2  3]\n",
      " [ 4  5 16]\n",
      " [17  8  9]\n",
      " [10 21 12]]\n"
     ]
    }
   ],
   "source": [
    "a = np.array([[1, 2, 3], [4, 5, 6], [7, 8, 9], [10, 11, 12]]) # (4x3) 배열\n",
    "print(a)\n",
    "b = np.array([0, 2, 0, 1]) # a의 특정한 element 4개를 뽑아낼 때 사용할 index 번호\n",
    "print(b)\n",
    "print(a[np.arange(4), b]) # a[0,0], a[1,2], a[2,0], a[3,1]를 뽑아내기\n",
    "a[np.arange(4), b] += 10  # a[0,0], a[1,2], a[2,0], a[3,1]에 10만큼 더함\n",
    "print(a)"
   ]
  },
  {
   "cell_type": "markdown",
   "metadata": {},
   "source": [
    "**부울 배열 인덱싱** : 부울 배열 인덱싱을 사용하면 배열의 임의 요소를 선택할 수 있습니다. 이 유형의 인덱싱은 일부 조건을 충족하는 배열 요소를 선택하는 데 자주 사용됩니다. 다음은 그 예입니다."
   ]
  },
  {
   "cell_type": "code",
   "execution_count": 31,
   "metadata": {},
   "outputs": [
    {
     "name": "stdout",
     "output_type": "stream",
     "text": [
      "[[1 2]\n",
      " [3 4]\n",
      " [5 6]]\n",
      "[[False False]\n",
      " [ True  True]\n",
      " [ True  True]]\n",
      "[3 4 5 6]\n",
      "[3 4 5 6]\n"
     ]
    }
   ],
   "source": [
    "# 부울 배열 인덱싱: 배열 안에 부울 값만 넣고, 그 중에서 True 값만 뽑아내기\n",
    "a = np.array([[1, 2], [3, 4], [5, 6]])\n",
    "print(a)\n",
    "# 부울값으로 인덱스를 갖고 있는 배열\n",
    "bool_idx = (a > 2) # a라는 배열에 2보다 큰 값들을 찾아서, 그 값들의 부울 값 (True or False)\n",
    "print(bool_idx)\n",
    "print(a[bool_idx]) # True인 값을 가지는 인덱스 위치의 값을 뽑아냄\n",
    "print(a[a>2])"
   ]
  },
  {
   "cell_type": "markdown",
   "metadata": {},
   "source": [
    "간단히하기 위해 numpy 배열 인덱싱에 대한 많은 세부 사항을 생략했습니다.\n",
    "더 많은 것을 알고 싶다면 [문서 링크](https://docs.scipy.org/doc/numpy/reference/arrays.indexing.html)를 참고합니다."
   ]
  },
  {
   "cell_type": "markdown",
   "metadata": {},
   "source": [
    "### Datatype\n",
    "\n",
    "각 numpy 배열은 동일한 유형의 요소 그리드입니다. \n",
    "\n",
    "Numpy는 배열을 생성하는 데 사용할 수 있는 많은 종류의 데이터 유형을 제공합니다.\n",
    "\n",
    "Numpy는 배열을 만들 때 데이터 유형을 추측하려 하지만, 배열을 생성하는 함수는 대게 데이터 유형을 명시적으로 지정하는 선택적 인수도 포함합니다. \n",
    "\n",
    "다음은 그 예입니다."
   ]
  },
  {
   "cell_type": "code",
   "execution_count": 1,
   "metadata": {},
   "outputs": [
    {
     "name": "stdout",
     "output_type": "stream",
     "text": [
      "int32\n",
      "float64\n",
      "float64\n",
      "[1. 2.]\n"
     ]
    }
   ],
   "source": [
    "import numpy as np\n",
    "\n",
    "x = np.array([1, 2])\n",
    "print(x.dtype)         # x가 갖고 있는 값들의 datatype= 64bit 크기 정수\n",
    "\n",
    "x = np.array([1.0, 2.0])\n",
    "print(x.dtype)         # x가 갖고 있는 값들의 datatype = 64bit자리 실수\n",
    "\n",
    "x = np.array([1, 2], dtype = np.float64) # 직접 datatype 주기: datatype를 np에서 제공되는 float64 type으로 만듦\n",
    "print(x.dtype)\n",
    "print(x)"
   ]
  },
  {
   "cell_type": "markdown",
   "metadata": {},
   "source": [
    "### Array Math\n",
    "\n",
    "기본 수학 함수는 배열에서 요소 단위로 작동합니다."
   ]
  },
  {
   "cell_type": "code",
   "execution_count": 36,
   "metadata": {},
   "outputs": [
    {
     "name": "stdout",
     "output_type": "stream",
     "text": [
      "[[1. 2.]\n",
      " [3. 4.]]\n",
      "[[5. 6.]\n",
      " [7. 8.]]\n",
      "[[ 6.  8.]\n",
      " [10. 12.]]\n",
      "[[ 6.  8.]\n",
      " [10. 12.]]\n",
      "[[-4. -4.]\n",
      " [-4. -4.]]\n",
      "[[-4. -4.]\n",
      " [-4. -4.]]\n"
     ]
    }
   ],
   "source": [
    "x = np.array([[1, 2], [3, 4]], dtype = np.float64)\n",
    "y = np.array([[5, 6], [7, 8]], dtype = np.float64)\n",
    "\n",
    "print(x)\n",
    "print(y)\n",
    "\n",
    "print(x + y)             # 해당 요소들끼리의 덧셈\n",
    "print(np.add(x, y))      # x와 y를 더해준 값\n",
    "\n",
    "print(x - y)             # 해당 요소들끼리의 뺄셈\n",
    "print(np.subtract(x, y)) # x와 y를 뺀 값"
   ]
  },
  {
   "cell_type": "code",
   "execution_count": 41,
   "metadata": {},
   "outputs": [
    {
     "name": "stdout",
     "output_type": "stream",
     "text": [
      "[[ 5. 12.]\n",
      " [21. 32.]]\n",
      "[[ 5. 12.]\n",
      " [21. 32.]]\n",
      "[[0.2        0.33333333]\n",
      " [0.42857143 0.5       ]]\n",
      "[[0.2        0.33333333]\n",
      " [0.42857143 0.5       ]]\n",
      "[[ 1.  8.]\n",
      " [27. 64.]]\n",
      "[[ 1.  8.]\n",
      " [27. 64.]]\n",
      "[[1.         1.41421356]\n",
      " [1.73205081 2.        ]]\n"
     ]
    }
   ],
   "source": [
    "print(x * y)             # 해당 요소들끼리의 곱셈\n",
    "print(np.multiply(x, y)) # x와 y를 곱한 값\n",
    "\n",
    "print(x / y)             # 해당 요소들끼리의 나눗셈\n",
    "print(np.divide(x, y))   # x와 y를 나눈 값\n",
    "\n",
    "print(x ** 3)            # 해당 요소들의 지수승\n",
    "print(np.power(x,3))     # \n",
    "\n",
    "print(np.sqrt(x))        # 해당 요소들의 제곱근"
   ]
  },
  {
   "cell_type": "markdown",
   "metadata": {},
   "source": [
    "numpy array들에 대한 * 는 행렬 곱셈이 아닌 요소별 곱셈입니다. 대신\n",
    "\n",
    "* 벡터의 inner product를 계산하고,\n",
    "* 벡터에 행렬을 곱하고,\n",
    "* 행렬과 행렬을 곱하기 위해\n",
    "\n",
    "numpy.dot( ) 함수를 사용합니다. dot()는 numpy 모듈의 함수[ numpy.dot() ]와 배열 객체의 인스턴스 메서드로도 [ a_name.dot() ] 사용할 수 있습니다."
   ]
  },
  {
   "cell_type": "code",
   "execution_count": 42,
   "metadata": {},
   "outputs": [
    {
     "name": "stdout",
     "output_type": "stream",
     "text": [
      "[[1 2]\n",
      " [3 4]]\n",
      "[[5 6]\n",
      " [7 8]]\n",
      "[ 9 10] [11 12]\n",
      "219\n",
      "219\n",
      "[29 67]\n",
      "[29 67]\n",
      "[[19 22]\n",
      " [43 50]]\n",
      "[[19 22]\n",
      " [43 50]]\n"
     ]
    }
   ],
   "source": [
    "x = np.array([[1, 2], [3, 4]])     # 2 by 2 행렬\n",
    "y = np.array([[5, 6], [7, 8]])     # 2 by 2 행렬\n",
    "print(x)\n",
    "print(y)\n",
    "\n",
    "v = np.array([9, 10])     # (2, )벡터 (1-dimensional array)\n",
    "w = np.array([11, 12])    # (2, )벡터 (1-dimensional array)\n",
    "print(v, w)\n",
    "\n",
    "# 벡터와 벡터의 곱 \n",
    "print(v.dot(w))          # v와 w의 dot product = (9 * 11 + 10 * 12)\n",
    "print(np.dot(v, w))\n",
    "\n",
    "# 벡터와 행렬의 곱\n",
    "print(x.dot(v))         # x와 v의 dot product = [(1*9 + 2*10),(3*9 + 4*10)]\n",
    "print(np.dot(x, v))\n",
    "\n",
    "# 행렬 행렬의 곱\n",
    "print(x.dot(y))         # x와 y의 dot product = [[(1*5 + 2*7),(1*6 + 2*8)], [(3 * 5 + 4 * 7), (3 * 6 + 4 * 8)]]\n",
    "print(np.dot(x, y))"
   ]
  },
  {
   "cell_type": "markdown",
   "metadata": {},
   "source": [
    "Numpy는 배열에 대하여 계산을 수행하는 데 유용한 많은 함수을 제공합니다. 가장 유용한 것 중 하나가 sum입니다."
   ]
  },
  {
   "cell_type": "code",
   "execution_count": 43,
   "metadata": {},
   "outputs": [
    {
     "name": "stdout",
     "output_type": "stream",
     "text": [
      "10\n",
      "[4 6]\n",
      "[3 7]\n"
     ]
    }
   ],
   "source": [
    "x = np.array([[1, 2], [3, 4]])\n",
    "print(np.sum(x)) # 모든 요소를 더한 값 (1 + 2 + 3 + 4)\n",
    "print(np.sum(x, axis = 0)) # 행 (0번째) 방향으로 더하기\n",
    "print(np.sum(x, axis = 1)) # 열 (1번째) 방향으로 더하기"
   ]
  },
  {
   "cell_type": "markdown",
   "metadata": {},
   "source": [
    "numpy가 제공하는 수학 함수의 전체 목록은 [여기](https://docs.scipy.org/doc/numpy/reference/routines.math.html)에서 찾을 수 있습니다.\n",
    "\n",
    "배열을 사용하여 수학 함수를 계산하는 것 외에도 배열의 데이터를 변형하거나 조작해야하는 경우가 자주 있습니다.\n",
    "\n",
    "이 유형의 연산 중 가장 간단한 예제는 행렬을 전치(transpose) 하는 것입니다. 행렬을 transpose 하려면 단순히 배열 객체의 T 속성을 사용하십시오."
   ]
  },
  {
   "cell_type": "code",
   "execution_count": 45,
   "metadata": {},
   "outputs": [
    {
     "name": "stdout",
     "output_type": "stream",
     "text": [
      "[[1 1]\n",
      " [2 2]]\n",
      "[[1 2]\n",
      " [1 2]]\n",
      "[1 2 3]\n",
      "[1 2 3]\n"
     ]
    }
   ],
   "source": [
    "x = np.array([[1, 1], [2, 2]])    # 행렬\n",
    "print(x)\n",
    "print(x.T)                        # 행과 열의 값이 뒤바뀜\n",
    "\n",
    "v = np.array([1, 2, 3])          # 1차원 벡터\n",
    "print(v)\n",
    "print(v.T)                       # 벡터는 transpose해도 똑같은 하나의 행으로 나타남"
   ]
  },
  {
   "cell_type": "markdown",
   "metadata": {},
   "source": [
    "Numpy는 배열 조작을 위한 많은 함수를 제공합니다. [여기](https://docs.scipy.org/doc/numpy/reference/routines.array-manipulation.html)에서 전체 목록을 볼 수 있습니다."
   ]
  }
 ],
 "metadata": {
  "kernelspec": {
   "display_name": "Python 3",
   "language": "python",
   "name": "python3"
  },
  "language_info": {
   "codemirror_mode": {
    "name": "ipython",
    "version": 3
   },
   "file_extension": ".py",
   "mimetype": "text/x-python",
   "name": "python",
   "nbconvert_exporter": "python",
   "pygments_lexer": "ipython3",
   "version": "3.7.6"
  }
 },
 "nbformat": 4,
 "nbformat_minor": 2
}
